{
  "cells": [
    {
      "cell_type": "markdown",
      "metadata": {
        "id": "view-in-github",
        "colab_type": "text"
      },
      "source": [
        "<a href=\"https://colab.research.google.com/github/sumaiyababar/Agentless-Security-Approach-For-Iot-Devices/blob/main/Logistic_Regression_of_attackcsv.ipynb\" target=\"_parent\"><img src=\"https://colab.research.google.com/assets/colab-badge.svg\" alt=\"Open In Colab\"/></a>"
      ]
    },
    {
      "cell_type": "code",
      "execution_count": 1,
      "metadata": {
        "id": "TcdFu0F25FJc",
        "colab": {
          "base_uri": "https://localhost:8080/"
        },
        "outputId": "8201ecd8-e8b1-4b9b-a7d5-89e6b939d6f5"
      },
      "outputs": [
        {
          "output_type": "stream",
          "name": "stdout",
          "text": [
            "Mounted at /content/drive\n"
          ]
        }
      ],
      "source": [
        "from google.colab import drive\n",
        "drive.mount('/content/drive')"
      ]
    },
    {
      "cell_type": "code",
      "execution_count": 2,
      "metadata": {
        "id": "gqbbDYwx5Us3"
      },
      "outputs": [],
      "source": [
        "!cp -r /content/drive/MyDrive/ICUDatasetProcessed ."
      ]
    },
    {
      "cell_type": "code",
      "execution_count": 3,
      "metadata": {
        "id": "pOhWL1eJ5wSt"
      },
      "outputs": [],
      "source": [
        "import numpy as np  \n",
        "import pandas as pd\n",
        "import os \n",
        "from sklearn.model_selection import train_test_split\n",
        "from sklearn.datasets import make_classification\n",
        "from matplotlib import pyplot as plt\n",
        "from sklearn.linear_model import LogisticRegression\n",
        "from sklearn.model_selection import train_test_split\n",
        "from sklearn.metrics import confusion_matrix\n",
        "from sklearn.metrics import accuracy_score\n",
        "import pandas as pd"
      ]
    },
    {
      "cell_type": "code",
      "execution_count": 18,
      "metadata": {
        "colab": {
          "base_uri": "https://localhost:8080/"
        },
        "id": "qiJAp17Q52qv",
        "outputId": "f553282a-b7ed-406f-a5c4-9214e5fab188"
      },
      "outputs": [
        {
          "output_type": "stream",
          "name": "stderr",
          "text": [
            "/usr/local/lib/python3.7/dist-packages/IPython/core/interactiveshell.py:2882: DtypeWarning: Columns (28,30,37,42) have mixed types.Specify dtype option on import or set low_memory=False.\n",
            "  exec(code_obj, self.user_global_ns, self.user_ns)\n"
          ]
        },
        {
          "output_type": "execute_result",
          "data": {
            "text/plain": [
              "Index(['frame.time_delta', 'frame.time_relative', 'frame.len', 'ip.src',\n",
              "       'ip.dst', 'tcp.srcport', 'tcp.dstport', 'ip.proto', 'ip.ttl',\n",
              "       'tcp.flags', 'tcp.time_delta', 'tcp.len', 'tcp.ack',\n",
              "       'tcp.connection.fin', 'tcp.connection.rst', 'tcp.connection.synack',\n",
              "       'tcp.connection.syn', 'tcp.flags.ack', 'tcp.flags.fin',\n",
              "       'tcp.flags.push', 'tcp.flags.reset', 'tcp.flags.syn', 'tcp.flags.urg',\n",
              "       'tcp.hdr_len', 'tcp.payload', 'tcp.pdu.size', 'tcp.window_size_value',\n",
              "       'tcp.checksum', 'mqtt.clientid', 'mqtt.clientid_len',\n",
              "       'mqtt.conack.flags', 'mqtt.conack.val', 'mqtt.conflag.passwd',\n",
              "       'mqtt.conflag.qos', 'mqtt.conflag.reserved', 'mqtt.conflag.retain',\n",
              "       'mqtt.conflag.willflag', 'mqtt.conflags', 'mqtt.dupflag',\n",
              "       'mqtt.hdrflags', 'mqtt.kalive', 'mqtt.len', 'mqtt.msg', 'mqtt.msgtype',\n",
              "       'mqtt.qos', 'mqtt.retain', 'mqtt.topic', 'mqtt.topic_len', 'mqtt.ver',\n",
              "       'mqtt.willmsg_len', 'label'],\n",
              "      dtype='object')"
            ]
          },
          "metadata": {},
          "execution_count": 18
        }
      ],
      "source": [
        "df1 = pd.read_csv('/content/drive/MyDrive/ICUDatasetProcessed/attack.csv')\n",
        "df1.columns"
      ]
    },
    {
      "cell_type": "code",
      "execution_count": 19,
      "metadata": {
        "colab": {
          "base_uri": "https://localhost:8080/"
        },
        "id": "r6ltHwk989bo",
        "outputId": "bc186393-f86f-41e0-8e76-8f8862b74c1e"
      },
      "outputs": [
        {
          "output_type": "execute_result",
          "data": {
            "text/plain": [
              "['patientMonitoring.csv',\n",
              " 'environmentMonitoring.csv',\n",
              " 'attack.csv',\n",
              " 'Attack.csv']"
            ]
          },
          "metadata": {},
          "execution_count": 19
        }
      ],
      "source": [
        "import os\n",
        "path = 'ICUDatasetProcessed/'\n",
        "csvs = os.listdir(path)\n",
        "csvs"
      ]
    },
    {
      "cell_type": "code",
      "execution_count": 20,
      "metadata": {
        "id": "qpryafmMpO_f",
        "colab": {
          "base_uri": "https://localhost:8080/",
          "height": 300
        },
        "outputId": "71a674b2-e1d4-4280-f83a-189bcf21f1ea"
      },
      "outputs": [
        {
          "output_type": "execute_result",
          "data": {
            "text/html": [
              "\n",
              "  <div id=\"df-f727602d-0a67-4064-a6f5-20f66988145d\">\n",
              "    <div class=\"colab-df-container\">\n",
              "      <div>\n",
              "<style scoped>\n",
              "    .dataframe tbody tr th:only-of-type {\n",
              "        vertical-align: middle;\n",
              "    }\n",
              "\n",
              "    .dataframe tbody tr th {\n",
              "        vertical-align: top;\n",
              "    }\n",
              "\n",
              "    .dataframe thead th {\n",
              "        text-align: right;\n",
              "    }\n",
              "</style>\n",
              "<table border=\"1\" class=\"dataframe\">\n",
              "  <thead>\n",
              "    <tr style=\"text-align: right;\">\n",
              "      <th></th>\n",
              "      <th>frame.time_delta</th>\n",
              "      <th>frame.time_relative</th>\n",
              "      <th>frame.len</th>\n",
              "      <th>ip.src</th>\n",
              "      <th>ip.dst</th>\n",
              "      <th>tcp.srcport</th>\n",
              "      <th>tcp.dstport</th>\n",
              "      <th>ip.proto</th>\n",
              "      <th>ip.ttl</th>\n",
              "      <th>tcp.flags</th>\n",
              "      <th>...</th>\n",
              "      <th>mqtt.len</th>\n",
              "      <th>mqtt.msg</th>\n",
              "      <th>mqtt.msgtype</th>\n",
              "      <th>mqtt.qos</th>\n",
              "      <th>mqtt.retain</th>\n",
              "      <th>mqtt.topic</th>\n",
              "      <th>mqtt.topic_len</th>\n",
              "      <th>mqtt.ver</th>\n",
              "      <th>mqtt.willmsg_len</th>\n",
              "      <th>label</th>\n",
              "    </tr>\n",
              "  </thead>\n",
              "  <tbody>\n",
              "    <tr>\n",
              "      <th>0</th>\n",
              "      <td>0.000000</td>\n",
              "      <td>0.000000</td>\n",
              "      <td>78</td>\n",
              "      <td>192.168.1.90</td>\n",
              "      <td>192.168.1.91</td>\n",
              "      <td>55363</td>\n",
              "      <td>1883</td>\n",
              "      <td>6</td>\n",
              "      <td>64</td>\n",
              "      <td>0x00000002</td>\n",
              "      <td>...</td>\n",
              "      <td>0</td>\n",
              "      <td>0</td>\n",
              "      <td>0</td>\n",
              "      <td>0</td>\n",
              "      <td>0</td>\n",
              "      <td>0</td>\n",
              "      <td>0</td>\n",
              "      <td>0</td>\n",
              "      <td>0</td>\n",
              "      <td>1</td>\n",
              "    </tr>\n",
              "    <tr>\n",
              "      <th>1</th>\n",
              "      <td>0.026297</td>\n",
              "      <td>0.026297</td>\n",
              "      <td>66</td>\n",
              "      <td>192.168.1.91</td>\n",
              "      <td>192.168.1.90</td>\n",
              "      <td>1883</td>\n",
              "      <td>55363</td>\n",
              "      <td>6</td>\n",
              "      <td>128</td>\n",
              "      <td>0x00000012</td>\n",
              "      <td>...</td>\n",
              "      <td>0</td>\n",
              "      <td>0</td>\n",
              "      <td>0</td>\n",
              "      <td>0</td>\n",
              "      <td>0</td>\n",
              "      <td>0</td>\n",
              "      <td>0</td>\n",
              "      <td>0</td>\n",
              "      <td>0</td>\n",
              "      <td>1</td>\n",
              "    </tr>\n",
              "    <tr>\n",
              "      <th>2</th>\n",
              "      <td>0.000095</td>\n",
              "      <td>0.026392</td>\n",
              "      <td>54</td>\n",
              "      <td>192.168.1.90</td>\n",
              "      <td>192.168.1.91</td>\n",
              "      <td>55363</td>\n",
              "      <td>1883</td>\n",
              "      <td>6</td>\n",
              "      <td>64</td>\n",
              "      <td>0x00000010</td>\n",
              "      <td>...</td>\n",
              "      <td>0</td>\n",
              "      <td>0</td>\n",
              "      <td>0</td>\n",
              "      <td>0</td>\n",
              "      <td>0</td>\n",
              "      <td>0</td>\n",
              "      <td>0</td>\n",
              "      <td>0</td>\n",
              "      <td>0</td>\n",
              "      <td>1</td>\n",
              "    </tr>\n",
              "    <tr>\n",
              "      <th>3</th>\n",
              "      <td>0.000300</td>\n",
              "      <td>0.026692</td>\n",
              "      <td>68</td>\n",
              "      <td>192.168.1.90</td>\n",
              "      <td>192.168.1.91</td>\n",
              "      <td>55363</td>\n",
              "      <td>1883</td>\n",
              "      <td>6</td>\n",
              "      <td>64</td>\n",
              "      <td>0x00000018</td>\n",
              "      <td>...</td>\n",
              "      <td>12</td>\n",
              "      <td>0</td>\n",
              "      <td>1</td>\n",
              "      <td>0</td>\n",
              "      <td>0</td>\n",
              "      <td>0</td>\n",
              "      <td>0</td>\n",
              "      <td>4</td>\n",
              "      <td>0</td>\n",
              "      <td>1</td>\n",
              "    </tr>\n",
              "    <tr>\n",
              "      <th>4</th>\n",
              "      <td>0.001360</td>\n",
              "      <td>0.028052</td>\n",
              "      <td>60</td>\n",
              "      <td>192.168.1.91</td>\n",
              "      <td>192.168.1.90</td>\n",
              "      <td>1883</td>\n",
              "      <td>55363</td>\n",
              "      <td>6</td>\n",
              "      <td>128</td>\n",
              "      <td>0x00000018</td>\n",
              "      <td>...</td>\n",
              "      <td>2</td>\n",
              "      <td>0</td>\n",
              "      <td>2</td>\n",
              "      <td>0</td>\n",
              "      <td>0</td>\n",
              "      <td>0</td>\n",
              "      <td>0</td>\n",
              "      <td>0</td>\n",
              "      <td>0</td>\n",
              "      <td>1</td>\n",
              "    </tr>\n",
              "  </tbody>\n",
              "</table>\n",
              "<p>5 rows × 51 columns</p>\n",
              "</div>\n",
              "      <button class=\"colab-df-convert\" onclick=\"convertToInteractive('df-f727602d-0a67-4064-a6f5-20f66988145d')\"\n",
              "              title=\"Convert this dataframe to an interactive table.\"\n",
              "              style=\"display:none;\">\n",
              "        \n",
              "  <svg xmlns=\"http://www.w3.org/2000/svg\" height=\"24px\"viewBox=\"0 0 24 24\"\n",
              "       width=\"24px\">\n",
              "    <path d=\"M0 0h24v24H0V0z\" fill=\"none\"/>\n",
              "    <path d=\"M18.56 5.44l.94 2.06.94-2.06 2.06-.94-2.06-.94-.94-2.06-.94 2.06-2.06.94zm-11 1L8.5 8.5l.94-2.06 2.06-.94-2.06-.94L8.5 2.5l-.94 2.06-2.06.94zm10 10l.94 2.06.94-2.06 2.06-.94-2.06-.94-.94-2.06-.94 2.06-2.06.94z\"/><path d=\"M17.41 7.96l-1.37-1.37c-.4-.4-.92-.59-1.43-.59-.52 0-1.04.2-1.43.59L10.3 9.45l-7.72 7.72c-.78.78-.78 2.05 0 2.83L4 21.41c.39.39.9.59 1.41.59.51 0 1.02-.2 1.41-.59l7.78-7.78 2.81-2.81c.8-.78.8-2.07 0-2.86zM5.41 20L4 18.59l7.72-7.72 1.47 1.35L5.41 20z\"/>\n",
              "  </svg>\n",
              "      </button>\n",
              "      \n",
              "  <style>\n",
              "    .colab-df-container {\n",
              "      display:flex;\n",
              "      flex-wrap:wrap;\n",
              "      gap: 12px;\n",
              "    }\n",
              "\n",
              "    .colab-df-convert {\n",
              "      background-color: #E8F0FE;\n",
              "      border: none;\n",
              "      border-radius: 50%;\n",
              "      cursor: pointer;\n",
              "      display: none;\n",
              "      fill: #1967D2;\n",
              "      height: 32px;\n",
              "      padding: 0 0 0 0;\n",
              "      width: 32px;\n",
              "    }\n",
              "\n",
              "    .colab-df-convert:hover {\n",
              "      background-color: #E2EBFA;\n",
              "      box-shadow: 0px 1px 2px rgba(60, 64, 67, 0.3), 0px 1px 3px 1px rgba(60, 64, 67, 0.15);\n",
              "      fill: #174EA6;\n",
              "    }\n",
              "\n",
              "    [theme=dark] .colab-df-convert {\n",
              "      background-color: #3B4455;\n",
              "      fill: #D2E3FC;\n",
              "    }\n",
              "\n",
              "    [theme=dark] .colab-df-convert:hover {\n",
              "      background-color: #434B5C;\n",
              "      box-shadow: 0px 1px 3px 1px rgba(0, 0, 0, 0.15);\n",
              "      filter: drop-shadow(0px 1px 2px rgba(0, 0, 0, 0.3));\n",
              "      fill: #FFFFFF;\n",
              "    }\n",
              "  </style>\n",
              "\n",
              "      <script>\n",
              "        const buttonEl =\n",
              "          document.querySelector('#df-f727602d-0a67-4064-a6f5-20f66988145d button.colab-df-convert');\n",
              "        buttonEl.style.display =\n",
              "          google.colab.kernel.accessAllowed ? 'block' : 'none';\n",
              "\n",
              "        async function convertToInteractive(key) {\n",
              "          const element = document.querySelector('#df-f727602d-0a67-4064-a6f5-20f66988145d');\n",
              "          const dataTable =\n",
              "            await google.colab.kernel.invokeFunction('convertToInteractive',\n",
              "                                                     [key], {});\n",
              "          if (!dataTable) return;\n",
              "\n",
              "          const docLinkHtml = 'Like what you see? Visit the ' +\n",
              "            '<a target=\"_blank\" href=https://colab.research.google.com/notebooks/data_table.ipynb>data table notebook</a>'\n",
              "            + ' to learn more about interactive tables.';\n",
              "          element.innerHTML = '';\n",
              "          dataTable['output_type'] = 'display_data';\n",
              "          await google.colab.output.renderOutput(dataTable, element);\n",
              "          const docLink = document.createElement('div');\n",
              "          docLink.innerHTML = docLinkHtml;\n",
              "          element.appendChild(docLink);\n",
              "        }\n",
              "      </script>\n",
              "    </div>\n",
              "  </div>\n",
              "  "
            ],
            "text/plain": [
              "   frame.time_delta  frame.time_relative  frame.len        ip.src  \\\n",
              "0          0.000000             0.000000         78  192.168.1.90   \n",
              "1          0.026297             0.026297         66  192.168.1.91   \n",
              "2          0.000095             0.026392         54  192.168.1.90   \n",
              "3          0.000300             0.026692         68  192.168.1.90   \n",
              "4          0.001360             0.028052         60  192.168.1.91   \n",
              "\n",
              "         ip.dst  tcp.srcport  tcp.dstport  ip.proto  ip.ttl   tcp.flags  ...  \\\n",
              "0  192.168.1.91        55363         1883         6      64  0x00000002  ...   \n",
              "1  192.168.1.90         1883        55363         6     128  0x00000012  ...   \n",
              "2  192.168.1.91        55363         1883         6      64  0x00000010  ...   \n",
              "3  192.168.1.91        55363         1883         6      64  0x00000018  ...   \n",
              "4  192.168.1.90         1883        55363         6     128  0x00000018  ...   \n",
              "\n",
              "   mqtt.len  mqtt.msg  mqtt.msgtype  mqtt.qos  mqtt.retain  mqtt.topic  \\\n",
              "0         0         0             0         0            0           0   \n",
              "1         0         0             0         0            0           0   \n",
              "2         0         0             0         0            0           0   \n",
              "3        12         0             1         0            0           0   \n",
              "4         2         0             2         0            0           0   \n",
              "\n",
              "   mqtt.topic_len  mqtt.ver  mqtt.willmsg_len  label  \n",
              "0               0         0                 0      1  \n",
              "1               0         0                 0      1  \n",
              "2               0         0                 0      1  \n",
              "3               0         4                 0      1  \n",
              "4               0         0                 0      1  \n",
              "\n",
              "[5 rows x 51 columns]"
            ]
          },
          "metadata": {},
          "execution_count": 20
        }
      ],
      "source": [
        "df1.head()"
      ]
    },
    {
      "cell_type": "code",
      "execution_count": 21,
      "metadata": {
        "colab": {
          "base_uri": "https://localhost:8080/"
        },
        "id": "Sls9UiSE-h0d",
        "outputId": "e48bc124-38e7-4f39-9fcc-840fa1cacc9a"
      },
      "outputs": [
        {
          "output_type": "stream",
          "name": "stdout",
          "text": [
            "---- Reading patientMonitoring.csv ----\n"
          ]
        },
        {
          "output_type": "stream",
          "name": "stderr",
          "text": [
            "/usr/local/lib/python3.7/dist-packages/IPython/core/interactiveshell.py:2882: DtypeWarning: Columns (26,28,35) have mixed types.Specify dtype option on import or set low_memory=False.\n",
            "  exec(code_obj, self.user_global_ns, self.user_ns)\n"
          ]
        },
        {
          "output_type": "stream",
          "name": "stdout",
          "text": [
            "df.shape: (76810, 52)\n",
            "empty_cols: 0\n",
            "[]\n",
            "df1.shape: (76810, 52)\n",
            "---- Reading environmentMonitoring.csv ----\n",
            "df.shape: (31758, 52)\n",
            "empty_cols: 0\n",
            "[]\n",
            "df1.shape: (108568, 52)\n",
            "---- Reading attack.csv ----\n"
          ]
        },
        {
          "output_type": "stream",
          "name": "stderr",
          "text": [
            "/usr/local/lib/python3.7/dist-packages/IPython/core/interactiveshell.py:2882: DtypeWarning: Columns (28,30,37,42) have mixed types.Specify dtype option on import or set low_memory=False.\n",
            "  exec(code_obj, self.user_global_ns, self.user_ns)\n"
          ]
        },
        {
          "output_type": "stream",
          "name": "stdout",
          "text": [
            "df.shape: (164850, 51)\n",
            "empty_cols: 0\n",
            "[]\n",
            "df1.shape: (273418, 53)\n",
            "---- Reading Attack.csv ----\n",
            "df.shape: (80126, 52)\n",
            "empty_cols: 0\n",
            "[]\n",
            "df1.shape: (353544, 53)\n"
          ]
        }
      ],
      "source": [
        "#data cleaning\n",
        "import pandas as pd\n",
        "\n",
        "df1 = pd.DataFrame()\n",
        "\n",
        "for csv in csvs:\n",
        "  print(f'---- Reading {csv} ----')\n",
        "  df = pd.read_csv(path+csv)\n",
        "  print(f'df.shape: {df.shape}')\n",
        "  empty_cols = [col for col in df.columns if df[col].isnull().all()]\n",
        "  print(f'empty_cols: {len(empty_cols)}')\n",
        "  print(empty_cols)\n",
        "  df.fillna(0, inplace=True)\n",
        "  df1 = df1.append(df, ignore_index=True)\n",
        "  print(f'df1.shape: {df1.shape}')"
      ]
    },
    {
      "cell_type": "code",
      "execution_count": 22,
      "metadata": {
        "colab": {
          "base_uri": "https://localhost:8080/",
          "height": 296
        },
        "id": "-w1qd_ZIqldK",
        "outputId": "95bae38a-d04d-4c1c-9280-5a652b02c047"
      },
      "outputs": [
        {
          "output_type": "execute_result",
          "data": {
            "text/plain": [
              "<matplotlib.axes._subplots.AxesSubplot at 0x7f2aac1f25d0>"
            ]
          },
          "metadata": {},
          "execution_count": 22
        },
        {
          "output_type": "display_data",
          "data": {
            "image/png": "[encoded data removed]",
            "text/plain": [
              "<Figure size 432x288 with 1 Axes>"
            ]
          },
          "metadata": {
            "needs_background": "light"
          }
        }
      ],
      "source": [
        "#Data Visualization\n",
        "\n",
        "import seaborn as s\n",
        "s.countplot(x='label',data=df1)"
      ]
    },
    {
      "cell_type": "code",
      "execution_count": 23,
      "metadata": {
        "id": "BEdsMYB-AQL1"
      },
      "outputs": [],
      "source": [
        "feats = ['ip.src', 'ip.dst', 'tcp.srcport', 'tcp.dstport','mqtt.topic', 'mqtt.msg', 'tcp.payload','mqtt.clientid', 'mqtt.conflags', 'mqtt.conack.flags','class']"
      ]
    },
    {
      "cell_type": "code",
      "execution_count": 24,
      "metadata": {
        "colab": {
          "base_uri": "https://localhost:8080/"
        },
        "id": "uHLfPYfrATDv",
        "outputId": "f459d423-b82c-4762-e8f8-5d072135850d"
      },
      "outputs": [
        {
          "output_type": "execute_result",
          "data": {
            "text/plain": [
              "(353544, 42)"
            ]
          },
          "metadata": {},
          "execution_count": 24
        }
      ],
      "source": [
        "df1.drop(labels=feats, axis=1, inplace=True)\n",
        "df1.shape"
      ]
    },
    {
      "cell_type": "code",
      "execution_count": 25,
      "metadata": {
        "id": "IB03r9KwBLS_"
      },
      "outputs": [],
      "source": [
        "fs1 =  ['frame.time_delta', 'tcp.flags', 'tcp.time_delta', 'tcp.connection.rst', 'tcp.flags.ack', 'tcp.flags.push', 'tcp.flags.reset', 'tcp.hdr_len', \n",
        "        'mqtt.clientid_len', 'mqtt.hdrflags', 'mqtt.msgtype', 'mqtt.qos', 'mqtt.ver', 'ip.proto', 'ip.ttl', 'label']\n",
        "fs2 = ['frame.time_delta', 'tcp.time_delta', 'tcp.flags.ack', 'tcp.flags.push', 'tcp.flags.reset', 'mqtt.hdrflags', 'mqtt.msgtype', 'mqtt.qos', 'mqtt.retain', 'mqtt.ver', 'label']"
      ]
    },
    {
      "cell_type": "code",
      "execution_count": 26,
      "metadata": {
        "colab": {
          "base_uri": "https://localhost:8080/"
        },
        "id": "cOjvutxnBROK",
        "outputId": "285b1862-fe5b-431d-b8c8-5d1f395df56a"
      },
      "outputs": [
        {
          "output_type": "execute_result",
          "data": {
            "text/plain": [
              "(353544, 11)"
            ]
          },
          "metadata": {},
          "execution_count": 26
        }
      ],
      "source": [
        "df1 = df1[fs2]\n",
        "df1.shape"
      ]
    },
    {
      "cell_type": "code",
      "execution_count": 27,
      "metadata": {
        "colab": {
          "base_uri": "https://localhost:8080/"
        },
        "id": "n_pLWD8EBUB3",
        "outputId": "c664d208-b45d-4e0f-9dad-f41293a7b05f"
      },
      "outputs": [
        {
          "output_type": "execute_result",
          "data": {
            "text/plain": [
              "4    130223\n",
              "0    108568\n",
              "1     94627\n",
              "3     10924\n",
              "2      9202\n",
              "Name: label, dtype: int64"
            ]
          },
          "metadata": {},
          "execution_count": 27
        }
      ],
      "source": [
        "df1['label'].value_counts()"
      ]
    },
    {
      "cell_type": "code",
      "execution_count": 28,
      "metadata": {
        "id": "frMfOdIm8NOz"
      },
      "outputs": [],
      "source": [
        "x, y= make_classification(\n",
        "    n_samples=230125,\n",
        "    n_features=11,\n",
        "    n_classes=5,\n",
        "    n_clusters_per_class=1,\n",
        "    flip_y=0.03,\n",
        "    n_informative=4,\n",
        "    n_redundant=0,\n",
        "    n_repeated=0\n",
        ")"
      ]
    },
    {
      "cell_type": "code",
      "execution_count": 29,
      "metadata": {
        "id": "ErrwAvCPq01h"
      },
      "outputs": [],
      "source": [
        "# Split the dataset into training and test dataset\n",
        "x_train, x_test, y_train, y_test = train_test_split(x, y, random_state=1)"
      ]
    },
    {
      "cell_type": "code",
      "execution_count": 30,
      "metadata": {
        "colab": {
          "base_uri": "https://localhost:8080/"
        },
        "id": "4vSOzfwAq4CI",
        "outputId": "12edcf7b-69ff-4665-87c2-edd35a18ad2d"
      },
      "outputs": [
        {
          "output_type": "execute_result",
          "data": {
            "text/plain": [
              "(172593, 11)"
            ]
          },
          "metadata": {},
          "execution_count": 30
        }
      ],
      "source": [
        "x_train.shape"
      ]
    },
    {
      "cell_type": "code",
      "execution_count": 31,
      "metadata": {
        "colab": {
          "base_uri": "https://localhost:8080/"
        },
        "id": "DnzZTOR9q5ln",
        "outputId": "dbc3083e-5d7f-441b-b08a-373c44940a05"
      },
      "outputs": [
        {
          "output_type": "execute_result",
          "data": {
            "text/plain": [
              "LogisticRegression()"
            ]
          },
          "metadata": {},
          "execution_count": 31
        }
      ],
      "source": [
        "# Create a Logistic Regression Object, perform Logistic Regression\n",
        "log_reg = LogisticRegression()\n",
        "log_reg.fit(x_train, y_train)"
      ]
    },
    {
      "cell_type": "code",
      "execution_count": 32,
      "metadata": {
        "colab": {
          "base_uri": "https://localhost:8080/"
        },
        "id": "6vHn0fHQrQ_U",
        "outputId": "511b0e06-9361-4434-8fb3-a280ab91c423"
      },
      "outputs": [
        {
          "output_type": "execute_result",
          "data": {
            "text/plain": [
              "LogisticRegression(multi_class='multinomial', n_jobs=1)"
            ]
          },
          "metadata": {},
          "execution_count": 32
        }
      ],
      "source": [
        "LogisticRegression(C=1.0, class_weight=None, dual=False, fit_intercept=True,\n",
        "          intercept_scaling=1, max_iter=100, multi_class='multinomial', n_jobs=1,\n",
        "          penalty='l2', random_state=None, solver='lbfgs', tol=0.0001,\n",
        "          verbose=0, warm_start=False)"
      ]
    },
    {
      "cell_type": "code",
      "execution_count": 33,
      "metadata": {
        "colab": {
          "base_uri": "https://localhost:8080/"
        },
        "id": "4sNSMWkcrSvO",
        "outputId": "0bc8a9be-1ff1-46ac-ed59-7dfa84cb8062"
      },
      "outputs": [
        {
          "output_type": "stream",
          "name": "stdout",
          "text": [
            "[[-3.56522704e-01  8.57020724e-01 -3.66209846e-03  1.53949370e-03\n",
            "  -6.59902153e-01 -6.26221586e-03 -1.50349607e+00 -6.35899511e-03\n",
            "   1.64123311e-03 -2.48718998e-03 -8.17735116e-04]\n",
            " [ 2.12470180e+00  1.26033549e-01  2.07531335e-02 -1.59406410e-03\n",
            "  -2.59833979e+00 -7.01700119e-03  4.85428634e-01 -7.21537031e-03\n",
            "   1.08077610e-02  4.69065327e-03 -1.55561636e-02]\n",
            " [-1.64916234e-01 -9.82446637e-01  3.97389749e-03  6.39669005e-03\n",
            "  -3.78501529e-01  4.55346520e-03  1.50452865e-01  7.61715969e-03\n",
            "  -6.13255323e-03  2.43340628e-03  1.89389407e-03]\n",
            " [-8.53315512e-01  9.38312886e-01 -6.28925995e-03 -2.90467423e-03\n",
            "   2.42903734e+00 -3.72286511e-04  4.80152378e-01  4.06999801e-03\n",
            "  -3.04824110e-03 -1.08146313e-02  7.85742963e-03]\n",
            " [-7.49947346e-01 -9.38920522e-01 -1.47756725e-02 -3.43744541e-03\n",
            "   1.20770613e+00  9.09803836e-03  3.87462196e-01  1.88720772e-03\n",
            "  -3.26819981e-03  6.17776172e-03  6.62257504e-03]]\n",
            "[ 0.45440483 -1.29808604  1.19320182 -0.78799402  0.43847342]\n"
          ]
        }
      ],
      "source": [
        "\n",
        "# Show to Coeficient and Intercept\n",
        "print(log_reg.coef_)\n",
        "print(log_reg.intercept_)"
      ]
    },
    {
      "cell_type": "code",
      "execution_count": 34,
      "metadata": {
        "id": "6WzpPQrTrhTo"
      },
      "outputs": [],
      "source": [
        "y_pred=log_reg.predict(x_test)"
      ]
    },
    {
      "cell_type": "code",
      "execution_count": 35,
      "metadata": {
        "colab": {
          "base_uri": "https://localhost:8080/"
        },
        "id": "tTiHArrArlCw",
        "outputId": "a1be10a5-32a9-4056-ade3-f05b78f4091d"
      },
      "outputs": [
        {
          "output_type": "execute_result",
          "data": {
            "text/plain": [
              "array([[10020,   734,   272,   441,   123],\n",
              "       [  427, 10234,   665,    60,    95],\n",
              "       [  482,   351,  8568,  1093,   878],\n",
              "       [  290,   147,   111,  9176,  1768],\n",
              "       [  186,   525,  1406,   752,  8728]])"
            ]
          },
          "metadata": {},
          "execution_count": 35
        }
      ],
      "source": [
        "# Show the Confusion Matrix\n",
        "confusion_matrix(y_test, y_pred)"
      ]
    },
    {
      "cell_type": "code",
      "execution_count": 36,
      "metadata": {
        "colab": {
          "base_uri": "https://localhost:8080/"
        },
        "id": "sUv2005pryvp",
        "outputId": "01551899-22a2-4215-e011-c9e9279f03a8"
      },
      "outputs": [
        {
          "output_type": "stream",
          "name": "stdout",
          "text": [
            "Accuracy is 0.81217409441702 \n"
          ]
        }
      ],
      "source": [
        "print('Accuracy is {} '.format(accuracy_score(y_test, y_pred)))"
      ]
    },
    {
      "cell_type": "code",
      "source": [
        "from sklearn.metrics import precision_score, recall_score, f1_score, accuracy_score"
      ],
      "metadata": {
        "id": "uXJMyTO8HZjN"
      },
      "execution_count": 38,
      "outputs": []
    },
    {
      "cell_type": "code",
      "source": [
        "print('Accuracy is {} '.format(recall_score(y_test, y_pred,pos_label='positive',average='micro')))"
      ],
      "metadata": {
        "id": "2q8KvEpAHTr4"
      },
      "execution_count": null,
      "outputs": []
    },
    {
      "cell_type": "code",
      "source": [
        "from sklearn.naive_bayes import GaussianNB\n",
        "from sklearn.neighbors import KNeighborsClassifier\n",
        "from sklearn.ensemble import RandomForestClassifier, AdaBoostClassifier\n",
        "from sklearn import linear_model #Linear Regression\n",
        "#from sklearn.linear_model import LogisticRegression\n",
        "from sklearn.tree import DecisionTreeClassifier\n",
        "from sklearn.svm import SVC   #SVM\n",
        "\n",
        "from sklearn.metrics import confusion_matrix  \n",
        "from sklearn.metrics import precision_score, recall_score, f1_score, accuracy_score\n",
        "from sklearn.metrics import classification_report"
      ],
      "metadata": {
        "id": "paogrs_EN82q"
      },
      "execution_count": 43,
      "outputs": []
    },
    {
      "cell_type": "code",
      "source": [
        "\n",
        "print('--------Applying KNeighborsClassifier Classifier ----------')\n",
        "KNN_model = KNeighborsClassifier(n_neighbors=5)\n",
        "KNN_model.fit(x_train, y_train)\n",
        "KNN_prediction = KNN_model.predict(x_test)\n",
        "\n",
        "print('--------Applying RandomForestClassifier Classifier ----------')\n",
        "RF = RandomForestClassifier(max_depth=10, random_state=100)  \n",
        "RF.fit(x_train, y_train)\n",
        "RF_prediction = RF.predict(x_test)\n",
        "\n",
        "print('--------Applying AdaBoostClassifier Classifier ----------')\n",
        "AB = AdaBoostClassifier()\n",
        "AB.fit(x_train, y_train)\n",
        "AB_prediction = AB.predict(x_test)\n",
        "\n",
        "\n",
        "print('--------Applying LogisticRegression Classifier ----------')\n",
        "#LogR = LogisticRegression()\n",
        "LogR = linear_model.LogisticRegression()\n",
        "LogR.fit(x_train, y_train)\n",
        "LogR_prediction = LogR.predict(x_test)\n",
        "\n",
        "\n",
        "print('--------Applying DecisionTree Classifier ----------')\n",
        "DT = DecisionTreeClassifier(criterion = \"gini\", random_state = 100, max_depth=10, min_samples_leaf=5)\n",
        "DT.fit(x_train, y_train)\n",
        "DT_prediction = DT.predict(x_test)\n",
        "\n",
        "\n"
      ],
      "metadata": {
        "colab": {
          "base_uri": "https://localhost:8080/"
        },
        "id": "t_jzUrmyOOEV",
        "outputId": "b82620dd-47ef-46e7-96cf-a4192776295e"
      },
      "execution_count": 44,
      "outputs": [
        {
          "output_type": "stream",
          "name": "stdout",
          "text": [
            "--------Applying KNeighborsClassifier Classifier ----------\n",
            "--------Applying RandomForestClassifier Classifier ----------\n",
            "--------Applying AdaBoostClassifier Classifier ----------\n",
            "--------Applying LogisticRegression Classifier ----------\n",
            "--------Applying DecisionTree Classifier ----------\n"
          ]
        }
      ]
    },
    {
      "cell_type": "code",
      "source": [
        "print('-------Performance Evaluation----------')\n",
        "#precision_score, recall_score, f1_score, accuracy_score\n",
        "results = []\n",
        "selector = 'LR'\n",
        "results.append((selector,'','', '',''))\n",
        "results.append(('Classifier','Accuracy','Precision', 'Recall','F1-Score'))\n",
        "\n",
        "results.append(('KNN ', accuracy_score(y_test, KNN_prediction)*100,\n",
        "                precision_score(y_test, KNN_prediction,average='micro')*100,\n",
        "                recall_score(y_test, KNN_prediction,average='micro')*100,\n",
        "                f1_score(y_test, KNN_prediction,average='micro')*100))\n",
        "results.append(('RF ', accuracy_score(y_test,  RF_prediction)*100,\n",
        "                precision_score(y_test,  RF_prediction,average='micro')*100,\n",
        "                recall_score(y_test,  RF_prediction,average='micro')*100,\n",
        "                f1_score(y_test,  RF_prediction,average='micro')*100))\n",
        "results.append(('AB ', accuracy_score(y_test,  AB_prediction)*100,\n",
        "                precision_score(y_test,  AB_prediction,average='micro')*100,\n",
        "                recall_score(y_test,  AB_prediction,average='micro')*100,\n",
        "                f1_score(y_test,  AB_prediction,average='micro')*100))\n",
        "results.append(('LogR ', accuracy_score(y_test,  LogR_prediction)*100,\n",
        "                precision_score(y_test,  LogR_prediction,average='micro')*100,\n",
        "                recall_score(y_test,  LogR_prediction,average='micro')*100,\n",
        "                f1_score(y_test,  LogR_prediction,average='micro')*100))\n",
        "results.append(('DT ', accuracy_score(y_test,  DT_prediction)*100,\n",
        "                precision_score(y_test,  DT_prediction,average='micro')*100,\n",
        "                recall_score(y_test,  DT_prediction,average='micro')*100,\n",
        "                f1_score(y_test,  DT_prediction,average='micro')*100))\n",
        "\n",
        "print('type(results): ', type(results))\n",
        "print('results: ', results)\n",
        "df_results = pd.DataFrame(results)\n",
        "print('type(df_results): ', type(df_results))\n",
        "print('df_results: ', df_results)"
      ],
      "metadata": {
        "colab": {
          "base_uri": "https://localhost:8080/"
        },
        "id": "fa1v2khKQDPa",
        "outputId": "83629c8b-4e5b-4b2d-819e-3b8e1115315c"
      },
      "execution_count": 48,
      "outputs": [
        {
          "output_type": "stream",
          "name": "stdout",
          "text": [
            "-------Performance Evaluation----------\n",
            "type(results):  <class 'list'>\n",
            "results:  [('LR', '', '', '', ''), ('Classifier', 'Accuracy', 'Precision', 'Recall', 'F1-Score'), ('KNN ', 84.25919488284781, 84.25919488284781, 84.25919488284781, 84.25919488284781), ('RF ', 85.75227699367308, 85.75227699367308, 85.75227699367308, 85.75227699367308), ('AB ', 72.18765208927206, 72.18765208927206, 72.18765208927206, 72.18765208927206), ('LogR ', 81.217409441702, 81.217409441702, 81.217409441702, 81.217409441702), ('DT ', 86.45449488980046, 86.45449488980046, 86.45449488980046, 86.45449488980046)]\n",
            "type(df_results):  <class 'pandas.core.frame.DataFrame'>\n",
            "df_results:              0          1          2          3          4\n",
            "0          LR                                            \n",
            "1  Classifier   Accuracy  Precision     Recall   F1-Score\n",
            "2        KNN   84.259195  84.259195  84.259195  84.259195\n",
            "3         RF   85.752277  85.752277  85.752277  85.752277\n",
            "4         AB   72.187652  72.187652  72.187652  72.187652\n",
            "5       LogR   81.217409  81.217409  81.217409  81.217409\n",
            "6         DT   86.454495  86.454495  86.454495  86.454495\n"
          ]
        }
      ]
    },
    {
      "cell_type": "code",
      "source": [
        "print('Confusion Matrix KNN_prediction')\n",
        "print(confusion_matrix(y_test,KNN_prediction))\n",
        "print('Confusion Matrix RF_prediction')\n",
        "print(confusion_matrix(y_test,RF_prediction))\n",
        "print('Confusion Matrix AB_prediction')\n",
        "print(confusion_matrix(y_test,AB_prediction))\n",
        "print('Confusion Matrix LogR_prediction')\n",
        "print(confusion_matrix(y_test,LogR_prediction))\n",
        "print('Confusion Matrix DT_prediction')\n",
        "print(confusion_matrix(y_test,DT_prediction))"
      ],
      "metadata": {
        "colab": {
          "base_uri": "https://localhost:8080/"
        },
        "id": "yuON_A-yMEzj",
        "outputId": "eead8be4-ea32-48fd-bc3b-ec3a2c370df8"
      },
      "execution_count": 49,
      "outputs": [
        {
          "output_type": "stream",
          "name": "stdout",
          "text": [
            "Confusion Matrix KNN_prediction\n",
            "[[10651   448   198   213    80]\n",
            " [  360 10513   430    56   122]\n",
            " [  487   513  8377   916  1079]\n",
            " [  128   160   470  9654  1080]\n",
            " [  113   535   946   722  9281]]\n",
            "Confusion Matrix RF_prediction\n",
            "[[10426   462   254   361    87]\n",
            " [  216 10475   655    58    77]\n",
            " [  384   230  8596  1081  1081]\n",
            " [   77   121   243  9811  1240]\n",
            " [  156   519   401   494 10027]]\n",
            "Confusion Matrix AB_prediction\n",
            "[[9880  569  501  558   82]\n",
            " [1339 8807 1064   68  203]\n",
            " [ 509  756 7478  824 1805]\n",
            " [ 853  342  260 8137 1900]\n",
            " [ 137  438  826 2967 7229]]\n",
            "Confusion Matrix LogR_prediction\n",
            "[[10020   734   272   441   123]\n",
            " [  427 10234   665    60    95]\n",
            " [  482   351  8568  1093   878]\n",
            " [  290   147   111  9176  1768]\n",
            " [  186   525  1406   752  8728]]\n",
            "Confusion Matrix DT_prediction\n",
            "[[10603   380   218   288   101]\n",
            " [  298 10572   403    71   137]\n",
            " [  341   407  8617   912  1095]\n",
            " [  107   114   271  9907  1093]\n",
            " [  126   370   526   535 10040]]\n"
          ]
        }
      ]
    }
  ],
  "metadata": {
    "colab": {
      "collapsed_sections": [],
      "name": "Logistic Regression of attackcsv.ipynb",
      "provenance": [],
      "include_colab_link": true
    },
    "kernelspec": {
      "display_name": "Python 3",
      "name": "python3"
    },
    "language_info": {
      "name": "python"
    }
  },
  "nbformat": 4,
  "nbformat_minor": 0
}