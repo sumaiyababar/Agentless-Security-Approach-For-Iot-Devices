{
  "cells": [
    {
      "cell_type": "markdown",
      "metadata": {
        "id": "view-in-github",
        "colab_type": "text"
      },
      "source": [
        "<a href=\"https://colab.research.google.com/github/sumaiyababar/Agentless-Security-Approach-For-Iot-Devices/blob/main/FeautureSelectionFYP.ipynb\" target=\"_parent\"><img src=\"https://colab.research.google.com/assets/colab-badge.svg\" alt=\"Open In Colab\"/></a>"
      ]
    },
    {
      "cell_type": "code",
      "execution_count": 1,
      "metadata": {
        "colab": {
          "base_uri": "https://localhost:8080/"
        },
        "id": "qh6vnASvWW7l",
        "outputId": "6114f1a4-a070-480d-9abe-6d2762221df3"
      },
      "outputs": [
        {
          "output_type": "stream",
          "name": "stdout",
          "text": [
            "Mounted at /content/drive\n"
          ]
        }
      ],
      "source": [
        "from google.colab import drive\n",
        "drive.mount('/content/drive')"
      ]
    },
    {
      "cell_type": "code",
      "execution_count": 2,
      "metadata": {
        "id": "HBgNrLvkZOx9"
      },
      "outputs": [],
      "source": [
        "!cp -r /content/drive/MyDrive/ICUDatasetProcessed ."
      ]
    },
    {
      "cell_type": "code",
      "execution_count": 3,
      "metadata": {
        "colab": {
          "base_uri": "https://localhost:8080/"
        },
        "id": "xXXkUAvxZgd0",
        "outputId": "3019572a-f1ea-4833-e863-8a219c026956"
      },
      "outputs": [
        {
          "output_type": "execute_result",
          "data": {
            "text/plain": [
              "['environmentMonitoring.csv',\n",
              " '.ipynb_checkpoints',\n",
              " 'attack.csv',\n",
              " 'patientMonitoring.csv',\n",
              " 'Attack.csv']"
            ]
          },
          "metadata": {},
          "execution_count": 3
        }
      ],
      "source": [
        "import os\n",
        "path = 'ICUDatasetProcessed/'\n",
        "csvs = os.listdir(path)\n",
        "csvs"
      ]
    },
    {
      "cell_type": "code",
      "execution_count": 4,
      "metadata": {
        "id": "ElwDEO3pZUqf"
      },
      "outputs": [],
      "source": [
        "import numpy as np  \n",
        "import pandas as pd\n",
        "import os\n",
        "import pickle\n",
        "from sklearn.model_selection import train_test_split\n",
        "from sklearn.datasets import make_classification\n",
        "from matplotlib import pyplot as plt\n",
        "from sklearn.linear_model import LogisticRegression\n",
        "from sklearn.model_selection import train_test_split\n",
        "from sklearn.metrics import confusion_matrix, ConfusionMatrixDisplay\n",
        "from sklearn.metrics import accuracy_score\n"
      ]
    },
    {
      "cell_type": "code",
      "execution_count": 5,
      "metadata": {
        "colab": {
          "base_uri": "https://localhost:8080/"
        },
        "id": "tCYNtOqsZcZY",
        "outputId": "fa1f8a59-efd5-479d-86be-06b97487b28c"
      },
      "outputs": [
        {
          "output_type": "execute_result",
          "data": {
            "text/plain": [
              "Index(['frame.time_delta', 'frame.time_relative', 'frame.len', 'ip.src',\n",
              "       'ip.dst', 'tcp.srcport', 'tcp.dstport', 'ip.proto', 'ip.ttl',\n",
              "       'tcp.flags', 'tcp.time_delta', 'tcp.len', 'tcp.ack',\n",
              "       'tcp.connection.fin', 'tcp.connection.rst', 'tcp.connection.synack',\n",
              "       'tcp.connection.syn', 'tcp.flags.ack', 'tcp.flags.fin',\n",
              "       'tcp.flags.push', 'tcp.flags.reset', 'tcp.flags.syn', 'tcp.flags.urg',\n",
              "       'tcp.hdr_len', 'tcp.payload', 'tcp.pdu.size', 'tcp.window_size_value',\n",
              "       'tcp.checksum', 'mqtt.clientid', 'mqtt.clientid_len',\n",
              "       'mqtt.conack.flags', 'mqtt.conack.val', 'mqtt.conflag.passwd',\n",
              "       'mqtt.conflag.qos', 'mqtt.conflag.reserved', 'mqtt.conflag.retain',\n",
              "       'mqtt.conflag.willflag', 'mqtt.conflags', 'mqtt.dupflag',\n",
              "       'mqtt.hdrflags', 'mqtt.kalive', 'mqtt.len', 'mqtt.msg', 'mqtt.msgtype',\n",
              "       'mqtt.qos', 'mqtt.retain', 'mqtt.topic', 'mqtt.topic_len', 'mqtt.ver',\n",
              "       'mqtt.willmsg_len', 'label'],\n",
              "      dtype='object')"
            ]
          },
          "metadata": {},
          "execution_count": 5
        }
      ],
      "source": [
        "df4 = pd.read_csv('/content/drive/MyDrive/ICUDatasetProcessed/attack.csv',low_memory=False)\n",
        "df4.columns"
      ]
    },
    {
      "cell_type": "code",
      "execution_count": null,
      "metadata": {
        "colab": {
          "base_uri": "https://localhost:8080/"
        },
        "id": "fUTw2uDuZqMx",
        "outputId": "77df57c6-a4c6-45ef-b7ba-648e559e9e6b"
      },
      "outputs": [
        {
          "name": "stdout",
          "output_type": "stream",
          "text": [
            "---- Reading patientMonitoring.csv ----\n"
          ]
        },
        {
          "name": "stderr",
          "output_type": "stream",
          "text": [
            "/usr/local/lib/python3.7/dist-packages/IPython/core/interactiveshell.py:2882: DtypeWarning: Columns (26,28,35) have mixed types.Specify dtype option on import or set low_memory=False.\n",
            "  exec(code_obj, self.user_global_ns, self.user_ns)\n"
          ]
        },
        {
          "name": "stdout",
          "output_type": "stream",
          "text": [
            "df.shape: (76810, 52)\n",
            "empty_cols: 0\n",
            "[]\n",
            "df1.shape: (430354, 53)\n",
            "---- Reading attack.csv ----\n"
          ]
        },
        {
          "name": "stderr",
          "output_type": "stream",
          "text": [
            "/usr/local/lib/python3.7/dist-packages/IPython/core/interactiveshell.py:2882: DtypeWarning: Columns (28,30,37,42) have mixed types.Specify dtype option on import or set low_memory=False.\n",
            "  exec(code_obj, self.user_global_ns, self.user_ns)\n"
          ]
        },
        {
          "name": "stdout",
          "output_type": "stream",
          "text": [
            "df.shape: (164850, 51)\n",
            "empty_cols: 0\n",
            "[]\n",
            "df1.shape: (595204, 53)\n",
            "---- Reading Attack.csv ----\n",
            "df.shape: (80126, 52)\n",
            "empty_cols: 0\n",
            "[]\n",
            "df1.shape: (675330, 53)\n",
            "---- Reading environmentMonitoring.csv ----\n",
            "df.shape: (31758, 52)\n",
            "empty_cols: 0\n",
            "[]\n",
            "df1.shape: (707088, 53)\n"
          ]
        }
      ],
      "source": [
        "#data cleaning\n",
        "#run this cell if your data is not cleaned\n",
        "\"\"\"df4 = pd.DataFrame()\n",
        "\n",
        "for csv in csvs:\n",
        "  print(f'---- Reading {csv} ----')\n",
        "  df = pd.read_csv(path+csv)\n",
        "  print(f'df.shape: {df.shape}')\n",
        "  empty_cols = [col for col in df.columns if df[col].isnull().all()]\n",
        "  print(f'empty_cols: {len(empty_cols)}')\n",
        "  print(empty_cols)\n",
        "  df.fillna(0, inplace=True)\n",
        "  df4 = df4.append(df, ignore_index=True)\n",
        "  print(f'df1.shape: {df4.shape}')\"\"\""
      ]
    },
    {
      "cell_type": "code",
      "execution_count": 6,
      "metadata": {
        "colab": {
          "base_uri": "https://localhost:8080/",
          "height": 296
        },
        "id": "MPYSBXukZ56x",
        "outputId": "25991e17-81a7-490b-a92c-87c2e819f223"
      },
      "outputs": [
        {
          "output_type": "execute_result",
          "data": {
            "text/plain": [
              "<matplotlib.axes._subplots.AxesSubplot at 0x7fcbbebea450>"
            ]
          },
          "metadata": {},
          "execution_count": 6
        },
        {
          "output_type": "display_data",
          "data": {
            "text/plain": [
              "<Figure size 432x288 with 1 Axes>"
            ],
            "image/png": "[encoded data removed]"
          },
          "metadata": {
            "needs_background": "light"
          }
        }
      ],
      "source": [
        "#Data Visualization\n",
        "import seaborn as s\n",
        "s.countplot(x='label',data=df4)"
      ]
    },
    {
      "cell_type": "code",
      "execution_count": 9,
      "metadata": {
        "id": "GH7R0habgrDm"
      },
      "outputs": [],
      "source": [
        "feats = ['ip.src', 'ip.dst', 'tcp.srcport', 'tcp.dstport','mqtt.topic', 'mqtt.msg', 'tcp.payload','mqtt.clientid', 'mqtt.conflags', 'mqtt.conack.flags']"
      ]
    },
    {
      "cell_type": "code",
      "execution_count": 10,
      "metadata": {
        "colab": {
          "base_uri": "https://localhost:8080/"
        },
        "id": "XHH2cjuEgsQo",
        "outputId": "5576c020-6df5-40c0-a53f-e62b025e74f0"
      },
      "outputs": [
        {
          "output_type": "execute_result",
          "data": {
            "text/plain": [
              "(164850, 41)"
            ]
          },
          "metadata": {},
          "execution_count": 10
        }
      ],
      "source": [
        "df4.drop(labels=feats, axis=1, inplace=True)\n",
        "df4.shape"
      ]
    },
    {
      "cell_type": "code",
      "execution_count": 11,
      "metadata": {
        "id": "atiKS5ncjpuG"
      },
      "outputs": [],
      "source": [
        "fs1 =  ['frame.time_delta', 'tcp.flags', 'tcp.time_delta', 'tcp.connection.rst', 'tcp.flags.ack', 'tcp.flags.push', 'tcp.flags.reset', 'tcp.hdr_len', \n",
        "        'mqtt.clientid_len', 'mqtt.hdrflags', 'mqtt.msgtype', 'mqtt.qos', 'mqtt.ver', 'ip.proto', 'ip.ttl', 'label']\n",
        "fs2 = ['frame.time_delta', 'tcp.time_delta', 'tcp.flags.ack', 'tcp.flags.push', 'tcp.flags.reset', 'mqtt.hdrflags', 'mqtt.msgtype', 'mqtt.qos', 'mqtt.retain', 'mqtt.ver', 'label']"
      ]
    },
    {
      "cell_type": "code",
      "execution_count": 12,
      "metadata": {
        "colab": {
          "base_uri": "https://localhost:8080/"
        },
        "id": "POSB9kfxjzyT",
        "outputId": "f66782f2-bf66-4b2f-c078-f26b92741849"
      },
      "outputs": [
        {
          "output_type": "execute_result",
          "data": {
            "text/plain": [
              "(164850, 11)"
            ]
          },
          "metadata": {},
          "execution_count": 12
        }
      ],
      "source": [
        "df4 = df4[fs2]\n",
        "df4.shape"
      ]
    },
    {
      "cell_type": "code",
      "execution_count": 13,
      "metadata": {
        "id": "6qt-eOpDj_zo"
      },
      "outputs": [],
      "source": [
        "from sklearn import preprocessing\n",
        "label_encoder = preprocessing.LabelEncoder()\n",
        "\n",
        "#df1['tcp.flags']= label_encoder.fit_transform(df1['tcp.flags'])\n",
        "#df1['tcp.checksum']= label_encoder.fit_transform(df1['tcp.checksum'])\n",
        "df4['mqtt.hdrflags']= label_encoder.fit_transform(df4['mqtt.hdrflags'])"
      ]
    },
    {
      "cell_type": "code",
      "execution_count": 14,
      "metadata": {
        "id": "Eu4VghEqkFa-"
      },
      "outputs": [],
      "source": [
        "X_train, X_test, y_train, y_test = train_test_split( df4.drop(labels=['label'], axis=1), df4['label'], \n",
        "                                                                            test_size=0.3, random_state=100)"
      ]
    },
    {
      "cell_type": "code",
      "execution_count": 15,
      "metadata": {
        "colab": {
          "base_uri": "https://localhost:8080/"
        },
        "id": "9UbO7-XYkKSg",
        "outputId": "14f71fea-eebb-45b6-b7ff-873e7fefa370"
      },
      "outputs": [
        {
          "output_type": "stream",
          "name": "stdout",
          "text": [
            "---------- SelectFromModel LogisticRegression -----------\n",
            "embeded_LR_support [ True False False  True  True False  True  True  True False]\n",
            "6 selected features\n",
            "embeded_LR_features:  ['frame.time_delta', 'tcp.flags.push', 'tcp.flags.reset', 'mqtt.msgtype', 'mqtt.qos', 'mqtt.retain']\n"
          ]
        }
      ],
      "source": [
        "from sklearn.feature_selection import SelectFromModel\n",
        "from sklearn.linear_model import LogisticRegression\n",
        "\n",
        "print('---------- SelectFromModel LogisticRegression -----------')\n",
        "embeded_LR_selector = SelectFromModel(LogisticRegression(penalty=\"l1\", solver='liblinear'), threshold='0.9*median',\n",
        "                                      max_features = 10)\n",
        "\n",
        "embeded_LR_selector.fit(X_train, y_train)\n",
        "embeded_LR_support = embeded_LR_selector.get_support()\n",
        "print('embeded_LR_support',embeded_LR_support)\n",
        "\n",
        "\n",
        "embeded_LR_feature = X_train.loc[:,embeded_LR_support].columns.tolist()\n",
        "\n",
        "print(len(embeded_LR_feature), 'selected features')\n",
        "print('embeded_LR_features: ', embeded_LR_feature)"
      ]
    },
    {
      "cell_type": "code",
      "execution_count": 16,
      "metadata": {
        "id": "8yvEbOA3lp4r"
      },
      "outputs": [],
      "source": [
        "fs1 =  ['frame.time_delta', 'tcp.flags', 'tcp.time_delta', 'tcp.connection.rst', 'tcp.flags.ack', 'tcp.flags.push', 'tcp.flags.reset', 'tcp.hdr_len', 'mqtt.clientid_len', 'mqtt.hdrflags', 'mqtt.msgtype', 'mqtt.qos', 'mqtt.ver', 'ip.proto', 'ip.ttl']\n",
        "# fs2 contained selected feautures except 'tcp.time_delta', 'tcp.flags.ack' (important )\n",
        "fs2 = ['frame.time_delta', 'tcp.time_delta', 'tcp.flags.ack', 'tcp.flags.push', 'tcp.flags.reset', 'mqtt.hdrflags', 'mqtt.msgtype', 'mqtt.qos', 'mqtt.retain', 'mqtt.ver']"
      ]
    },
    {
      "cell_type": "code",
      "execution_count": 17,
      "metadata": {
        "id": "Vv1-nTrab6c6"
      },
      "outputs": [],
      "source": [
        "## DATA NORMALIZATION (LABELS)\n",
        "\n",
        "raw_data = df4\n",
        "raw_data = raw_data.sort_values('label')\n",
        "raw_data = raw_data.reset_index()\n",
        "\n",
        "\n",
        "index0 = raw_data[raw_data['label'] == 1].index.values\n",
        "index1 = raw_data[raw_data['label'] == 2].index.values\n",
        "index2 = raw_data[raw_data['label'] == 3].index.values\n",
        "index3 = raw_data[raw_data['label'] == 4].index.values\n",
        "\n",
        "\n",
        "\n",
        "df_index0 = raw_data.iloc[int(min(index0)):int(max(index0)+1)]\n",
        "df_index1 = raw_data.iloc[int(min(index1)):int(max(index1)+1)]\n",
        "df_index2 = raw_data.iloc[int(min(index2)):int(max(index2)+1)]\n",
        "df_index3 = raw_data.iloc[int(min(index3)):int(max(index3)+1)]\n",
        "\n",
        "\n",
        "\n",
        "\n",
        "df_index0 = df_index0.append([df_index0]*20, ignore_index = True)\n",
        "df_index1 = df_index1.append([df_index1]*25, ignore_index = True)\n",
        "df_index2 = df_index2.append([df_index2]*25, ignore_index = True)\n",
        "df_index3 = df_index3.append([df_index3], ignore_index = True)\n",
        "\n",
        "\n",
        "frames = [raw_data,  df_index0, df_index1, df_index2, df_index3]\n",
        "\n",
        "final_data = pd.concat(frames)\n",
        "final_data.drop('index', inplace = True, axis = 1)\n",
        "final_data = final_data.sample(frac = 1)\n",
        "data = final_data.iloc[:,:-1]\n",
        "labels = final_data.iloc[:,-1:]"
      ]
    },
    {
      "cell_type": "code",
      "execution_count": 18,
      "metadata": {
        "colab": {
          "base_uri": "https://localhost:8080/",
          "height": 391
        },
        "id": "TVvEf5g7ba9G",
        "outputId": "e1828321-ba4c-4c8f-d442-924ed0254427"
      },
      "outputs": [
        {
          "output_type": "execute_result",
          "data": {
            "text/plain": [
              "<matplotlib.axes._subplots.AxesSubplot at 0x7faf5c2f8fd0>"
            ]
          },
          "metadata": {},
          "execution_count": 18
        },
        {
          "output_type": "display_data",
          "data": {
            "text/plain": [
              "<Figure size 576x432 with 1 Axes>"
            ],
            "image/png": "[encoded data removed]"
          },
          "metadata": {
            "needs_background": "light"
          }
        }
      ],
      "source": [
        "type_attack = ['bruteforce','slowite','malware','dos']\n",
        "counts = list(labels.value_counts())\n",
        "plt.figure(figsize = (8,6))\n",
        "s.barplot(x = type_attack, y = counts)"
      ]
    },
    {
      "cell_type": "code",
      "execution_count": 19,
      "metadata": {
        "id": "6yfmfmWTebKf"
      },
      "outputs": [],
      "source": [
        "from sklearn.naive_bayes import GaussianNB\n",
        "from sklearn.neighbors import KNeighborsClassifier\n",
        "from sklearn.ensemble import RandomForestClassifier, AdaBoostClassifier\n",
        "from sklearn import linear_model #Linear Regression\n",
        "#from sklearn.linear_model import LogisticRegression\n",
        "from sklearn.tree import DecisionTreeClassifier\n",
        "from sklearn.svm import SVC   #SVM\n",
        "\n",
        "from sklearn.metrics import confusion_matrix  \n",
        "from sklearn.metrics import precision_score, recall_score, f1_score, accuracy_score\n",
        "from sklearn.metrics import classification_report"
      ]
    },
    {
      "cell_type": "code",
      "execution_count": 20,
      "metadata": {
        "colab": {
          "base_uri": "https://localhost:8080/"
        },
        "id": "38E_F1bsndoS",
        "outputId": "da93a8aa-c4c9-4900-8aa4-2fd21e4c1cb2"
      },
      "outputs": [
        {
          "output_type": "stream",
          "name": "stdout",
          "text": [
            "--------Applying GaussianNB Classifier ----------\n",
            "--------Applying KNeighbors Classifier ----------\n",
            "--------Applying RandomForest Classifier ----------\n",
            "--------Applying AdaBoost Classifier ----------\n",
            "--------Applying LogisticRegression Classifier ----------\n",
            "--------Applying DecisionTree Classifier ----------\n"
          ]
        }
      ],
      "source": [
        "\n",
        "print('--------Applying GaussianNB Classifier ----------')\n",
        "gnb = GaussianNB()\n",
        "gnb_fit = gnb.fit(X_train, y_train)  \n",
        "gnb_prediction = gnb.predict(X_test) \n",
        "\n",
        "\n",
        "print('--------Applying KNeighbors Classifier ----------')\n",
        "KNN_model = KNeighborsClassifier(n_neighbors=5)\n",
        "KNN_model.fit(X_train, y_train)\n",
        "KNN_prediction = KNN_model.predict(X_test)\n",
        "\n",
        "print('--------Applying RandomForest Classifier ----------')\n",
        "RF = RandomForestClassifier(max_depth=10, random_state=100)  \n",
        "RF.fit(X_train, y_train)\n",
        "RF_prediction = RF.predict(X_test)\n",
        "\n",
        "\n",
        "print('--------Applying AdaBoost Classifier ----------')\n",
        "AB = AdaBoostClassifier()\n",
        "AB.fit(X_train, y_train)\n",
        "AB_prediction = AB.predict(X_test)\n",
        "\n",
        "\n",
        "print('--------Applying LogisticRegression Classifier ----------')\n",
        "#LogR = LogisticRegression()\n",
        "LogR = linear_model.LogisticRegression(multi_class='multinomial', max_iter=1000,solver=\"lbfgs\")\n",
        "LogR.fit(X_train, y_train)\n",
        "LogR_prediction = LogR.predict(X_test)\n",
        "\n",
        "\n",
        "print('--------Applying DecisionTree Classifier ----------')\n",
        "DT = DecisionTreeClassifier(criterion = \"gini\", random_state = 100, max_depth=10, min_samples_leaf=5)\n",
        "DT.fit(X_train, y_train)\n",
        "DT_prediction = DT.predict(X_test)\n"
      ]
    },
    {
      "cell_type": "code",
      "execution_count": 21,
      "metadata": {
        "colab": {
          "base_uri": "https://localhost:8080/"
        },
        "id": "j43ag9RPn7f5",
        "outputId": "f1fbcf05-c011-4993-dfd1-6e6f2240ec10"
      },
      "outputs": [
        {
          "output_type": "stream",
          "name": "stdout",
          "text": [
            "-------Performance Evaluation----------\n",
            "type(results):  <class 'list'>\n",
            "results:  [('LR', '', '', '', ''), ('Classifier', 'Accuracy', 'Precision', 'Recall', 'F1-Score'), ('NB ', 64.0481245576787, 64.0481245576787, 64.0481245576787, 64.0481245576787), ('KNN ', 93.5456475583864, 93.4598051468939, 93.5456475583864, 93.44512692864588), ('RF ', 93.5517136791022, 93.5517136791022, 93.5517136791022, 93.5517136791022), ('AB ', 36.31988676574664, 36.31988676574664, 36.31988676574664, 36.319886765746645), ('LogR ', 85.08745324031948, 85.08745324031948, 85.08745324031948, 85.08745324031946), ('DT ', 93.49711859265999, 93.49711859265999, 93.49711859265999, 93.49711859266)]\n",
            "type(df_results):  <class 'pandas.core.frame.DataFrame'>\n",
            "df_results:              0          1          2          3          4\n",
            "0          LR                                            \n",
            "1  Classifier   Accuracy  Precision     Recall   F1-Score\n",
            "2         NB   64.048125  64.048125  64.048125  64.048125\n",
            "3        KNN   93.545648  93.459805  93.545648  93.445127\n",
            "4         RF   93.551714  93.551714  93.551714  93.551714\n",
            "5         AB   36.319887  36.319887  36.319887  36.319887\n",
            "6       LogR   85.087453  85.087453  85.087453  85.087453\n",
            "7         DT   93.497119  93.497119  93.497119  93.497119\n"
          ]
        }
      ],
      "source": [
        "print('-------Performance Evaluation----------')\n",
        "#precision_score, recall_score, f1_score, accuracy_score\n",
        "results = []\n",
        "selector = 'LR'\n",
        "results.append((selector,'','', '',''))\n",
        "results.append(('Classifier','Accuracy','Precision', 'Recall','F1-Score'))\n",
        "results.append(('NB ', accuracy_score(y_test,  gnb_prediction)*100,\n",
        "                precision_score(y_test,  gnb_prediction,average='micro')*100,\n",
        "                recall_score(y_test,  gnb_prediction,average='micro')*100,\n",
        "                f1_score(y_test,  gnb_prediction,average='micro')*100))\n",
        "results.append(('KNN ', accuracy_score(y_test, KNN_prediction)*100,\n",
        "                precision_score(y_test, KNN_prediction,average='weighted')*100,\n",
        "                recall_score(y_test, KNN_prediction,average='weighted')*100,\n",
        "                f1_score(y_test, KNN_prediction,average='weighted')*100))\n",
        "results.append(('RF ', accuracy_score(y_test,  RF_prediction)*100,\n",
        "                precision_score(y_test,  RF_prediction,average='micro')*100,\n",
        "                recall_score(y_test,  RF_prediction,average='micro')*100,\n",
        "                f1_score(y_test,  RF_prediction,average='micro')*100))\n",
        "results.append(('AB ', accuracy_score(y_test,  AB_prediction)*100,\n",
        "                precision_score(y_test,  AB_prediction,average='micro')*100,\n",
        "                recall_score(y_test,  AB_prediction,average='micro')*100,\n",
        "                f1_score(y_test,  AB_prediction,average='micro')*100))\n",
        "results.append(('LogR ', accuracy_score(y_test,  LogR_prediction)*100,\n",
        "                precision_score(y_test,  LogR_prediction,average='micro')*100,\n",
        "                recall_score(y_test,  LogR_prediction,average='micro')*100,\n",
        "                f1_score(y_test,  LogR_prediction,average='micro')*100))\n",
        "results.append(('DT ', accuracy_score(y_test,  DT_prediction)*100,\n",
        "                precision_score(y_test,  DT_prediction,average='micro')*100,\n",
        "                recall_score(y_test,  DT_prediction,average='micro')*100,\n",
        "                f1_score(y_test,  DT_prediction,average='micro')*100))\n",
        "\n",
        "print('type(results): ', type(results))\n",
        "print('results: ', results)\n",
        "df_results = pd.DataFrame(results)\n",
        "print('type(df_results): ', type(df_results))\n",
        "print('df_results: ', df_results)"
      ]
    },
    {
      "cell_type": "code",
      "execution_count": 22,
      "metadata": {
        "colab": {
          "base_uri": "https://localhost:8080/"
        },
        "id": "t55CMvqsoC4i",
        "outputId": "0c60d28a-bac7-40e1-a3db-182b3060e4e2"
      },
      "outputs": [
        {
          "output_type": "stream",
          "name": "stdout",
          "text": [
            "Confusion Matrix gnb_prediction\n",
            "[[  706  3127     6   440]\n",
            " [    2  2325     3   372]\n",
            " [   85  1881   531   831]\n",
            " [   27 11005     1 28113]]\n",
            "Confusion Matrix KNN_prediction\n",
            "[[ 3444    32    76   727]\n",
            " [   30  2086    85   501]\n",
            " [  439   167  2461   261]\n",
            " [  423   332   119 38272]]\n",
            "Confusion Matrix RF_prediction\n",
            "[[ 3500    63    61   655]\n",
            " [   54  2114    59   475]\n",
            " [  561   172  2284   311]\n",
            " [  421   272    85 38368]]\n",
            "Confusion Matrix AB_prediction\n",
            "[[ 3194    60   422   603]\n",
            " [  145  1422   182   953]\n",
            " [  676   279  1787   586]\n",
            " [  526     7 27054 11559]]\n",
            "Confusion Matrix LogR_prediction\n",
            "[[ 1267     1    24  2987]\n",
            " [  585   622     3  1492]\n",
            " [  538   246  1064  1480]\n",
            " [   11     4     4 39127]]\n",
            "Confusion Matrix DT_prediction\n",
            "[[ 3539   111    41   588]\n",
            " [   43  2095    87   477]\n",
            " [  526   198  2315   289]\n",
            " [  461   299    96 38290]]\n"
          ]
        }
      ],
      "source": [
        "print('Confusion Matrix gnb_prediction')\n",
        "print(confusion_matrix(y_test,gnb_prediction))\n",
        "print('Confusion Matrix KNN_prediction')\n",
        "print(confusion_matrix(y_test,KNN_prediction))\n",
        "print('Confusion Matrix RF_prediction')\n",
        "print(confusion_matrix(y_test,RF_prediction))\n",
        "print('Confusion Matrix AB_prediction')\n",
        "print(confusion_matrix(y_test,AB_prediction))\n",
        "print('Confusion Matrix LogR_prediction')\n",
        "print(confusion_matrix(y_test,LogR_prediction))\n",
        "print('Confusion Matrix DT_prediction')\n",
        "print(confusion_matrix(y_test,DT_prediction))"
      ]
    },
    {
      "cell_type": "markdown",
      "metadata": {
        "id": "ke6xpePfyFgR"
      },
      "source": [
        "**GENERATING HEAT MAPS FOR THE RANDOM FOREST MODEL**"
      ]
    },
    {
      "cell_type": "code",
      "execution_count": null,
      "metadata": {
        "id": "SEA_WMg9oG3o"
      },
      "outputs": [],
      "source": [
        "cm=confusion_matrix(y_test,RF_prediction)\n",
        "dt=confusion_matrix(y_test,DT_prediction)\n",
        "lr=confusion_matrix(y_test,LogR_prediction)\n",
        "knn=confusion_matrix(y_test,KNN_prediction)\n",
        "nb=confusion_matrix(y_test,gnb_prediction)\n",
        "ab=confusion_matrix(y_test,AB_prediction)\n"
      ]
    },
    {
      "cell_type": "code",
      "execution_count": null,
      "metadata": {
        "id": "yf_dyuqNzIiR"
      },
      "outputs": [],
      "source": [
        "cmd_object=ConfusionMatrixDisplay(cm)\n",
        "dt_object=ConfusionMatrixDisplay(dt)\n",
        "lr_object=ConfusionMatrixDisplay(lr)\n",
        "knn_object=ConfusionMatrixDisplay(knn)\n",
        "nb_object=ConfusionMatrixDisplay(nb)\n",
        "ab_object=ConfusionMatrixDisplay(ab)\n"
      ]
    },
    {
      "cell_type": "markdown",
      "metadata": {
        "id": "c6lWLBjDS5C8"
      },
      "source": [
        "**Confusion Matrix for Random Forest**"
      ]
    },
    {
      "cell_type": "code",
      "execution_count": null,
      "metadata": {
        "colab": {
          "base_uri": "https://localhost:8080/",
          "height": 296
        },
        "id": "eA5QEI3tzB2-",
        "outputId": "fba0911d-1be0-44e9-fec7-d18cb83e40e8"
      },
      "outputs": [
        {
          "data": {
            "text/plain": [
              "<sklearn.metrics._plot.confusion_matrix.ConfusionMatrixDisplay at 0x7f050a9ccc10>"
            ]
          },
          "execution_count": 27,
          "metadata": {},
          "output_type": "execute_result"
        },
        {
          "data": {
            "image/png": "[encoded data removed]",
            "text/plain": [
              "<Figure size 432x288 with 2 Axes>"
            ]
          },
          "metadata": {},
          "output_type": "display_data"
        }
      ],
      "source": [
        "cmd_object.plot()"
      ]
    },
    {
      "cell_type": "markdown",
      "metadata": {
        "id": "Zd3b6U9ZmLWX"
      },
      "source": [
        "**Confusion Matrix for Decision Tree Classifier** "
      ]
    },
    {
      "cell_type": "code",
      "execution_count": null,
      "metadata": {
        "colab": {
          "base_uri": "https://localhost:8080/",
          "height": 296
        },
        "id": "LgCzbCn6mCaf",
        "outputId": "b19b2873-4706-407e-a956-dead348bddb5"
      },
      "outputs": [
        {
          "data": {
            "text/plain": [
              "<sklearn.metrics._plot.confusion_matrix.ConfusionMatrixDisplay at 0x7fead6e3c310>"
            ]
          },
          "execution_count": 31,
          "metadata": {},
          "output_type": "execute_result"
        },
        {
          "data": {
            "image/png": "[encoded data removed]",
            "text/plain": [
              "<Figure size 432x288 with 2 Axes>"
            ]
          },
          "metadata": {},
          "output_type": "display_data"
        }
      ],
      "source": [
        "dt_object.plot()"
      ]
    },
    {
      "cell_type": "markdown",
      "metadata": {
        "id": "Mli50SOFme_r"
      },
      "source": [
        "**Confusion Matrix for KNN Classifier** "
      ]
    },
    {
      "cell_type": "code",
      "execution_count": null,
      "metadata": {
        "colab": {
          "base_uri": "https://localhost:8080/",
          "height": 296
        },
        "id": "__Jo2RO7m9IB",
        "outputId": "63d9c4b0-3e88-4b49-d4ac-e8ff5f34a234"
      },
      "outputs": [
        {
          "data": {
            "text/plain": [
              "<sklearn.metrics._plot.confusion_matrix.ConfusionMatrixDisplay at 0x7fead6e61bd0>"
            ]
          },
          "execution_count": 38,
          "metadata": {},
          "output_type": "execute_result"
        },
        {
          "data": {
            "image/png": "[encoded data removed]",
            "text/plain": [
              "<Figure size 432x288 with 2 Axes>"
            ]
          },
          "metadata": {},
          "output_type": "display_data"
        }
      ],
      "source": [
        "knn_object.plot()"
      ]
    },
    {
      "cell_type": "markdown",
      "metadata": {
        "id": "PTFQ3EmUmezH"
      },
      "source": [
        "**Confusion Matrix for Ada Boost Classifier** "
      ]
    },
    {
      "cell_type": "code",
      "execution_count": null,
      "metadata": {
        "colab": {
          "base_uri": "https://localhost:8080/",
          "height": 296
        },
        "id": "YeRbd-i9nMTE",
        "outputId": "e24d6ffb-fa1c-4633-edda-7fef76eb5398"
      },
      "outputs": [
        {
          "data": {
            "text/plain": [
              "<sklearn.metrics._plot.confusion_matrix.ConfusionMatrixDisplay at 0x7fead6e614d0>"
            ]
          },
          "execution_count": 37,
          "metadata": {},
          "output_type": "execute_result"
        },
        {
          "data": {
            "image/png": "[encoded data removed]",
            "text/plain": [
              "<Figure size 432x288 with 2 Axes>"
            ]
          },
          "metadata": {},
          "output_type": "display_data"
        }
      ],
      "source": [
        "\n",
        "ab_object.plot()"
      ]
    },
    {
      "cell_type": "markdown",
      "metadata": {
        "id": "5hBqv5awmdwd"
      },
      "source": [
        "**Confusion Matrix for Logistic Regression** \n",
        "\n",
        "\n",
        "\n"
      ]
    },
    {
      "cell_type": "code",
      "execution_count": null,
      "metadata": {
        "colab": {
          "base_uri": "https://localhost:8080/",
          "height": 296
        },
        "id": "OZJDmW7unIyj",
        "outputId": "042f5297-feb7-40a0-c5dc-c9348a3e0d12"
      },
      "outputs": [
        {
          "data": {
            "text/plain": [
              "<sklearn.metrics._plot.confusion_matrix.ConfusionMatrixDisplay at 0x7fead701fe50>"
            ]
          },
          "execution_count": 36,
          "metadata": {},
          "output_type": "execute_result"
        },
        {
          "data": {
            "image/png": "[encoded data removed]",
            "text/plain": [
              "<Figure size 432x288 with 2 Axes>"
            ]
          },
          "metadata": {},
          "output_type": "display_data"
        }
      ],
      "source": [
        "lr_object.plot()"
      ]
    },
    {
      "cell_type": "markdown",
      "metadata": {
        "id": "9kIVBHJImvqc"
      },
      "source": [
        "**Confusion Matrix for Naive Bayes Classifier** "
      ]
    },
    {
      "cell_type": "code",
      "execution_count": null,
      "metadata": {
        "colab": {
          "base_uri": "https://localhost:8080/",
          "height": 296
        },
        "id": "QWL2oMzanPVr",
        "outputId": "d0ee1e3e-140c-43d1-f3f4-136a214cf993"
      },
      "outputs": [
        {
          "data": {
            "text/plain": [
              "<sklearn.metrics._plot.confusion_matrix.ConfusionMatrixDisplay at 0x7fead701fd10>"
            ]
          },
          "execution_count": 35,
          "metadata": {},
          "output_type": "execute_result"
        },
        {
          "data": {
            "image/png": "[encoded data removed]",
            "text/plain": [
              "<Figure size 432x288 with 2 Axes>"
            ]
          },
          "metadata": {},
          "output_type": "display_data"
        }
      ],
      "source": [
        "nb_object.plot()"
      ]
    },
    {
      "cell_type": "code",
      "execution_count": null,
      "metadata": {
        "colab": {
          "base_uri": "https://localhost:8080/"
        },
        "id": "gxIrN7u8z5JM",
        "outputId": "2f8bb0e0-9e2f-445d-8b39-696ad2690ee3"
      },
      "outputs": [
        {
          "data": {
            "text/plain": [
              "[Text(17.19999999999999, 0.5, 'Actual Attacks'),\n",
              " Text(0.5, 17.200000000000003, 'Predicted Attacks'),\n",
              " Text(0.5, 1.0, 'Confusion Matrix with Labels')]"
            ]
          },
          "execution_count": 28,
          "metadata": {},
          "output_type": "execute_result"
        }
      ],
      "source": [
        "cmd_object.ax_.set(\n",
        "    title='Confusion Matrix with Labels',\n",
        "    xlabel='Predicted Attacks',\n",
        "    ylabel='Actual Attacks'\n",
        ")"
      ]
    },
    {
      "cell_type": "code",
      "execution_count": null,
      "metadata": {
        "colab": {
          "base_uri": "https://localhost:8080/",
          "height": 265
        },
        "id": "PwB9vn6_0RsS",
        "outputId": "5c0936b8-f84d-4333-9e8f-1e9d8c1f6e58"
      },
      "outputs": [
        {
          "data": {
            "image/png": "[encoded data removed]",
            "text/plain": [
              "<Figure size 432x288 with 2 Axes>"
            ]
          },
          "metadata": {},
          "output_type": "display_data"
        }
      ],
      "source": [
        "ax=s.heatmap(cm,annot=True,fmt='g')"
      ]
    },
    {
      "cell_type": "code",
      "execution_count": null,
      "metadata": {
        "colab": {
          "base_uri": "https://localhost:8080/"
        },
        "id": "II1hCTNS1-Pt",
        "outputId": "0983cf76-4e88-40b9-8215-779dcca43e19"
      },
      "outputs": [
        {
          "data": {
            "text/plain": [
              "[Text(0, 0.5, 'bruteforce'),\n",
              " Text(0, 1.5, 'slowite'),\n",
              " Text(0, 2.5, 'malware'),\n",
              " Text(0, 3.5, 'dos')]"
            ]
          },
          "execution_count": 30,
          "metadata": {},
          "output_type": "execute_result"
        }
      ],
      "source": [
        "ax.set_title('Seaborn Confusion matrix with Labels')\n",
        "ax.set_xlabel('Predicted Attack')\n",
        "ax.set_ylabel('Actual Attack')\n",
        "ax.xaxis.set_ticklabels(['bruteforce','slowite','malware','dos'])\n",
        "ax.yaxis.set_ticklabels(['bruteforce','slowite','malware','dos'])"
      ]
    },
    {
      "cell_type": "markdown",
      "metadata": {
        "id": "AUEpFuE1UdOc"
      },
      "source": [
        "# Saving ML Model "
      ]
    },
    {
      "cell_type": "code",
      "execution_count": null,
      "metadata": {
        "id": "3iMf4gFsUlBu"
      },
      "outputs": [],
      "source": [
        "\"\"\"import pickle\n",
        "with open('model','wb') as f:\n",
        "  pickle.dump(RF,f)\"\"\""
      ]
    },
    {
      "cell_type": "code",
      "execution_count": null,
      "metadata": {
        "id": "zgD-w02mX-pX"
      },
      "outputs": [],
      "source": [
        "#Recall the store model for future session\n",
        "\"\"\"import pickle\n",
        "with open('model.pkl','rb') as f:\n",
        "  modell=pickle.load(f)\"\"\""
      ]
    },
    {
      "cell_type": "markdown",
      "metadata": {
        "id": "FNf1vsheX_ak"
      },
      "source": [
        "Method no 2"
      ]
    },
    {
      "cell_type": "code",
      "execution_count": 23,
      "metadata": {
        "id": "tKY-j0OxUqo0"
      },
      "outputs": [],
      "source": [
        "import pickle\n",
        "pickle.dump(RF, open('model.pkl','wb'))"
      ]
    },
    {
      "cell_type": "code",
      "execution_count": 24,
      "metadata": {
        "id": "q0i1Nv89oS6R"
      },
      "outputs": [],
      "source": [
        "model = pickle.load(open('model.pkl','rb'))"
      ]
    },
    {
      "cell_type": "code",
      "execution_count": null,
      "metadata": {
        "id": "gS8y6USEjcII"
      },
      "outputs": [],
      "source": [
        "\n",
        "to_predict_list='/content/ICUDatasetProcessed/attack.csv'\n",
        "to_predict=np.array(to_predict_list).reshape(-1,1)\n"
      ]
    },
    {
      "cell_type": "code",
      "execution_count": null,
      "metadata": {
        "id": "C_z6DUmKZ15k"
      },
      "outputs": [],
      "source": [
        "df6=pd.read_csv('/content/ICUDatasetProcessed/Attack.csv',index_col=0, low_memory=False)\n",
        "prediction=np.array(df6).reshape(1,-1)"
      ]
    },
    {
      "cell_type": "code",
      "execution_count": null,
      "metadata": {
        "id": "5P69PLe3Y-EA"
      },
      "outputs": [],
      "source": [
        ""
      ]
    },
    {
      "cell_type": "code",
      "execution_count": 25,
      "metadata": {
        "colab": {
          "base_uri": "https://localhost:8080/"
        },
        "id": "ZXvB_auybBov",
        "outputId": "98f8ab53-d79b-4618-e6f5-26b63c81a190"
      },
      "outputs": [
        {
          "output_type": "execute_result",
          "data": {
            "text/plain": [
              "array([4, 4, 4, ..., 4, 4, 4])"
            ]
          },
          "metadata": {},
          "execution_count": 25
        }
      ],
      "source": [
        "model.predict(X_test)"
      ]
    },
    {
      "cell_type": "code",
      "execution_count": null,
      "metadata": {
        "colab": {
          "base_uri": "https://localhost:8080/"
        },
        "id": "M3VUkApFMHL7",
        "outputId": "c351243c-73da-43ad-f9b2-885013daafe2"
      },
      "outputs": [
        {
          "name": "stderr",
          "output_type": "stream",
          "text": [
            "/usr/local/lib/python3.7/dist-packages/sklearn/base.py:493: FutureWarning: The feature names should match those that were passed during fit. Starting version 1.2, an error will be raised.\n",
            "Feature names unseen at fit time:\n",
            "- frame.time_delta\n",
            "Feature names seen at fit time, yet now missing:\n",
            "- class\n",
            "- frame.len\n",
            "- frame.time_relative\n",
            "- ip.dst\n",
            "- ip.proto\n",
            "- ...\n",
            "\n",
            "  warnings.warn(message, FutureWarning)\n"
          ]
        },
        {
          "data": {
            "text/plain": [
              "array([4, 4, 4, ..., 4, 4, 4])"
            ]
          },
          "execution_count": 46,
          "metadata": {},
          "output_type": "execute_result"
        }
      ],
      "source": [
        "KNN_model.predict(X_test)"
      ]
    },
    {
      "cell_type": "code",
      "execution_count": null,
      "metadata": {
        "colab": {
          "base_uri": "https://localhost:8080/"
        },
        "id": "ZK1Pgnd9MFgo",
        "outputId": "63747c3b-84a3-4a64-f5c8-c4659b64eca8"
      },
      "outputs": [
        {
          "data": {
            "text/plain": [
              "array([4, 4, 4, ..., 4, 4, 4])"
            ]
          },
          "execution_count": 47,
          "metadata": {},
          "output_type": "execute_result"
        }
      ],
      "source": [
        "DT.predict(X_test)"
      ]
    }
  ],
  "metadata": {
    "colab": {
      "collapsed_sections": [],
      "name": "FeautureSelectionFYP.ipynb",
      "provenance": [],
      "authorship_tag": "ABX9TyPUC3pbXt9mc4Tj0DcW77QC",
      "include_colab_link": true
    },
    "kernelspec": {
      "display_name": "Python 3",
      "name": "python3"
    },
    "language_info": {
      "name": "python"
    }
  },
  "nbformat": 4,
  "nbformat_minor": 0
}