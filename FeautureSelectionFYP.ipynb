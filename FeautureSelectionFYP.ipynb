{
  "cells": [
    {
      "cell_type": "markdown",
      "metadata": {
        "id": "view-in-github",
        "colab_type": "text"
      },
      "source": [
        "<a href=\"https://colab.research.google.com/github/sumaiyababar/Agentless-Security-Approach-For-Iot-Devices/blob/main/FeautureSelectionFYP.ipynb\" target=\"_parent\"><img src=\"https://colab.research.google.com/assets/colab-badge.svg\" alt=\"Open In Colab\"/></a>"
      ]
    },
    {
      "cell_type": "code",
      "execution_count": 1,
      "metadata": {
        "colab": {
          "base_uri": "https://localhost:8080/"
        },
        "id": "qh6vnASvWW7l",
        "outputId": "204a30c9-dbb9-41e5-9b81-45dc61792cfb"
      },
      "outputs": [
        {
          "output_type": "stream",
          "name": "stdout",
          "text": [
            "Mounted at /content/drive\n"
          ]
        }
      ],
      "source": [
        "from google.colab import drive\n",
        "drive.mount('/content/drive')"
      ]
    },
    {
      "cell_type": "code",
      "execution_count": 2,
      "metadata": {
        "id": "HBgNrLvkZOx9"
      },
      "outputs": [],
      "source": [
        "!cp -r /content/drive/MyDrive/ICUDatasetProcessed ."
      ]
    },
    {
      "cell_type": "code",
      "execution_count": 3,
      "metadata": {
        "colab": {
          "base_uri": "https://localhost:8080/"
        },
        "id": "xXXkUAvxZgd0",
        "outputId": "19344753-d57e-406b-f6d7-ff07fa912a1d"
      },
      "outputs": [
        {
          "output_type": "execute_result",
          "data": {
            "text/plain": [
              "['attack.csv',\n",
              " 'newattack.csv',\n",
              " 'environmentMonitoring.csv',\n",
              " 'Attack.csv',\n",
              " 'model.pkl',\n",
              " 'patientMonitoring.csv']"
            ]
          },
          "metadata": {},
          "execution_count": 3
        }
      ],
      "source": [
        "import os\n",
        "path = 'ICUDatasetProcessed/'\n",
        "csvs = os.listdir(path)\n",
        "csvs"
      ]
    },
    {
      "cell_type": "code",
      "execution_count": 4,
      "metadata": {
        "id": "ElwDEO3pZUqf"
      },
      "outputs": [],
      "source": [
        "import numpy as np  \n",
        "import pandas as pd\n",
        "import os\n",
        "import pickle\n",
        "from sklearn.model_selection import train_test_split\n",
        "from sklearn.datasets import make_classification\n",
        "from matplotlib import pyplot as plt\n",
        "from sklearn.linear_model import LogisticRegression\n",
        "from sklearn.model_selection import train_test_split\n",
        "from sklearn.metrics import confusion_matrix, ConfusionMatrixDisplay\n",
        "from sklearn.metrics import accuracy_score\n"
      ]
    },
    {
      "cell_type": "code",
      "execution_count": 50,
      "metadata": {
        "colab": {
          "base_uri": "https://localhost:8080/"
        },
        "id": "tCYNtOqsZcZY",
        "outputId": "ebcf0e0a-9b5f-4d5d-97e5-04692e2cb063"
      },
      "outputs": [
        {
          "output_type": "execute_result",
          "data": {
            "text/plain": [
              "Index(['frame.time_delta', 'frame.time_relative', 'frame.len', 'ip.src',\n",
              "       'ip.dst', 'tcp.srcport', 'tcp.dstport', 'ip.proto', 'ip.ttl',\n",
              "       'tcp.flags', 'tcp.time_delta', 'tcp.len', 'tcp.ack',\n",
              "       'tcp.connection.fin', 'tcp.connection.rst', 'tcp.connection.synack',\n",
              "       'tcp.connection.syn', 'tcp.flags.ack', 'tcp.flags.fin',\n",
              "       'tcp.flags.push', 'tcp.flags.reset', 'tcp.flags.syn', 'tcp.flags.urg',\n",
              "       'tcp.hdr_len', 'tcp.payload', 'tcp.pdu.size', 'tcp.window_size_value',\n",
              "       'tcp.checksum', 'mqtt.clientid', 'mqtt.clientid_len',\n",
              "       'mqtt.conack.flags', 'mqtt.conack.val', 'mqtt.conflag.passwd',\n",
              "       'mqtt.conflag.qos', 'mqtt.conflag.reserved', 'mqtt.conflag.retain',\n",
              "       'mqtt.conflag.willflag', 'mqtt.conflags', 'mqtt.dupflag',\n",
              "       'mqtt.hdrflags', 'mqtt.kalive', 'mqtt.len', 'mqtt.msg', 'mqtt.msgtype',\n",
              "       'mqtt.qos', 'mqtt.retain', 'mqtt.topic', 'mqtt.topic_len', 'mqtt.ver',\n",
              "       'mqtt.willmsg_len', 'label'],\n",
              "      dtype='object')"
            ]
          },
          "metadata": {},
          "execution_count": 50
        }
      ],
      "source": [
        "df4 = pd.read_csv('/content/drive/MyDrive/ICUDatasetProcessed/attack.csv',low_memory=False)\n",
        "df4.columns"
      ]
    },
    {
      "cell_type": "code",
      "source": [
        "df4.dtypes"
      ],
      "metadata": {
        "colab": {
          "base_uri": "https://localhost:8080/"
        },
        "id": "aoLKtS5SQTX0",
        "outputId": "f2fb241f-7df8-4a85-d862-e564c324f611"
      },
      "execution_count": 6,
      "outputs": [
        {
          "output_type": "execute_result",
          "data": {
            "text/plain": [
              "frame.time_delta         float64\n",
              "frame.time_relative      float64\n",
              "frame.len                  int64\n",
              "ip.src                    object\n",
              "ip.dst                    object\n",
              "tcp.srcport                int64\n",
              "tcp.dstport                int64\n",
              "ip.proto                   int64\n",
              "ip.ttl                     int64\n",
              "tcp.flags                 object\n",
              "tcp.time_delta           float64\n",
              "tcp.len                    int64\n",
              "tcp.ack                    int64\n",
              "tcp.connection.fin         int64\n",
              "tcp.connection.rst         int64\n",
              "tcp.connection.synack      int64\n",
              "tcp.connection.syn         int64\n",
              "tcp.flags.ack              int64\n",
              "tcp.flags.fin              int64\n",
              "tcp.flags.push             int64\n",
              "tcp.flags.reset            int64\n",
              "tcp.flags.syn              int64\n",
              "tcp.flags.urg              int64\n",
              "tcp.hdr_len                int64\n",
              "tcp.payload               object\n",
              "tcp.pdu.size               int64\n",
              "tcp.window_size_value      int64\n",
              "tcp.checksum              object\n",
              "mqtt.clientid             object\n",
              "mqtt.clientid_len          int64\n",
              "mqtt.conack.flags         object\n",
              "mqtt.conack.val            int64\n",
              "mqtt.conflag.passwd        int64\n",
              "mqtt.conflag.qos           int64\n",
              "mqtt.conflag.reserved      int64\n",
              "mqtt.conflag.retain        int64\n",
              "mqtt.conflag.willflag      int64\n",
              "mqtt.conflags             object\n",
              "mqtt.dupflag               int64\n",
              "mqtt.hdrflags             object\n",
              "mqtt.kalive                int64\n",
              "mqtt.len                   int64\n",
              "mqtt.msg                  object\n",
              "mqtt.msgtype               int64\n",
              "mqtt.qos                   int64\n",
              "mqtt.retain                int64\n",
              "mqtt.topic                object\n",
              "mqtt.topic_len             int64\n",
              "mqtt.ver                   int64\n",
              "mqtt.willmsg_len           int64\n",
              "label                      int64\n",
              "dtype: object"
            ]
          },
          "metadata": {},
          "execution_count": 6
        }
      ]
    },
    {
      "cell_type": "code",
      "source": [
        "df4=df4.astype(str)\n",
        "df4.dtypes"
      ],
      "metadata": {
        "colab": {
          "base_uri": "https://localhost:8080/"
        },
        "id": "B1nLQYTAQbl-",
        "outputId": "bc744579-c72d-4823-aa7c-b9fdf3ac9082"
      },
      "execution_count": 51,
      "outputs": [
        {
          "output_type": "execute_result",
          "data": {
            "text/plain": [
              "frame.time_delta         object\n",
              "frame.time_relative      object\n",
              "frame.len                object\n",
              "ip.src                   object\n",
              "ip.dst                   object\n",
              "tcp.srcport              object\n",
              "tcp.dstport              object\n",
              "ip.proto                 object\n",
              "ip.ttl                   object\n",
              "tcp.flags                object\n",
              "tcp.time_delta           object\n",
              "tcp.len                  object\n",
              "tcp.ack                  object\n",
              "tcp.connection.fin       object\n",
              "tcp.connection.rst       object\n",
              "tcp.connection.synack    object\n",
              "tcp.connection.syn       object\n",
              "tcp.flags.ack            object\n",
              "tcp.flags.fin            object\n",
              "tcp.flags.push           object\n",
              "tcp.flags.reset          object\n",
              "tcp.flags.syn            object\n",
              "tcp.flags.urg            object\n",
              "tcp.hdr_len              object\n",
              "tcp.payload              object\n",
              "tcp.pdu.size             object\n",
              "tcp.window_size_value    object\n",
              "tcp.checksum             object\n",
              "mqtt.clientid            object\n",
              "mqtt.clientid_len        object\n",
              "mqtt.conack.flags        object\n",
              "mqtt.conack.val          object\n",
              "mqtt.conflag.passwd      object\n",
              "mqtt.conflag.qos         object\n",
              "mqtt.conflag.reserved    object\n",
              "mqtt.conflag.retain      object\n",
              "mqtt.conflag.willflag    object\n",
              "mqtt.conflags            object\n",
              "mqtt.dupflag             object\n",
              "mqtt.hdrflags            object\n",
              "mqtt.kalive              object\n",
              "mqtt.len                 object\n",
              "mqtt.msg                 object\n",
              "mqtt.msgtype             object\n",
              "mqtt.qos                 object\n",
              "mqtt.retain              object\n",
              "mqtt.topic               object\n",
              "mqtt.topic_len           object\n",
              "mqtt.ver                 object\n",
              "mqtt.willmsg_len         object\n",
              "label                    object\n",
              "dtype: object"
            ]
          },
          "metadata": {},
          "execution_count": 51
        }
      ]
    },
    {
      "cell_type": "code",
      "execution_count": null,
      "metadata": {
        "colab": {
          "base_uri": "https://localhost:8080/"
        },
        "id": "fUTw2uDuZqMx",
        "outputId": "77df57c6-a4c6-45ef-b7ba-648e559e9e6b"
      },
      "outputs": [
        {
          "name": "stdout",
          "output_type": "stream",
          "text": [
            "---- Reading patientMonitoring.csv ----\n"
          ]
        },
        {
          "name": "stderr",
          "output_type": "stream",
          "text": [
            "/usr/local/lib/python3.7/dist-packages/IPython/core/interactiveshell.py:2882: DtypeWarning: Columns (26,28,35) have mixed types.Specify dtype option on import or set low_memory=False.\n",
            "  exec(code_obj, self.user_global_ns, self.user_ns)\n"
          ]
        },
        {
          "name": "stdout",
          "output_type": "stream",
          "text": [
            "df.shape: (76810, 52)\n",
            "empty_cols: 0\n",
            "[]\n",
            "df1.shape: (430354, 53)\n",
            "---- Reading attack.csv ----\n"
          ]
        },
        {
          "name": "stderr",
          "output_type": "stream",
          "text": [
            "/usr/local/lib/python3.7/dist-packages/IPython/core/interactiveshell.py:2882: DtypeWarning: Columns (28,30,37,42) have mixed types.Specify dtype option on import or set low_memory=False.\n",
            "  exec(code_obj, self.user_global_ns, self.user_ns)\n"
          ]
        },
        {
          "name": "stdout",
          "output_type": "stream",
          "text": [
            "df.shape: (164850, 51)\n",
            "empty_cols: 0\n",
            "[]\n",
            "df1.shape: (595204, 53)\n",
            "---- Reading Attack.csv ----\n",
            "df.shape: (80126, 52)\n",
            "empty_cols: 0\n",
            "[]\n",
            "df1.shape: (675330, 53)\n",
            "---- Reading environmentMonitoring.csv ----\n",
            "df.shape: (31758, 52)\n",
            "empty_cols: 0\n",
            "[]\n",
            "df1.shape: (707088, 53)\n"
          ]
        }
      ],
      "source": [
        "#data cleaning\n",
        "#run this cell if your data is not cleaned\n",
        "\"\"\"df4 = pd.DataFrame()\n",
        "\n",
        "for csv in csvs:\n",
        "  print(f'---- Reading {csv} ----')\n",
        "  df = pd.read_csv(path+csv)\n",
        "  print(f'df.shape: {df.shape}')\n",
        "  empty_cols = [col for col in df.columns if df[col].isnull().all()]\n",
        "  print(f'empty_cols: {len(empty_cols)}')\n",
        "  print(empty_cols)\n",
        "  df.fillna(0, inplace=True)\n",
        "  df4 = df4.append(df, ignore_index=True)\n",
        "  print(f'df1.shape: {df4.shape}')\"\"\""
      ]
    },
    {
      "cell_type": "code",
      "source": [
        "df4['label'].shape"
      ],
      "metadata": {
        "colab": {
          "base_uri": "https://localhost:8080/"
        },
        "id": "ytxy85kbppmR",
        "outputId": "dbe5704b-46b1-4e5d-f68f-4bdfeb7536ae"
      },
      "execution_count": 33,
      "outputs": [
        {
          "output_type": "execute_result",
          "data": {
            "text/plain": [
              "(164850,)"
            ]
          },
          "metadata": {},
          "execution_count": 33
        }
      ]
    },
    {
      "cell_type": "markdown",
      "source": [
        "**Data Visualization**\n",
        "\n"
      ],
      "metadata": {
        "id": "FuEeBgc3DUMl"
      }
    },
    {
      "cell_type": "code",
      "execution_count": 52,
      "metadata": {
        "colab": {
          "base_uri": "https://localhost:8080/",
          "height": 296
        },
        "id": "MPYSBXukZ56x",
        "outputId": "f02dc039-5a99-459f-8ba6-7c84804dd9df"
      },
      "outputs": [
        {
          "output_type": "execute_result",
          "data": {
            "text/plain": [
              "<matplotlib.axes._subplots.AxesSubplot at 0x7fa7bb2d9590>"
            ]
          },
          "metadata": {},
          "execution_count": 52
        },
        {
          "output_type": "display_data",
          "data": {
            "text/plain": [
              "<Figure size 432x288 with 1 Axes>"
            ],
            "image/png": "[encoded data removed]"
          },
          "metadata": {
            "needs_background": "light"
          }
        }
      ],
      "source": [
        "import seaborn as s\n",
        "s.countplot(x='label',data=df4)"
      ]
    },
    {
      "cell_type": "code",
      "source": [
        "feats = ['ip.src', 'ip.dst', 'tcp.srcport', 'tcp.dstport','mqtt.topic', 'mqtt.msg', 'tcp.payload','mqtt.clientid', 'mqtt.conflags', 'mqtt.conack.flags']"
      ],
      "metadata": {
        "id": "9pd3CRWzGDZs"
      },
      "execution_count": null,
      "outputs": []
    },
    {
      "cell_type": "code",
      "source": [
        "df4.drop(labels=feats,axis=1, inplace=True)\n",
        "df4.shape"
      ],
      "metadata": {
        "id": "71Y9A3WrGDLe"
      },
      "execution_count": null,
      "outputs": []
    },
    {
      "cell_type": "code",
      "source": [
        "fs1 =  ['frame.time_delta', 'tcp.flags', 'tcp.time_delta', 'tcp.connection.rst', 'tcp.flags.ack', 'tcp.flags.push', 'tcp.flags.reset', 'tcp.hdr_len', \n",
        "        'mqtt.clientid_len', 'mqtt.hdrflags', 'mqtt.msgtype', 'mqtt.qos', 'mqtt.ver', 'ip.proto', 'ip.ttl', 'label']\n",
        "fs2 = ['frame.time_delta', 'tcp.time_delta', 'tcp.flags.ack', 'tcp.flags.push', 'tcp.flags.reset', 'mqtt.hdrflags', 'mqtt.msgtype', 'mqtt.qos', 'mqtt.retain', 'mqtt.ver', 'label']"
      ],
      "metadata": {
        "id": "OF1eoKfWGDBO"
      },
      "execution_count": null,
      "outputs": []
    },
    {
      "cell_type": "code",
      "source": [
        "df4 = df4[fs2]\n",
        "df4.shape\n",
        "df4.head()"
      ],
      "metadata": {
        "id": "IJXxrBxWGC1C"
      },
      "execution_count": null,
      "outputs": []
    },
    {
      "cell_type": "markdown",
      "source": [
        "**Resampling of Data-- Data Balancing**"
      ],
      "metadata": {
        "id": "dwLGrvismzDv"
      }
    },
    {
      "cell_type": "code",
      "source": [
        "#dividing our dataset into 4 parts\n",
        "label1=df4[df4[\"label\"]==str(1)]\n",
        "label2=df4[df4[\"label\"]==str(2)]\n",
        "label3=df4[df4[\"label\"]==str(3)]\n",
        "label4=df4[df4[\"label\"]==str(4)]\n",
        "print(label1.shape)\n",
        "print(label2.shape)\n",
        "print(label3.shape)\n",
        "print(label4.shape)\n"
      ],
      "metadata": {
        "colab": {
          "base_uri": "https://localhost:8080/"
        },
        "id": "LSkLbXLknsZn",
        "outputId": "7224a45e-1025-409e-aa19-a7a1ca36045e"
      },
      "execution_count": 58,
      "outputs": [
        {
          "output_type": "stream",
          "name": "stdout",
          "text": [
            "(14501, 11)\n",
            "(9202, 11)\n",
            "(10924, 11)\n",
            "(130223, 11)\n"
          ]
        }
      ]
    },
    {
      "cell_type": "code",
      "source": [
        "#Down Sampling\n",
        "from sklearn.utils import resample\n",
        "dnsample4=resample(label4,replace=True,n_samples=len(label3),random_state=46) \n",
        "label4=dnsample4\n",
        "print(label4.shape)"
      ],
      "metadata": {
        "colab": {
          "base_uri": "https://localhost:8080/"
        },
        "id": "T0HptPFjmyDu",
        "outputId": "b640b8dc-85d6-4225-b40e-43e778db245b"
      },
      "execution_count": 59,
      "outputs": [
        {
          "output_type": "stream",
          "name": "stdout",
          "text": [
            "(10924, 11)\n"
          ]
        }
      ]
    },
    {
      "cell_type": "code",
      "source": [
        "data_dnsampled=pd.concat([label1,label2,label3,label4])\n",
        "print(data_dnsampled[\"label\"].value_counts())\n"
      ],
      "metadata": {
        "colab": {
          "base_uri": "https://localhost:8080/"
        },
        "id": "ZRE3na5Uq_WB",
        "outputId": "ab5344cf-d640-4fe9-f2a7-b0d4be0e3bd9"
      },
      "execution_count": 60,
      "outputs": [
        {
          "output_type": "stream",
          "name": "stdout",
          "text": [
            "1    14501\n",
            "3    10924\n",
            "4    10924\n",
            "2     9202\n",
            "Name: label, dtype: int64\n"
          ]
        }
      ]
    },
    {
      "cell_type": "code",
      "source": [
        "type_attack = [1,2,3,4]\n",
        "counts = list(data_dnsampled.value_counts())\n",
        "plt.figure(figsize = (8,6))\n",
        "df4=data_dnsampled\n",
        "#s.barplot(x = data_dnsampled.any(), y = counts)"
      ],
      "metadata": {
        "colab": {
          "base_uri": "https://localhost:8080/",
          "height": 34
        },
        "id": "5sQ83tqusqAR",
        "outputId": "ea1ae7d0-fb4d-4872-a84c-1268c13d52af"
      },
      "execution_count": 61,
      "outputs": [
        {
          "output_type": "display_data",
          "data": {
            "text/plain": [
              "<Figure size 576x432 with 0 Axes>"
            ]
          },
          "metadata": {}
        }
      ]
    },
    {
      "cell_type": "code",
      "source": [
        "s.countplot(x='label',data=data_dnsampled)"
      ],
      "metadata": {
        "colab": {
          "base_uri": "https://localhost:8080/",
          "height": 296
        },
        "id": "72kcFRtHEOEC",
        "outputId": "de730cdd-28cd-49d4-91e8-7f64088720c6"
      },
      "execution_count": 62,
      "outputs": [
        {
          "output_type": "execute_result",
          "data": {
            "text/plain": [
              "<matplotlib.axes._subplots.AxesSubplot at 0x7fa7dab41b90>"
            ]
          },
          "metadata": {},
          "execution_count": 62
        },
        {
          "output_type": "display_data",
          "data": {
            "text/plain": [
              "<Figure size 432x288 with 1 Axes>"
            ],
            "image/png": "[encoded data removed]"
          },
          "metadata": {
            "needs_background": "light"
          }
        }
      ]
    },
    {
      "cell_type": "code",
      "execution_count": 63,
      "metadata": {
        "id": "6qt-eOpDj_zo"
      },
      "outputs": [],
      "source": [
        "from sklearn import preprocessing\n",
        "label_encoder = preprocessing.LabelEncoder()\n",
        "\n",
        "#df1['tcp.flags']= label_encoder.fit_transform(df1['tcp.flags'])\n",
        "#df1['tcp.checksum']= label_encoder.fit_transform(df1['tcp.checksum'])\n",
        "df4['mqtt.hdrflags']= label_encoder.fit_transform(df4['mqtt.hdrflags'])"
      ]
    },
    {
      "cell_type": "code",
      "execution_count": 64,
      "metadata": {
        "id": "Eu4VghEqkFa-"
      },
      "outputs": [],
      "source": [
        "X_train, X_test, y_train, y_test = train_test_split( df4.drop(labels=['label'], axis=1), df4['label'], \n",
        "                                                                            test_size=0.3, random_state=100)"
      ]
    },
    {
      "cell_type": "code",
      "source": [
        "print(X_train.shape,X_test.shape)"
      ],
      "metadata": {
        "colab": {
          "base_uri": "https://localhost:8080/"
        },
        "id": "DVHfR-se7xTE",
        "outputId": "d3c1fe78-7c89-404d-9922-64020771a294"
      },
      "execution_count": 65,
      "outputs": [
        {
          "output_type": "stream",
          "name": "stdout",
          "text": [
            "(31885, 10) (13666, 10)\n"
          ]
        }
      ]
    },
    {
      "cell_type": "code",
      "execution_count": 66,
      "metadata": {
        "colab": {
          "base_uri": "https://localhost:8080/"
        },
        "id": "9UbO7-XYkKSg",
        "outputId": "ee35d9be-2c6c-4d97-c90a-c0308bf38d13"
      },
      "outputs": [
        {
          "output_type": "stream",
          "name": "stdout",
          "text": [
            "---------- SelectFromModel LogisticRegression -----------\n",
            "embeded_LR_support [ True False False  True  True  True  True  True False False]\n",
            "6 selected features\n",
            "embeded_LR_features:  ['frame.time_delta', 'tcp.flags.push', 'tcp.flags.reset', 'mqtt.hdrflags', 'mqtt.msgtype', 'mqtt.qos']\n"
          ]
        },
        {
          "output_type": "stream",
          "name": "stderr",
          "text": [
            "/usr/local/lib/python3.7/dist-packages/sklearn/svm/_base.py:1208: ConvergenceWarning: Liblinear failed to converge, increase the number of iterations.\n",
            "  ConvergenceWarning,\n"
          ]
        }
      ],
      "source": [
        "from sklearn.feature_selection import SelectFromModel\n",
        "from sklearn.linear_model import LogisticRegression\n",
        "\n",
        "print('---------- SelectFromModel LogisticRegression -----------')\n",
        "embeded_LR_selector = SelectFromModel(LogisticRegression(penalty=\"l1\", solver='liblinear'), threshold='0.9*median',\n",
        "                                      max_features = 10)\n",
        "\n",
        "embeded_LR_selector.fit(X_train, y_train)\n",
        "embeded_LR_support = embeded_LR_selector.get_support()\n",
        "print('embeded_LR_support',embeded_LR_support)\n",
        "\n",
        "\n",
        "embeded_LR_feature = X_train.loc[:,embeded_LR_support].columns.tolist()\n",
        "\n",
        "print(len(embeded_LR_feature), 'selected features')\n",
        "print('embeded_LR_features: ', embeded_LR_feature)"
      ]
    },
    {
      "cell_type": "code",
      "execution_count": 67,
      "metadata": {
        "id": "8yvEbOA3lp4r"
      },
      "outputs": [],
      "source": [
        "fs1 =  ['frame.time_delta', 'tcp.flags', 'tcp.time_delta', 'tcp.connection.rst', 'tcp.flags.ack', 'tcp.flags.push', 'tcp.flags.reset', 'tcp.hdr_len', 'mqtt.clientid_len', 'mqtt.hdrflags', 'mqtt.msgtype', 'mqtt.qos', 'mqtt.ver', 'ip.proto', 'ip.ttl']\n",
        "# fs2 contained selected feautures except 'tcp.time_delta', 'tcp.flags.ack' (important )\n",
        "fs2 = ['frame.time_delta', 'tcp.time_delta', 'tcp.flags.ack', 'tcp.flags.push', 'tcp.flags.reset', 'mqtt.hdrflags', 'mqtt.msgtype', 'mqtt.qos', 'mqtt.retain', 'mqtt.ver']"
      ]
    },
    {
      "cell_type": "code",
      "execution_count": 68,
      "metadata": {
        "id": "6yfmfmWTebKf"
      },
      "outputs": [],
      "source": [
        "from sklearn.naive_bayes import GaussianNB\n",
        "from sklearn.neighbors import KNeighborsClassifier\n",
        "from sklearn.ensemble import RandomForestClassifier, AdaBoostClassifier\n",
        "from sklearn import linear_model #Linear Regression\n",
        "#from sklearn.linear_model import LogisticRegression\n",
        "from sklearn.tree import DecisionTreeClassifier\n",
        "from sklearn.svm import SVC   #SVM\n",
        "\n",
        "from sklearn.metrics import confusion_matrix  \n",
        "from sklearn.metrics import precision_score, recall_score, f1_score, accuracy_score\n",
        "from sklearn.metrics import classification_report"
      ]
    },
    {
      "cell_type": "code",
      "execution_count": 69,
      "metadata": {
        "colab": {
          "base_uri": "https://localhost:8080/"
        },
        "id": "38E_F1bsndoS",
        "outputId": "bf36886b-3e5d-4535-9093-3ecb0a520ad9"
      },
      "outputs": [
        {
          "output_type": "stream",
          "name": "stdout",
          "text": [
            "--------Applying GaussianNB Classifier ----------\n",
            "--------Applying KNeighbors Classifier ----------\n",
            "--------Applying RandomForest Classifier ----------\n",
            "--------Applying AdaBoost Classifier ----------\n",
            "--------Applying LogisticRegression Classifier ----------\n",
            "--------Applying DecisionTree Classifier ----------\n"
          ]
        }
      ],
      "source": [
        "\n",
        "print('--------Applying GaussianNB Classifier ----------')\n",
        "gnb = GaussianNB()\n",
        "gnb_fit = gnb.fit(X_train, y_train)  \n",
        "gnb_prediction = gnb.predict(X_test) \n",
        "\n",
        "\n",
        "print('--------Applying KNeighbors Classifier ----------')\n",
        "KNN_model = KNeighborsClassifier(n_neighbors=5)\n",
        "KNN_model.fit(X_train, y_train)\n",
        "KNN_prediction = KNN_model.predict(X_test)\n",
        "\n",
        "print('--------Applying RandomForest Classifier ----------')\n",
        "RF = RandomForestClassifier(max_depth=10, random_state=100)  \n",
        "RF.fit(X_train, y_train)\n",
        "RF_prediction = RF.predict(X_test)\n",
        "\n",
        "\n",
        "print('--------Applying AdaBoost Classifier ----------')\n",
        "AB = AdaBoostClassifier()\n",
        "AB.fit(X_train, y_train)\n",
        "AB_prediction = AB.predict(X_test)\n",
        "\n",
        "\n",
        "print('--------Applying LogisticRegression Classifier ----------')\n",
        "#LogR = LogisticRegression()\n",
        "LogR = linear_model.LogisticRegression(multi_class='multinomial', max_iter=1000,solver=\"lbfgs\")\n",
        "LogR.fit(X_train, y_train)\n",
        "LogR_prediction = LogR.predict(X_test)\n",
        "\n",
        "\n",
        "print('--------Applying DecisionTree Classifier ----------')\n",
        "DT = DecisionTreeClassifier(criterion = \"gini\", random_state = 100, max_depth=10, min_samples_leaf=5)\n",
        "DT.fit(X_train, y_train)\n",
        "DT_prediction = DT.predict(X_test)\n"
      ]
    },
    {
      "cell_type": "code",
      "execution_count": 70,
      "metadata": {
        "colab": {
          "base_uri": "https://localhost:8080/"
        },
        "id": "j43ag9RPn7f5",
        "outputId": "55b8f6bf-fba9-4578-810f-fd6610f63842"
      },
      "outputs": [
        {
          "output_type": "stream",
          "name": "stdout",
          "text": [
            "-------Performance Evaluation----------\n",
            "type(results):  <class 'list'>\n",
            "results:  [('LR', '', '', '', ''), ('Classifier', 'Accuracy', 'Precision', 'Recall', 'F1-Score'), ('NB ', 40.377579394116786, 66.86673772482418, 44.271312487906044, 36.503430357724454), ('KNN ', 86.2871359578516, 86.7570364833437, 86.2871359578516, 86.24903882073897), ('RF ', 85.5261232255232, 86.2078033737789, 85.62292555160191, 85.50953983790616), ('AB ', 53.16112981121031, 53.16112981121031, 53.16112981121031, 53.16112981121031), ('LogR ', 61.18835065125128, 61.18835065125128, 61.18835065125128, 61.18835065125128), ('DT ', 85.35050490267818, 85.35050490267818, 85.35050490267818, 85.35050490267818)]\n",
            "type(df_results):  <class 'pandas.core.frame.DataFrame'>\n",
            "df_results:              0          1          2          3          4\n",
            "0          LR                                            \n",
            "1  Classifier   Accuracy  Precision     Recall   F1-Score\n",
            "2         NB   40.377579  66.866738  44.271312   36.50343\n",
            "3        KNN   86.287136  86.757036  86.287136  86.249039\n",
            "4         RF   85.526123  86.207803  85.622926   85.50954\n",
            "5         AB    53.16113   53.16113   53.16113   53.16113\n",
            "6       LogR   61.188351  61.188351  61.188351  61.188351\n",
            "7         DT   85.350505  85.350505  85.350505  85.350505\n"
          ]
        }
      ],
      "source": [
        "print('-------Performance Evaluation----------')\n",
        "#precision_score, recall_score, f1_score, accuracy_score\n",
        "results = []\n",
        "selector = 'LR'\n",
        "results.append((selector,'','', '',''))\n",
        "results.append(('Classifier','Accuracy','Precision', 'Recall','F1-Score'))\n",
        "results.append(('NB ', accuracy_score(y_test,  gnb_prediction)*100,\n",
        "                precision_score(y_test,  gnb_prediction,average='macro')*100,\n",
        "                recall_score(y_test,  gnb_prediction,average='macro')*100,\n",
        "                f1_score(y_test,  gnb_prediction,average='macro')*100))\n",
        "results.append(('KNN ', accuracy_score(y_test, KNN_prediction)*100,\n",
        "                precision_score(y_test, KNN_prediction,average='weighted')*100,\n",
        "                recall_score(y_test, KNN_prediction,average='weighted')*100,\n",
        "                f1_score(y_test, KNN_prediction,average='weighted')*100))\n",
        "results.append(('RF ', accuracy_score(y_test,  RF_prediction)*100,\n",
        "                precision_score(y_test,  RF_prediction,average='macro')*100,\n",
        "                recall_score(y_test,  RF_prediction,average='macro')*100,\n",
        "                f1_score(y_test,  RF_prediction,average='macro')*100))\n",
        "results.append(('AB ', accuracy_score(y_test,  AB_prediction)*100,\n",
        "                precision_score(y_test,  AB_prediction,average='micro')*100,\n",
        "                recall_score(y_test,  AB_prediction,average='micro')*100,\n",
        "                f1_score(y_test,  AB_prediction,average='micro')*100))\n",
        "results.append(('LogR ', accuracy_score(y_test,  LogR_prediction)*100,\n",
        "                precision_score(y_test,  LogR_prediction,average='micro')*100,\n",
        "                recall_score(y_test,  LogR_prediction,average='micro')*100,\n",
        "                f1_score(y_test,  LogR_prediction,average='micro')*100))\n",
        "results.append(('DT ', accuracy_score(y_test,  DT_prediction)*100,\n",
        "                precision_score(y_test,  DT_prediction,average='micro')*100,\n",
        "                recall_score(y_test,  DT_prediction,average='micro')*100,\n",
        "                f1_score(y_test,  DT_prediction,average='micro')*100))\n",
        "\n",
        "print('type(results): ', type(results))\n",
        "print('results: ', results)\n",
        "df_results = pd.DataFrame(results)\n",
        "print('type(df_results): ', type(df_results))\n",
        "print('df_results: ', df_results)"
      ]
    },
    {
      "cell_type": "code",
      "execution_count": 71,
      "metadata": {
        "colab": {
          "base_uri": "https://localhost:8080/"
        },
        "id": "t55CMvqsoC4i",
        "outputId": "f28ce386-37e2-4c98-e928-098f4fdff68e"
      },
      "outputs": [
        {
          "output_type": "stream",
          "name": "stdout",
          "text": [
            "Confusion Matrix gnb_prediction\n",
            "[[ 449 2547    2 1329]\n",
            " [   3 2151    3  599]\n",
            " [  22 1673  586 1011]\n",
            " [   0  959    0 2332]]\n",
            "Confusion Matrix KNN_prediction\n",
            "[[3983   93  107  144]\n",
            " [  92 2492  117   55]\n",
            " [ 519  147 2560   66]\n",
            " [ 346  130   58 2757]]\n",
            "Confusion Matrix RF_prediction\n",
            "[[3802  170   78  277]\n",
            " [  81 2547   70   58]\n",
            " [ 623  169 2389  111]\n",
            " [ 118  188   35 2950]]\n",
            "Confusion Matrix AB_prediction\n",
            "[[2550  543  890  344]\n",
            " [  42 2481  172   61]\n",
            " [ 568  985 1471  268]\n",
            " [  99  190 2239  763]]\n",
            "Confusion Matrix LogR_prediction\n",
            "[[4308    0   19    0]\n",
            " [2132  621    3    0]\n",
            " [1918  236 1117   21]\n",
            " [ 975    0    0 2316]]\n",
            "Confusion Matrix DT_prediction\n",
            "[[3784  191   65  287]\n",
            " [  74 2550   74   58]\n",
            " [ 594  200 2368  130]\n",
            " [ 113  179   37 2962]]\n"
          ]
        }
      ],
      "source": [
        "print('Confusion Matrix gnb_prediction')\n",
        "print(confusion_matrix(y_test,gnb_prediction))\n",
        "print('Confusion Matrix KNN_prediction')\n",
        "print(confusion_matrix(y_test,KNN_prediction))\n",
        "print('Confusion Matrix RF_prediction')\n",
        "print(confusion_matrix(y_test,RF_prediction))\n",
        "print('Confusion Matrix AB_prediction')\n",
        "print(confusion_matrix(y_test,AB_prediction))\n",
        "print('Confusion Matrix LogR_prediction')\n",
        "print(confusion_matrix(y_test,LogR_prediction))\n",
        "print('Confusion Matrix DT_prediction')\n",
        "print(confusion_matrix(y_test,DT_prediction))"
      ]
    },
    {
      "cell_type": "markdown",
      "metadata": {
        "id": "ke6xpePfyFgR"
      },
      "source": [
        "**GENERATING HEAT MAPS FOR THE RANDOM FOREST MODEL**"
      ]
    },
    {
      "cell_type": "code",
      "execution_count": 72,
      "metadata": {
        "id": "SEA_WMg9oG3o"
      },
      "outputs": [],
      "source": [
        "cm=confusion_matrix(y_test,RF_prediction)\n",
        "dt=confusion_matrix(y_test,DT_prediction)\n",
        "lr=confusion_matrix(y_test,LogR_prediction)\n",
        "knn=confusion_matrix(y_test,KNN_prediction)\n",
        "nb=confusion_matrix(y_test,gnb_prediction)\n",
        "ab=confusion_matrix(y_test,AB_prediction)\n"
      ]
    },
    {
      "cell_type": "code",
      "execution_count": 73,
      "metadata": {
        "id": "yf_dyuqNzIiR"
      },
      "outputs": [],
      "source": [
        "cmd_object=ConfusionMatrixDisplay(cm)\n",
        "dt_object=ConfusionMatrixDisplay(dt)\n",
        "lr_object=ConfusionMatrixDisplay(lr)\n",
        "knn_object=ConfusionMatrixDisplay(knn)\n",
        "nb_object=ConfusionMatrixDisplay(nb)\n",
        "ab_object=ConfusionMatrixDisplay(ab)\n"
      ]
    },
    {
      "cell_type": "markdown",
      "metadata": {
        "id": "c6lWLBjDS5C8"
      },
      "source": [
        "**Confusion Matrix for Random Forest**"
      ]
    },
    {
      "cell_type": "code",
      "execution_count": 74,
      "metadata": {
        "colab": {
          "base_uri": "https://localhost:8080/",
          "height": 296
        },
        "id": "eA5QEI3tzB2-",
        "outputId": "5c36b54b-86c8-4fc8-93b3-8b8f8653f850"
      },
      "outputs": [
        {
          "output_type": "execute_result",
          "data": {
            "text/plain": [
              "<sklearn.metrics._plot.confusion_matrix.ConfusionMatrixDisplay at 0x7fa7dbf5c1d0>"
            ]
          },
          "metadata": {},
          "execution_count": 74
        },
        {
          "output_type": "display_data",
          "data": {
            "text/plain": [
              "<Figure size 432x288 with 2 Axes>"
            ],
            "image/png": "[encoded data removed]"
          },
          "metadata": {
            "needs_background": "light"
          }
        }
      ],
      "source": [
        "cmd_object.plot()"
      ]
    },
    {
      "cell_type": "markdown",
      "metadata": {
        "id": "Zd3b6U9ZmLWX"
      },
      "source": [
        "**Confusion Matrix for Decision Tree Classifier** "
      ]
    },
    {
      "cell_type": "code",
      "execution_count": 75,
      "metadata": {
        "colab": {
          "base_uri": "https://localhost:8080/",
          "height": 296
        },
        "id": "LgCzbCn6mCaf",
        "outputId": "36ceedec-d607-4b51-f650-a33086496122"
      },
      "outputs": [
        {
          "output_type": "execute_result",
          "data": {
            "text/plain": [
              "<sklearn.metrics._plot.confusion_matrix.ConfusionMatrixDisplay at 0x7fa7dbf5ca90>"
            ]
          },
          "metadata": {},
          "execution_count": 75
        },
        {
          "output_type": "display_data",
          "data": {
            "text/plain": [
              "<Figure size 432x288 with 2 Axes>"
            ],
            "image/png": "[encoded data removed]"
          },
          "metadata": {
            "needs_background": "light"
          }
        }
      ],
      "source": [
        "dt_object.plot()"
      ]
    },
    {
      "cell_type": "markdown",
      "metadata": {
        "id": "Mli50SOFme_r"
      },
      "source": [
        "**Confusion Matrix for KNN Classifier** "
      ]
    },
    {
      "cell_type": "code",
      "execution_count": 76,
      "metadata": {
        "colab": {
          "base_uri": "https://localhost:8080/",
          "height": 296
        },
        "id": "__Jo2RO7m9IB",
        "outputId": "21e2499a-45f3-46ba-9f7b-cba16ed802b7"
      },
      "outputs": [
        {
          "output_type": "execute_result",
          "data": {
            "text/plain": [
              "<sklearn.metrics._plot.confusion_matrix.ConfusionMatrixDisplay at 0x7fa7dbf5c990>"
            ]
          },
          "metadata": {},
          "execution_count": 76
        },
        {
          "output_type": "display_data",
          "data": {
            "text/plain": [
              "<Figure size 432x288 with 2 Axes>"
            ],
            "image/png": "[encoded data removed]"
          },
          "metadata": {
            "needs_background": "light"
          }
        }
      ],
      "source": [
        "knn_object.plot()"
      ]
    },
    {
      "cell_type": "markdown",
      "metadata": {
        "id": "PTFQ3EmUmezH"
      },
      "source": [
        "**Confusion Matrix for Ada Boost Classifier** "
      ]
    },
    {
      "cell_type": "code",
      "execution_count": 77,
      "metadata": {
        "colab": {
          "base_uri": "https://localhost:8080/",
          "height": 296
        },
        "id": "YeRbd-i9nMTE",
        "outputId": "4348f45b-4e58-4c35-87be-cc31585e43ab"
      },
      "outputs": [
        {
          "output_type": "execute_result",
          "data": {
            "text/plain": [
              "<sklearn.metrics._plot.confusion_matrix.ConfusionMatrixDisplay at 0x7fa7dbf5c750>"
            ]
          },
          "metadata": {},
          "execution_count": 77
        },
        {
          "output_type": "display_data",
          "data": {
            "text/plain": [
              "<Figure size 432x288 with 2 Axes>"
            ],
            "image/png": "[encoded data removed]"
          },
          "metadata": {
            "needs_background": "light"
          }
        }
      ],
      "source": [
        "\n",
        "ab_object.plot()"
      ]
    },
    {
      "cell_type": "markdown",
      "metadata": {
        "id": "5hBqv5awmdwd"
      },
      "source": [
        "**Confusion Matrix for Logistic Regression** \n",
        "\n",
        "\n",
        "\n"
      ]
    },
    {
      "cell_type": "code",
      "execution_count": 79,
      "metadata": {
        "colab": {
          "base_uri": "https://localhost:8080/",
          "height": 296
        },
        "id": "OZJDmW7unIyj",
        "outputId": "056ae86a-6689-4703-b55c-a64ec9be70d9"
      },
      "outputs": [
        {
          "output_type": "execute_result",
          "data": {
            "text/plain": [
              "<sklearn.metrics._plot.confusion_matrix.ConfusionMatrixDisplay at 0x7fa7dbf5c4d0>"
            ]
          },
          "metadata": {},
          "execution_count": 79
        },
        {
          "output_type": "display_data",
          "data": {
            "text/plain": [
              "<Figure size 432x288 with 2 Axes>"
            ],
            "image/png": "[encoded data removed]"
          },
          "metadata": {
            "needs_background": "light"
          }
        }
      ],
      "source": [
        "lr_object.plot()"
      ]
    },
    {
      "cell_type": "markdown",
      "metadata": {
        "id": "9kIVBHJImvqc"
      },
      "source": [
        "**Confusion Matrix for Naive Bayes Classifier** "
      ]
    },
    {
      "cell_type": "code",
      "execution_count": 80,
      "metadata": {
        "colab": {
          "base_uri": "https://localhost:8080/",
          "height": 296
        },
        "id": "QWL2oMzanPVr",
        "outputId": "9a83fcab-271b-4bd7-ec7c-3b90c8f0a233"
      },
      "outputs": [
        {
          "output_type": "execute_result",
          "data": {
            "text/plain": [
              "<sklearn.metrics._plot.confusion_matrix.ConfusionMatrixDisplay at 0x7fa7dbf5c3d0>"
            ]
          },
          "metadata": {},
          "execution_count": 80
        },
        {
          "output_type": "display_data",
          "data": {
            "text/plain": [
              "<Figure size 432x288 with 2 Axes>"
            ],
            "image/png": "[encoded data removed]"
          },
          "metadata": {
            "needs_background": "light"
          }
        }
      ],
      "source": [
        "nb_object.plot()"
      ]
    },
    {
      "cell_type": "code",
      "execution_count": 81,
      "metadata": {
        "colab": {
          "base_uri": "https://localhost:8080/"
        },
        "id": "gxIrN7u8z5JM",
        "outputId": "9c00fd41-7c41-46bc-f07e-290d4f4e62c9"
      },
      "outputs": [
        {
          "output_type": "execute_result",
          "data": {
            "text/plain": [
              "[Text(17.19999999999999, 0.5, 'Actual Attacks'),\n",
              " Text(0.5, 17.200000000000003, 'Predicted Attacks'),\n",
              " Text(0.5, 1.0, 'Confusion Matrix with Labels')]"
            ]
          },
          "metadata": {},
          "execution_count": 81
        }
      ],
      "source": [
        "cmd_object.ax_.set(\n",
        "    title='Confusion Matrix with Labels',\n",
        "    xlabel='Predicted Attacks',\n",
        "    ylabel='Actual Attacks'\n",
        ")"
      ]
    },
    {
      "cell_type": "code",
      "execution_count": 82,
      "metadata": {
        "colab": {
          "base_uri": "https://localhost:8080/",
          "height": 265
        },
        "id": "PwB9vn6_0RsS",
        "outputId": "6b700bac-5acc-405d-ca17-64adaa8c3571"
      },
      "outputs": [
        {
          "output_type": "display_data",
          "data": {
            "text/plain": [
              "<Figure size 432x288 with 2 Axes>"
            ],
            "image/png": "[encoded data removed]"
          },
          "metadata": {
            "needs_background": "light"
          }
        }
      ],
      "source": [
        "ax=s.heatmap(cm,annot=True,fmt='g')"
      ]
    },
    {
      "cell_type": "code",
      "execution_count": null,
      "metadata": {
        "colab": {
          "base_uri": "https://localhost:8080/"
        },
        "id": "II1hCTNS1-Pt",
        "outputId": "0983cf76-4e88-40b9-8215-779dcca43e19"
      },
      "outputs": [
        {
          "data": {
            "text/plain": [
              "[Text(0, 0.5, 'bruteforce'),\n",
              " Text(0, 1.5, 'slowite'),\n",
              " Text(0, 2.5, 'malware'),\n",
              " Text(0, 3.5, 'dos')]"
            ]
          },
          "execution_count": 30,
          "metadata": {},
          "output_type": "execute_result"
        }
      ],
      "source": [
        "ax.set_title('Seaborn Confusion matrix with Labels')\n",
        "ax.set_xlabel('Predicted Attack')\n",
        "ax.set_ylabel('Actual Attack')\n",
        "ax.xaxis.set_ticklabels(['bruteforce','slowite','malware','dos'])\n",
        "ax.yaxis.set_ticklabels(['bruteforce','slowite','malware','dos'])"
      ]
    },
    {
      "cell_type": "markdown",
      "metadata": {
        "id": "AUEpFuE1UdOc"
      },
      "source": [
        "# Saving ML Model "
      ]
    },
    {
      "cell_type": "code",
      "execution_count": null,
      "metadata": {
        "id": "3iMf4gFsUlBu"
      },
      "outputs": [],
      "source": [
        "\"\"\"import pickle\n",
        "with open('model','wb') as f:\n",
        "  pickle.dump(RF,f)\"\"\""
      ]
    },
    {
      "cell_type": "code",
      "execution_count": null,
      "metadata": {
        "id": "zgD-w02mX-pX"
      },
      "outputs": [],
      "source": [
        "#Recall the store model for future session\n",
        "\"\"\"import pickle\n",
        "with open('model.pkl','rb') as f:\n",
        "  modell=pickle.load(f)\"\"\""
      ]
    },
    {
      "cell_type": "markdown",
      "metadata": {
        "id": "FNf1vsheX_ak"
      },
      "source": [
        "Method no 2"
      ]
    },
    {
      "cell_type": "code",
      "execution_count": 89,
      "metadata": {
        "id": "tKY-j0OxUqo0"
      },
      "outputs": [],
      "source": [
        "import pickle\n",
        "pickle.dump(KNN_model, open('/content/ICUDatasetProcessed/newmodel.pkl','wb'))"
      ]
    },
    {
      "cell_type": "code",
      "execution_count": 90,
      "metadata": {
        "id": "q0i1Nv89oS6R"
      },
      "outputs": [],
      "source": [
        "model = pickle.load(open('/content/ICUDatasetProcessed/newmodel.pkl','rb'))"
      ]
    },
    {
      "cell_type": "code",
      "execution_count": null,
      "metadata": {
        "id": "gS8y6USEjcII"
      },
      "outputs": [],
      "source": [
        "\n",
        "to_predict_list='/content/ICUDatasetProcessed/attack.csv'\n",
        "to_predict=np.array(to_predict_list).reshape(-1,1)\n"
      ]
    },
    {
      "cell_type": "code",
      "execution_count": 31,
      "metadata": {
        "id": "C_z6DUmKZ15k"
      },
      "outputs": [],
      "source": [
        "df6=pd.read_csv('/content/ICUDatasetProcessed/Attack.csv',index_col=0, low_memory=False)\n",
        "prediction=np.array(df6).reshape(1,-1)"
      ]
    },
    {
      "cell_type": "code",
      "execution_count": 88,
      "metadata": {
        "colab": {
          "base_uri": "https://localhost:8080/"
        },
        "id": "ZXvB_auybBov",
        "outputId": "eccac88b-7463-4831-8ed7-e7411ae2b94b"
      },
      "outputs": [
        {
          "output_type": "execute_result",
          "data": {
            "text/plain": [
              "array(['1', '2', '2', ..., '3', '3', '3'], dtype=object)"
            ]
          },
          "metadata": {},
          "execution_count": 88
        }
      ],
      "source": [
        "model.predict(X_test)"
      ]
    },
    {
      "cell_type": "code",
      "execution_count": 84,
      "metadata": {
        "colab": {
          "base_uri": "https://localhost:8080/"
        },
        "id": "ZK1Pgnd9MFgo",
        "outputId": "e94ac114-e4af-4a29-e82f-2bcfd4d893e1"
      },
      "outputs": [
        {
          "output_type": "execute_result",
          "data": {
            "text/plain": [
              "array(['1', '2', '2', ..., '3', '3', '3'], dtype=object)"
            ]
          },
          "metadata": {},
          "execution_count": 84
        }
      ],
      "source": [
        "DT.predict(X_test)"
      ]
    }
  ],
  "metadata": {
    "colab": {
      "collapsed_sections": [],
      "name": "FeautureSelectionFYP.ipynb",
      "provenance": [],
      "authorship_tag": "ABX9TyMGBdZzmVfEJ8IHu/kMNNFV",
      "include_colab_link": true
    },
    "kernelspec": {
      "display_name": "Python 3",
      "name": "python3"
    },
    "language_info": {
      "name": "python"
    }
  },
  "nbformat": 4,
  "nbformat_minor": 0
}