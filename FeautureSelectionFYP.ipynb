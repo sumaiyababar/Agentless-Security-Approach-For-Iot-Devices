{
  "nbformat": 4,
  "nbformat_minor": 0,
  "metadata": {
    "colab": {
      "name": "FeautureSelectionFYP.ipynb",
      "provenance": [],
      "collapsed_sections": [],
      "authorship_tag": "ABX9TyOMSpQ9PzO58CZ+hugTCsHY",
      "include_colab_link": true
    },
    "kernelspec": {
      "name": "python3",
      "display_name": "Python 3"
    },
    "language_info": {
      "name": "python"
    }
  },
  "cells": [
    {
      "cell_type": "markdown",
      "metadata": {
        "id": "view-in-github",
        "colab_type": "text"
      },
      "source": [
        "<a href=\"https://colab.research.google.com/github/sumaiyababar/Agentless-Security-Approach-For-Iot-Devices/blob/main/FeautureSelectionFYP.ipynb\" target=\"_parent\"><img src=\"https://colab.research.google.com/assets/colab-badge.svg\" alt=\"Open In Colab\"/></a>"
      ]
    },
    {
      "cell_type": "code",
      "execution_count": 1,
      "metadata": {
        "colab": {
          "base_uri": "https://localhost:8080/"
        },
        "id": "qh6vnASvWW7l",
        "outputId": "18f5fe51-a44d-4925-fdaa-ce77bdf5d6cc"
      },
      "outputs": [
        {
          "output_type": "stream",
          "name": "stdout",
          "text": [
            "Mounted at /content/drive\n"
          ]
        }
      ],
      "source": [
        "from google.colab import drive\n",
        "drive.mount('/content/drive')"
      ]
    },
    {
      "cell_type": "code",
      "source": [
        "!cp -r /content/drive/MyDrive/ICUDatasetProcessed ."
      ],
      "metadata": {
        "id": "HBgNrLvkZOx9"
      },
      "execution_count": 2,
      "outputs": []
    },
    {
      "cell_type": "code",
      "source": [
        "import os\n",
        "path = 'ICUDatasetProcessed/'\n",
        "csvs = os.listdir(path)\n",
        "csvs"
      ],
      "metadata": {
        "colab": {
          "base_uri": "https://localhost:8080/"
        },
        "id": "xXXkUAvxZgd0",
        "outputId": "0c32c996-b382-4078-bdc4-8f92c3765220"
      },
      "execution_count": 100,
      "outputs": [
        {
          "output_type": "execute_result",
          "data": {
            "text/plain": [
              "['patientMonitoring.csv',\n",
              " 'attack.csv',\n",
              " 'Attack.csv',\n",
              " 'environmentMonitoring.csv']"
            ]
          },
          "metadata": {},
          "execution_count": 100
        }
      ]
    },
    {
      "cell_type": "code",
      "source": [
        "import numpy as np  \n",
        "import pandas as pd\n",
        "import os \n",
        "from sklearn.model_selection import train_test_split\n",
        "from sklearn.datasets import make_classification\n",
        "from matplotlib import pyplot as plt\n",
        "from sklearn.linear_model import LogisticRegression\n",
        "from sklearn.model_selection import train_test_split\n",
        "from sklearn.metrics import confusion_matrix, ConfusionMatrixDisplay\n",
        "from sklearn.metrics import accuracy_score\n"
      ],
      "metadata": {
        "id": "ElwDEO3pZUqf"
      },
      "execution_count": 120,
      "outputs": []
    },
    {
      "cell_type": "code",
      "source": [
        "df4 = pd.read_csv('/content/drive/MyDrive/ICUDatasetProcessed/attack.csv')\n",
        "df4.columns"
      ],
      "metadata": {
        "colab": {
          "base_uri": "https://localhost:8080/"
        },
        "id": "tCYNtOqsZcZY",
        "outputId": "5c3f3dd5-be61-4997-eec5-c86dae266c6d"
      },
      "execution_count": 102,
      "outputs": [
        {
          "output_type": "stream",
          "name": "stderr",
          "text": [
            "/usr/local/lib/python3.7/dist-packages/IPython/core/interactiveshell.py:2882: DtypeWarning: Columns (28,30,37,42) have mixed types.Specify dtype option on import or set low_memory=False.\n",
            "  exec(code_obj, self.user_global_ns, self.user_ns)\n"
          ]
        },
        {
          "output_type": "execute_result",
          "data": {
            "text/plain": [
              "Index(['frame.time_delta', 'frame.time_relative', 'frame.len', 'ip.src',\n",
              "       'ip.dst', 'tcp.srcport', 'tcp.dstport', 'ip.proto', 'ip.ttl',\n",
              "       'tcp.flags', 'tcp.time_delta', 'tcp.len', 'tcp.ack',\n",
              "       'tcp.connection.fin', 'tcp.connection.rst', 'tcp.connection.synack',\n",
              "       'tcp.connection.syn', 'tcp.flags.ack', 'tcp.flags.fin',\n",
              "       'tcp.flags.push', 'tcp.flags.reset', 'tcp.flags.syn', 'tcp.flags.urg',\n",
              "       'tcp.hdr_len', 'tcp.payload', 'tcp.pdu.size', 'tcp.window_size_value',\n",
              "       'tcp.checksum', 'mqtt.clientid', 'mqtt.clientid_len',\n",
              "       'mqtt.conack.flags', 'mqtt.conack.val', 'mqtt.conflag.passwd',\n",
              "       'mqtt.conflag.qos', 'mqtt.conflag.reserved', 'mqtt.conflag.retain',\n",
              "       'mqtt.conflag.willflag', 'mqtt.conflags', 'mqtt.dupflag',\n",
              "       'mqtt.hdrflags', 'mqtt.kalive', 'mqtt.len', 'mqtt.msg', 'mqtt.msgtype',\n",
              "       'mqtt.qos', 'mqtt.retain', 'mqtt.topic', 'mqtt.topic_len', 'mqtt.ver',\n",
              "       'mqtt.willmsg_len', 'label'],\n",
              "      dtype='object')"
            ]
          },
          "metadata": {},
          "execution_count": 102
        }
      ]
    },
    {
      "cell_type": "code",
      "source": [
        "#data cleaning\n",
        "df4 = pd.DataFrame()\n",
        "\n",
        "for csv in csvs:\n",
        "  print(f'---- Reading {csv} ----')\n",
        "  df = pd.read_csv(path+csv)\n",
        "  print(f'df.shape: {df.shape}')\n",
        "  empty_cols = [col for col in df.columns if df[col].isnull().all()]\n",
        "  print(f'empty_cols: {len(empty_cols)}')\n",
        "  print(empty_cols)\n",
        "  df.fillna(0, inplace=True)\n",
        "  df4 = df4.append(df, ignore_index=True)\n",
        "  print(f'df1.shape: {df4.shape}')"
      ],
      "metadata": {
        "colab": {
          "base_uri": "https://localhost:8080/"
        },
        "id": "fUTw2uDuZqMx",
        "outputId": "77df57c6-a4c6-45ef-b7ba-648e559e9e6b"
      },
      "execution_count": 64,
      "outputs": [
        {
          "output_type": "stream",
          "name": "stdout",
          "text": [
            "---- Reading patientMonitoring.csv ----\n"
          ]
        },
        {
          "output_type": "stream",
          "name": "stderr",
          "text": [
            "/usr/local/lib/python3.7/dist-packages/IPython/core/interactiveshell.py:2882: DtypeWarning: Columns (26,28,35) have mixed types.Specify dtype option on import or set low_memory=False.\n",
            "  exec(code_obj, self.user_global_ns, self.user_ns)\n"
          ]
        },
        {
          "output_type": "stream",
          "name": "stdout",
          "text": [
            "df.shape: (76810, 52)\n",
            "empty_cols: 0\n",
            "[]\n",
            "df1.shape: (430354, 53)\n",
            "---- Reading attack.csv ----\n"
          ]
        },
        {
          "output_type": "stream",
          "name": "stderr",
          "text": [
            "/usr/local/lib/python3.7/dist-packages/IPython/core/interactiveshell.py:2882: DtypeWarning: Columns (28,30,37,42) have mixed types.Specify dtype option on import or set low_memory=False.\n",
            "  exec(code_obj, self.user_global_ns, self.user_ns)\n"
          ]
        },
        {
          "output_type": "stream",
          "name": "stdout",
          "text": [
            "df.shape: (164850, 51)\n",
            "empty_cols: 0\n",
            "[]\n",
            "df1.shape: (595204, 53)\n",
            "---- Reading Attack.csv ----\n",
            "df.shape: (80126, 52)\n",
            "empty_cols: 0\n",
            "[]\n",
            "df1.shape: (675330, 53)\n",
            "---- Reading environmentMonitoring.csv ----\n",
            "df.shape: (31758, 52)\n",
            "empty_cols: 0\n",
            "[]\n",
            "df1.shape: (707088, 53)\n"
          ]
        }
      ]
    },
    {
      "cell_type": "code",
      "source": [
        "#Data Visualization\n",
        "import seaborn as s\n",
        "s.countplot(x='label',data=df4)"
      ],
      "metadata": {
        "colab": {
          "base_uri": "https://localhost:8080/",
          "height": 296
        },
        "id": "MPYSBXukZ56x",
        "outputId": "455e5a6f-f3fa-41c8-959e-e05fb330bae5"
      },
      "execution_count": 103,
      "outputs": [
        {
          "output_type": "execute_result",
          "data": {
            "text/plain": [
              "<matplotlib.axes._subplots.AxesSubplot at 0x7f821e232710>"
            ]
          },
          "metadata": {},
          "execution_count": 103
        },
        {
          "output_type": "display_data",
          "data": {
            "image/png": "[encoded data removed]",
            "text/plain": [
              "<Figure size 432x288 with 1 Axes>"
            ]
          },
          "metadata": {
            "needs_background": "light"
          }
        }
      ]
    },
    {
      "cell_type": "code",
      "source": [
        "feats = ['ip.src', 'ip.dst', 'tcp.srcport', 'tcp.dstport','mqtt.topic', 'mqtt.msg', 'tcp.payload','mqtt.clientid', 'mqtt.conflags', 'mqtt.conack.flags']"
      ],
      "metadata": {
        "id": "GH7R0habgrDm"
      },
      "execution_count": 104,
      "outputs": []
    },
    {
      "cell_type": "code",
      "source": [
        "df4.drop(labels=feats, axis=1, inplace=True)\n",
        "df4.shape"
      ],
      "metadata": {
        "colab": {
          "base_uri": "https://localhost:8080/"
        },
        "id": "XHH2cjuEgsQo",
        "outputId": "efa933c6-b18f-437c-87d1-40bb02336a72"
      },
      "execution_count": 105,
      "outputs": [
        {
          "output_type": "execute_result",
          "data": {
            "text/plain": [
              "(164850, 41)"
            ]
          },
          "metadata": {},
          "execution_count": 105
        }
      ]
    },
    {
      "cell_type": "code",
      "source": [
        "fs1 =  ['frame.time_delta', 'tcp.flags', 'tcp.time_delta', 'tcp.connection.rst', 'tcp.flags.ack', 'tcp.flags.push', 'tcp.flags.reset', 'tcp.hdr_len', \n",
        "        'mqtt.clientid_len', 'mqtt.hdrflags', 'mqtt.msgtype', 'mqtt.qos', 'mqtt.ver', 'ip.proto', 'ip.ttl', 'label']\n",
        "fs2 = ['frame.time_delta', 'tcp.time_delta', 'tcp.flags.ack', 'tcp.flags.push', 'tcp.flags.reset', 'mqtt.hdrflags', 'mqtt.msgtype', 'mqtt.qos', 'mqtt.retain', 'mqtt.ver', 'label']"
      ],
      "metadata": {
        "id": "atiKS5ncjpuG"
      },
      "execution_count": 106,
      "outputs": []
    },
    {
      "cell_type": "code",
      "source": [
        "df4 = df4[fs2]\n",
        "df4.shape"
      ],
      "metadata": {
        "colab": {
          "base_uri": "https://localhost:8080/"
        },
        "id": "POSB9kfxjzyT",
        "outputId": "567387d8-f41d-46f1-8afa-8fbf34f2da76"
      },
      "execution_count": 107,
      "outputs": [
        {
          "output_type": "execute_result",
          "data": {
            "text/plain": [
              "(164850, 11)"
            ]
          },
          "metadata": {},
          "execution_count": 107
        }
      ]
    },
    {
      "cell_type": "code",
      "source": [
        "from sklearn import preprocessing\n",
        "label_encoder = preprocessing.LabelEncoder()\n",
        "\n",
        "#df1['tcp.flags']= label_encoder.fit_transform(df1['tcp.flags'])\n",
        "#df1['tcp.checksum']= label_encoder.fit_transform(df1['tcp.checksum'])\n",
        "df4['mqtt.hdrflags']= label_encoder.fit_transform(df4['mqtt.hdrflags'])"
      ],
      "metadata": {
        "id": "6qt-eOpDj_zo"
      },
      "execution_count": 109,
      "outputs": []
    },
    {
      "cell_type": "code",
      "source": [
        "X_train, X_test, y_train, y_test = train_test_split( df4.drop(labels=['label'], axis=1), df4['label'], \n",
        "                                                                            test_size=0.3, random_state=100)"
      ],
      "metadata": {
        "id": "Eu4VghEqkFa-"
      },
      "execution_count": 110,
      "outputs": []
    },
    {
      "cell_type": "code",
      "source": [
        "from sklearn.feature_selection import SelectFromModel\n",
        "from sklearn.linear_model import LogisticRegression\n",
        "\n",
        "print('---------- SelectFromModel LogisticRegression -----------')\n",
        "embeded_LR_selector = SelectFromModel(LogisticRegression(penalty=\"l1\", solver='liblinear'), threshold='0.9*median',\n",
        "                                      max_features = 10)\n",
        "\n",
        "embeded_LR_selector.fit(X_train, y_train)\n",
        "embeded_LR_support = embeded_LR_selector.get_support()\n",
        "print('embeded_LR_support',embeded_LR_support)\n",
        "#embeded_lr_selector = embeded_lr_selector.scores_\n",
        "#embeded_lr_support = embeded_lr_selector.get_support()\n",
        "#embeded_LR_feature = df.loc[:,embeded_LR_support].columns.tolist()\n",
        "\n",
        "embeded_LR_feature = X_train.loc[:,embeded_LR_support].columns.tolist()\n",
        "\n",
        "print(len(embeded_LR_feature), 'selected features')\n",
        "print('embeded_LR_features: ', embeded_LR_feature)"
      ],
      "metadata": {
        "colab": {
          "base_uri": "https://localhost:8080/"
        },
        "id": "9UbO7-XYkKSg",
        "outputId": "41f584eb-3d45-4c78-88e7-e64c66249191"
      },
      "execution_count": 111,
      "outputs": [
        {
          "output_type": "stream",
          "name": "stdout",
          "text": [
            "---------- SelectFromModel LogisticRegression -----------\n",
            "embeded_LR_support [ True False False  True  True  True  True  True  True False]\n",
            "7 selected features\n",
            "embeded_LR_features:  ['frame.time_delta', 'tcp.flags.push', 'tcp.flags.reset', 'mqtt.hdrflags', 'mqtt.msgtype', 'mqtt.qos', 'mqtt.retain']\n"
          ]
        }
      ]
    },
    {
      "cell_type": "code",
      "source": [
        "fs1 =  ['frame.time_delta', 'tcp.flags', 'tcp.time_delta', 'tcp.connection.rst', 'tcp.flags.ack', 'tcp.flags.push', 'tcp.flags.reset', 'tcp.hdr_len', 'mqtt.clientid_len', 'mqtt.hdrflags', 'mqtt.msgtype', 'mqtt.qos', 'mqtt.ver', 'ip.proto', 'ip.ttl']\n",
        "# fs2 contained selected feautures except 'tcp.time_delta', 'tcp.flags.ack' (important )\n",
        "fs2 = ['frame.time_delta', 'tcp.time_delta', 'tcp.flags.ack', 'tcp.flags.push', 'tcp.flags.reset', 'mqtt.hdrflags', 'mqtt.msgtype', 'mqtt.qos', 'mqtt.retain', 'mqtt.ver']"
      ],
      "metadata": {
        "id": "8yvEbOA3lp4r"
      },
      "execution_count": 112,
      "outputs": []
    },
    {
      "cell_type": "code",
      "source": [
        "## DATA NORMALIZATION (LABELS)\n",
        "\n",
        "raw_data = df4\n",
        "raw_data = raw_data.sort_values('label')\n",
        "raw_data = raw_data.reset_index()\n",
        "\n",
        "\n",
        "index0 = raw_data[raw_data['label'] == 1].index.values\n",
        "index1 = raw_data[raw_data['label'] == 2].index.values\n",
        "index2 = raw_data[raw_data['label'] == 3].index.values\n",
        "index3 = raw_data[raw_data['label'] == 4].index.values\n",
        "\n",
        "\n",
        "\n",
        "df_index0 = raw_data.iloc[int(min(index0)):int(max(index0)+1)]\n",
        "df_index1 = raw_data.iloc[int(min(index1)):int(max(index1)+1)]\n",
        "df_index2 = raw_data.iloc[int(min(index2)):int(max(index2)+1)]\n",
        "df_index3 = raw_data.iloc[int(min(index3)):int(max(index3)+1)]\n",
        "\n",
        "\n",
        "\n",
        "\n",
        "df_index0 = df_index0.append([df_index0]*20, ignore_index = True)\n",
        "df_index1 = df_index1.append([df_index1]*25, ignore_index = True)\n",
        "df_index2 = df_index2.append([df_index2]*25, ignore_index = True)\n",
        "df_index3 = df_index3.append([df_index3], ignore_index = True)\n",
        "\n",
        "\n",
        "frames = [raw_data,  df_index0, df_index1, df_index2, df_index3]\n",
        "\n",
        "final_data = pd.concat(frames)\n",
        "final_data.drop('index', inplace = True, axis = 1)\n",
        "final_data = final_data.sample(frac = 1)\n",
        "data = final_data.iloc[:,:-1]\n",
        "labels = final_data.iloc[:,-1:]"
      ],
      "metadata": {
        "id": "Vv1-nTrab6c6"
      },
      "execution_count": 84,
      "outputs": []
    },
    {
      "cell_type": "code",
      "source": [
        "type_attack = ['bruteforce','slowite','malware','dos']\n",
        "counts = list(labels.value_counts())\n",
        "plt.figure(figsize = (8,6))\n",
        "s.barplot(x = type_attack, y = counts)"
      ],
      "metadata": {
        "colab": {
          "base_uri": "https://localhost:8080/",
          "height": 391
        },
        "id": "TVvEf5g7ba9G",
        "outputId": "d44e98e9-dd5e-41d8-e366-42f8b3b9d8af"
      },
      "execution_count": 36,
      "outputs": [
        {
          "output_type": "execute_result",
          "data": {
            "text/plain": [
              "<matplotlib.axes._subplots.AxesSubplot at 0x7f8217d5bf90>"
            ]
          },
          "metadata": {},
          "execution_count": 36
        },
        {
          "output_type": "display_data",
          "data": {
            "image/png": "[encoded data removed]",
            "text/plain": [
              "<Figure size 576x432 with 1 Axes>"
            ]
          },
          "metadata": {
            "needs_background": "light"
          }
        }
      ]
    },
    {
      "cell_type": "code",
      "source": [
        "from sklearn.naive_bayes import GaussianNB\n",
        "from sklearn.neighbors import KNeighborsClassifier\n",
        "from sklearn.ensemble import RandomForestClassifier, AdaBoostClassifier\n",
        "from sklearn import linear_model #Linear Regression\n",
        "#from sklearn.linear_model import LogisticRegression\n",
        "from sklearn.tree import DecisionTreeClassifier\n",
        "from sklearn.svm import SVC   #SVM\n",
        "\n",
        "from sklearn.metrics import confusion_matrix  \n",
        "from sklearn.metrics import precision_score, recall_score, f1_score, accuracy_score\n",
        "from sklearn.metrics import classification_report"
      ],
      "metadata": {
        "id": "6yfmfmWTebKf"
      },
      "execution_count": 113,
      "outputs": []
    },
    {
      "cell_type": "code",
      "source": [
        "\n",
        "print('--------Applying GaussianNB Classifier ----------')\n",
        "gnb = GaussianNB()\n",
        "gnb_fit = gnb.fit(X_train, y_train)  \n",
        "gnb_prediction = gnb.predict(X_test) \n",
        "\n",
        "\n",
        "print('--------Applying KNeighborsClassifier Classifier ----------')\n",
        "KNN_model = KNeighborsClassifier(n_neighbors=5)\n",
        "KNN_model.fit(X_train, y_train)\n",
        "KNN_prediction = KNN_model.predict(X_test)\n",
        "\n",
        "print('--------Applying RandomForestClassifier Classifier ----------')\n",
        "RF = RandomForestClassifier(max_depth=10, random_state=100)  \n",
        "RF.fit(X_train, y_train)\n",
        "RF_prediction = RF.predict(X_test)\n",
        "\n",
        "\n",
        "print('--------Applying AdaBoostClassifier Classifier ----------')\n",
        "AB = AdaBoostClassifier()\n",
        "AB.fit(X_train, y_train)\n",
        "AB_prediction = AB.predict(X_test)\n",
        "\n",
        "\n",
        "print('--------Applying LogisticRegression Classifier ----------')\n",
        "#LogR = LogisticRegression()\n",
        "LogR = linear_model.LogisticRegression(multi_class='multinomial')\n",
        "LogR.fit(X_train, y_train)\n",
        "LogR_prediction = LogR.predict(X_test)\n",
        "\n",
        "\n",
        "print('--------Applying DecisionTree Classifier ----------')\n",
        "DT = DecisionTreeClassifier(criterion = \"gini\", random_state = 100, max_depth=10, min_samples_leaf=5)\n",
        "DT.fit(X_train, y_train)\n",
        "DT_prediction = DT.predict(X_test)\n"
      ],
      "metadata": {
        "colab": {
          "base_uri": "https://localhost:8080/"
        },
        "id": "38E_F1bsndoS",
        "outputId": "0c90067e-bc9e-4859-91d6-548bf283ec7b"
      },
      "execution_count": 116,
      "outputs": [
        {
          "output_type": "stream",
          "name": "stdout",
          "text": [
            "--------Applying GaussianNB Classifier ----------\n",
            "--------Applying KNeighborsClassifier Classifier ----------\n",
            "--------Applying RandomForestClassifier Classifier ----------\n",
            "--------Applying AdaBoostClassifier Classifier ----------\n",
            "--------Applying DecisionTree Classifier ----------\n"
          ]
        }
      ]
    },
    {
      "cell_type": "code",
      "source": [
        "print('-------Performance Evaluation----------')\n",
        "#precision_score, recall_score, f1_score, accuracy_score\n",
        "results = []\n",
        "selector = 'LR'\n",
        "results.append((selector,'','', '',''))\n",
        "results.append(('Classifier','Accuracy','Precision', 'Recall','F1-Score'))\n",
        "results.append(('NB ', accuracy_score(y_test,  gnb_prediction)*100,\n",
        "                precision_score(y_test,  gnb_prediction,average='micro')*100,\n",
        "                recall_score(y_test,  gnb_prediction,average='micro')*100,\n",
        "                f1_score(y_test,  gnb_prediction,average='micro')*100))\n",
        "results.append(('KNN ', accuracy_score(y_test, KNN_prediction)*100,\n",
        "                precision_score(y_test, KNN_prediction,average='weighted')*100,\n",
        "                recall_score(y_test, KNN_prediction,average='weighted')*100,\n",
        "                f1_score(y_test, KNN_prediction,average='weighted')*100))\n",
        "results.append(('RF ', accuracy_score(y_test,  RF_prediction)*100,\n",
        "                precision_score(y_test,  RF_prediction,average='micro')*100,\n",
        "                recall_score(y_test,  RF_prediction,average='micro')*100,\n",
        "                f1_score(y_test,  RF_prediction,average='micro')*100))\n",
        "results.append(('AB ', accuracy_score(y_test,  AB_prediction)*100,\n",
        "                precision_score(y_test,  AB_prediction,average='micro')*100,\n",
        "                recall_score(y_test,  AB_prediction,average='micro')*100,\n",
        "                f1_score(y_test,  AB_prediction,average='micro')*100))\n",
        "results.append(('LogR ', accuracy_score(y_test,  LogR_prediction)*100,\n",
        "                precision_score(y_test,  LogR_prediction,average='micro')*100,\n",
        "                recall_score(y_test,  LogR_prediction,average='micro')*100,\n",
        "                f1_score(y_test,  LogR_prediction,average='micro')*100))\n",
        "results.append(('DT ', accuracy_score(y_test,  DT_prediction)*100,\n",
        "                precision_score(y_test,  DT_prediction,average='micro')*100,\n",
        "                recall_score(y_test,  DT_prediction,average='micro')*100,\n",
        "                f1_score(y_test,  DT_prediction,average='micro')*100))\n",
        "\n",
        "print('type(results): ', type(results))\n",
        "print('results: ', results)\n",
        "df_results = pd.DataFrame(results)\n",
        "print('type(df_results): ', type(df_results))\n",
        "print('df_results: ', df_results)"
      ],
      "metadata": {
        "colab": {
          "base_uri": "https://localhost:8080/"
        },
        "id": "j43ag9RPn7f5",
        "outputId": "535de87b-c35a-444a-c677-02554119bfe5"
      },
      "execution_count": 117,
      "outputs": [
        {
          "output_type": "stream",
          "name": "stdout",
          "text": [
            "-------Performance Evaluation----------\n",
            "type(results):  <class 'list'>\n",
            "results:  [('LR', '', '', '', ''), ('Classifier', 'Accuracy', 'Precision', 'Recall', 'F1-Score'), ('NB ', 64.0481245576787, 64.0481245576787, 64.0481245576787, 64.0481245576787), ('KNN ', 93.5456475583864, 93.4598051468939, 93.5456475583864, 93.44512692864588), ('RF ', 93.5517136791022, 93.5517136791022, 93.5517136791022, 93.5517136791022), ('AB ', 36.31988676574664, 36.31988676574664, 36.31988676574664, 36.319886765746645), ('LogR ', 85.08947528055808, 85.08947528055808, 85.08947528055808, 85.08947528055808), ('DT ', 93.49711859265999, 93.49711859265999, 93.49711859265999, 93.49711859266)]\n",
            "type(df_results):  <class 'pandas.core.frame.DataFrame'>\n",
            "df_results:              0          1          2          3          4\n",
            "0          LR                                            \n",
            "1  Classifier   Accuracy  Precision     Recall   F1-Score\n",
            "2         NB   64.048125  64.048125  64.048125  64.048125\n",
            "3        KNN   93.545648  93.459805  93.545648  93.445127\n",
            "4         RF   93.551714  93.551714  93.551714  93.551714\n",
            "5         AB   36.319887  36.319887  36.319887  36.319887\n",
            "6       LogR   85.089475  85.089475  85.089475  85.089475\n",
            "7         DT   93.497119  93.497119  93.497119  93.497119\n"
          ]
        }
      ]
    },
    {
      "cell_type": "code",
      "source": [
        "print('Confusion Matrix gnb_prediction')\n",
        "print(confusion_matrix(y_test,gnb_prediction))\n",
        "print('Confusion Matrix KNN_prediction')\n",
        "print(confusion_matrix(y_test,KNN_prediction))\n",
        "print('Confusion Matrix RF_prediction')\n",
        "print(confusion_matrix(y_test,RF_prediction))\n",
        "print('Confusion Matrix AB_prediction')\n",
        "print(confusion_matrix(y_test,AB_prediction))\n",
        "print('Confusion Matrix LogR_prediction')\n",
        "print(confusion_matrix(y_test,LogR_prediction))\n",
        "print('Confusion Matrix DT_prediction')\n",
        "print(confusion_matrix(y_test,DT_prediction))"
      ],
      "metadata": {
        "colab": {
          "base_uri": "https://localhost:8080/"
        },
        "id": "t55CMvqsoC4i",
        "outputId": "a0b669cf-dc21-4949-99d7-5cb8aa95fff7"
      },
      "execution_count": 99,
      "outputs": [
        {
          "output_type": "stream",
          "name": "stdout",
          "text": [
            "Confusion Matrix gnb_prediction\n",
            "[[  706  3127     6   440]\n",
            " [    2  2325     3   372]\n",
            " [   85  1881   531   831]\n",
            " [   27 11005     1 28113]]\n",
            "Confusion Matrix KNN_prediction\n",
            "[[ 3444    32    76   727]\n",
            " [   30  2086    85   501]\n",
            " [  439   167  2461   261]\n",
            " [  423   332   119 38272]]\n",
            "Confusion Matrix RF_prediction\n",
            "[[ 3500    63    61   655]\n",
            " [   54  2114    59   475]\n",
            " [  561   172  2284   311]\n",
            " [  421   272    85 38368]]\n",
            "Confusion Matrix AB_prediction\n",
            "[[ 3194    60   422   603]\n",
            " [  145  1422   182   953]\n",
            " [  676   279  1787   586]\n",
            " [  526     7 27054 11559]]\n",
            "Confusion Matrix LogR_prediction\n",
            "[[ 1267     1    24  2987]\n",
            " [  585   622     3  1492]\n",
            " [  538   246  1065  1479]\n",
            " [   11     4     4 39127]]\n",
            "Confusion Matrix DT_prediction\n",
            "[[ 3539   111    41   588]\n",
            " [   43  2095    87   477]\n",
            " [  526   198  2315   289]\n",
            " [  461   299    96 38290]]\n"
          ]
        }
      ]
    },
    {
      "cell_type": "markdown",
      "source": [
        "**GENERATING HEAT MAPS FOR THE RANDOM FORWST MODEL**"
      ],
      "metadata": {
        "id": "ke6xpePfyFgR"
      }
    },
    {
      "cell_type": "code",
      "source": [
        "cm=confusion_matrix(y_test,RF_prediction)"
      ],
      "metadata": {
        "id": "SEA_WMg9oG3o"
      },
      "execution_count": 118,
      "outputs": []
    },
    {
      "cell_type": "code",
      "source": [
        "cmd_object=ConfusionMatrixDisplay(cm)"
      ],
      "metadata": {
        "id": "yf_dyuqNzIiR"
      },
      "execution_count": 122,
      "outputs": []
    },
    {
      "cell_type": "code",
      "source": [
        "cmd_object.plot()"
      ],
      "metadata": {
        "colab": {
          "base_uri": "https://localhost:8080/",
          "height": 296
        },
        "id": "eA5QEI3tzB2-",
        "outputId": "345aae8f-6e36-4d5b-ffe3-cd85ba6f1b95"
      },
      "execution_count": 123,
      "outputs": [
        {
          "output_type": "execute_result",
          "data": {
            "text/plain": [
              "<sklearn.metrics._plot.confusion_matrix.ConfusionMatrixDisplay at 0x7f82132de4d0>"
            ]
          },
          "metadata": {},
          "execution_count": 123
        },
        {
          "output_type": "display_data",
          "data": {
            "image/png": "[encoded data removed]",
            "text/plain": [
              "<Figure size 432x288 with 2 Axes>"
            ]
          },
          "metadata": {
            "needs_background": "light"
          }
        }
      ]
    },
    {
      "cell_type": "code",
      "source": [
        "cmd_object.ax_.set(\n",
        "    title='Confusion Matrix with Labels',\n",
        "    xlabel='Predicted Attacks',\n",
        "    ylabel='Actual Attacks'\n",
        ")"
      ],
      "metadata": {
        "id": "gxIrN7u8z5JM"
      },
      "execution_count": 127,
      "outputs": []
    },
    {
      "cell_type": "code",
      "source": [
        "ax=s.heatmap(cm,annot=True,fmt='g')"
      ],
      "metadata": {
        "colab": {
          "base_uri": "https://localhost:8080/",
          "height": 265
        },
        "id": "PwB9vn6_0RsS",
        "outputId": "f10617c6-9490-432a-bad6-5305e90f721a"
      },
      "execution_count": 139,
      "outputs": [
        {
          "output_type": "display_data",
          "data": {
            "image/png": "[encoded data removed]",
            "text/plain": [
              "<Figure size 432x288 with 2 Axes>"
            ]
          },
          "metadata": {
            "needs_background": "light"
          }
        }
      ]
    },
    {
      "cell_type": "code",
      "source": [
        "ax.set_title('Seaborn Confusion matrix with Labels')\n",
        "ax.set_xlabel('Predicted Attack')\n",
        "ax.set_ylabel('Actual Attack')\n",
        "ax.xaxis.set_ticklabels(['bruteforce','slowite','malware','dos'])\n",
        "ax.yaxis.set_ticklabels(['bruteforce','slowite','malware','dos'])"
      ],
      "metadata": {
        "colab": {
          "base_uri": "https://localhost:8080/"
        },
        "id": "II1hCTNS1-Pt",
        "outputId": "c8e87a32-c240-462e-d37a-fda8bede8b28"
      },
      "execution_count": 138,
      "outputs": [
        {
          "output_type": "execute_result",
          "data": {
            "text/plain": [
              "[Text(0, 0.5, 'bruteforce'),\n",
              " Text(0, 1.5, 'slowite'),\n",
              " Text(0, 2.5, 'malware'),\n",
              " Text(0, 3.5, 'dos')]"
            ]
          },
          "metadata": {},
          "execution_count": 138
        }
      ]
    },
    {
      "cell_type": "code",
      "source": [
        "import matplotlib.pyplot as plt\n",
        " \n",
        "plt.show()"
      ],
      "metadata": {
        "id": "ZX4DG9Lw2o3e"
      },
      "execution_count": 137,
      "outputs": []
    }
  ]
}