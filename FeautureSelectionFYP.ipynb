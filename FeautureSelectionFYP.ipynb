{
  "nbformat": 4,
  "nbformat_minor": 0,
  "metadata": {
    "colab": {
      "name": "FeautureSelectionFYP.ipynb",
      "provenance": [],
      "collapsed_sections": [],
      "authorship_tag": "ABX9TyOv8CrdREq2X1qlm/d7Ng5s",
      "include_colab_link": true
    },
    "kernelspec": {
      "name": "python3",
      "display_name": "Python 3"
    },
    "language_info": {
      "name": "python"
    }
  },
  "cells": [
    {
      "cell_type": "markdown",
      "metadata": {
        "id": "view-in-github",
        "colab_type": "text"
      },
      "source": [
        "<a href=\"https://colab.research.google.com/github/sumaiyababar/Agentless-Security-Approach-For-Iot-Devices/blob/main/FeautureSelectionFYP.ipynb\" target=\"_parent\"><img src=\"https://colab.research.google.com/assets/colab-badge.svg\" alt=\"Open In Colab\"/></a>"
      ]
    },
    {
      "cell_type": "code",
      "execution_count": 1,
      "metadata": {
        "colab": {
          "base_uri": "https://localhost:8080/"
        },
        "id": "qh6vnASvWW7l",
        "outputId": "18f5fe51-a44d-4925-fdaa-ce77bdf5d6cc"
      },
      "outputs": [
        {
          "output_type": "stream",
          "name": "stdout",
          "text": [
            "Mounted at /content/drive\n"
          ]
        }
      ],
      "source": [
        "from google.colab import drive\n",
        "drive.mount('/content/drive')"
      ]
    },
    {
      "cell_type": "code",
      "source": [
        "!cp -r /content/drive/MyDrive/ICUDatasetProcessed ."
      ],
      "metadata": {
        "id": "HBgNrLvkZOx9"
      },
      "execution_count": 2,
      "outputs": []
    },
    {
      "cell_type": "code",
      "source": [
        "import os\n",
        "path = 'ICUDatasetProcessed/'\n",
        "csvs = os.listdir(path)\n",
        "csvs"
      ],
      "metadata": {
        "colab": {
          "base_uri": "https://localhost:8080/"
        },
        "id": "xXXkUAvxZgd0",
        "outputId": "08d4fbbf-e235-4da7-cdea-ef1dcd74a9f5"
      },
      "execution_count": 4,
      "outputs": [
        {
          "output_type": "execute_result",
          "data": {
            "text/plain": [
              "['patientMonitoring.csv',\n",
              " 'attack.csv',\n",
              " 'Attack.csv',\n",
              " 'environmentMonitoring.csv']"
            ]
          },
          "metadata": {},
          "execution_count": 4
        }
      ]
    },
    {
      "cell_type": "code",
      "source": [
        "import numpy as np  \n",
        "import pandas as pd\n",
        "import os \n",
        "from sklearn.model_selection import train_test_split\n",
        "from sklearn.datasets import make_classification\n",
        "from matplotlib import pyplot as plt\n",
        "from sklearn.linear_model import LogisticRegression\n",
        "from sklearn.model_selection import train_test_split\n",
        "from sklearn.metrics import confusion_matrix\n",
        "from sklearn.metrics import accuracy_score\n"
      ],
      "metadata": {
        "id": "ElwDEO3pZUqf"
      },
      "execution_count": 3,
      "outputs": []
    },
    {
      "cell_type": "code",
      "source": [
        "df4 = pd.read_csv('/content/drive/MyDrive/ICUDatasetProcessed/attack.csv')\n",
        "df4.columns"
      ],
      "metadata": {
        "colab": {
          "base_uri": "https://localhost:8080/"
        },
        "id": "tCYNtOqsZcZY",
        "outputId": "ee9fb1c4-6559-44c6-c287-8af9c3bd91cc"
      },
      "execution_count": 66,
      "outputs": [
        {
          "output_type": "stream",
          "name": "stderr",
          "text": [
            "/usr/local/lib/python3.7/dist-packages/IPython/core/interactiveshell.py:2882: DtypeWarning: Columns (28,30,37,42) have mixed types.Specify dtype option on import or set low_memory=False.\n",
            "  exec(code_obj, self.user_global_ns, self.user_ns)\n"
          ]
        },
        {
          "output_type": "execute_result",
          "data": {
            "text/plain": [
              "Index(['frame.time_delta', 'frame.time_relative', 'frame.len', 'ip.src',\n",
              "       'ip.dst', 'tcp.srcport', 'tcp.dstport', 'ip.proto', 'ip.ttl',\n",
              "       'tcp.flags', 'tcp.time_delta', 'tcp.len', 'tcp.ack',\n",
              "       'tcp.connection.fin', 'tcp.connection.rst', 'tcp.connection.synack',\n",
              "       'tcp.connection.syn', 'tcp.flags.ack', 'tcp.flags.fin',\n",
              "       'tcp.flags.push', 'tcp.flags.reset', 'tcp.flags.syn', 'tcp.flags.urg',\n",
              "       'tcp.hdr_len', 'tcp.payload', 'tcp.pdu.size', 'tcp.window_size_value',\n",
              "       'tcp.checksum', 'mqtt.clientid', 'mqtt.clientid_len',\n",
              "       'mqtt.conack.flags', 'mqtt.conack.val', 'mqtt.conflag.passwd',\n",
              "       'mqtt.conflag.qos', 'mqtt.conflag.reserved', 'mqtt.conflag.retain',\n",
              "       'mqtt.conflag.willflag', 'mqtt.conflags', 'mqtt.dupflag',\n",
              "       'mqtt.hdrflags', 'mqtt.kalive', 'mqtt.len', 'mqtt.msg', 'mqtt.msgtype',\n",
              "       'mqtt.qos', 'mqtt.retain', 'mqtt.topic', 'mqtt.topic_len', 'mqtt.ver',\n",
              "       'mqtt.willmsg_len', 'label'],\n",
              "      dtype='object')"
            ]
          },
          "metadata": {},
          "execution_count": 66
        }
      ]
    },
    {
      "cell_type": "code",
      "source": [
        "#data cleaning\n",
        "df4 = pd.DataFrame()\n",
        "\n",
        "for csv in csvs:\n",
        "  print(f'---- Reading {csv} ----')\n",
        "  df = pd.read_csv(path+csv)\n",
        "  print(f'df.shape: {df.shape}')\n",
        "  empty_cols = [col for col in df.columns if df[col].isnull().all()]\n",
        "  print(f'empty_cols: {len(empty_cols)}')\n",
        "  print(empty_cols)\n",
        "  df.fillna(0, inplace=True)\n",
        "  df4 = df4.append(df, ignore_index=True)\n",
        "  print(f'df1.shape: {df4.shape}')"
      ],
      "metadata": {
        "colab": {
          "base_uri": "https://localhost:8080/"
        },
        "id": "fUTw2uDuZqMx",
        "outputId": "77df57c6-a4c6-45ef-b7ba-648e559e9e6b"
      },
      "execution_count": 64,
      "outputs": [
        {
          "output_type": "stream",
          "name": "stdout",
          "text": [
            "---- Reading patientMonitoring.csv ----\n"
          ]
        },
        {
          "output_type": "stream",
          "name": "stderr",
          "text": [
            "/usr/local/lib/python3.7/dist-packages/IPython/core/interactiveshell.py:2882: DtypeWarning: Columns (26,28,35) have mixed types.Specify dtype option on import or set low_memory=False.\n",
            "  exec(code_obj, self.user_global_ns, self.user_ns)\n"
          ]
        },
        {
          "output_type": "stream",
          "name": "stdout",
          "text": [
            "df.shape: (76810, 52)\n",
            "empty_cols: 0\n",
            "[]\n",
            "df1.shape: (430354, 53)\n",
            "---- Reading attack.csv ----\n"
          ]
        },
        {
          "output_type": "stream",
          "name": "stderr",
          "text": [
            "/usr/local/lib/python3.7/dist-packages/IPython/core/interactiveshell.py:2882: DtypeWarning: Columns (28,30,37,42) have mixed types.Specify dtype option on import or set low_memory=False.\n",
            "  exec(code_obj, self.user_global_ns, self.user_ns)\n"
          ]
        },
        {
          "output_type": "stream",
          "name": "stdout",
          "text": [
            "df.shape: (164850, 51)\n",
            "empty_cols: 0\n",
            "[]\n",
            "df1.shape: (595204, 53)\n",
            "---- Reading Attack.csv ----\n",
            "df.shape: (80126, 52)\n",
            "empty_cols: 0\n",
            "[]\n",
            "df1.shape: (675330, 53)\n",
            "---- Reading environmentMonitoring.csv ----\n",
            "df.shape: (31758, 52)\n",
            "empty_cols: 0\n",
            "[]\n",
            "df1.shape: (707088, 53)\n"
          ]
        }
      ]
    },
    {
      "cell_type": "code",
      "source": [
        "#Data Visualization\n",
        "import seaborn as s\n",
        "s.countplot(x='label',data=df4)"
      ],
      "metadata": {
        "colab": {
          "base_uri": "https://localhost:8080/",
          "height": 296
        },
        "id": "MPYSBXukZ56x",
        "outputId": "fc552bef-4570-48c2-c13d-29e9f36879ce"
      },
      "execution_count": 67,
      "outputs": [
        {
          "output_type": "execute_result",
          "data": {
            "text/plain": [
              "<matplotlib.axes._subplots.AxesSubplot at 0x7f82147d8b50>"
            ]
          },
          "metadata": {},
          "execution_count": 67
        },
        {
          "output_type": "display_data",
          "data": {
            "image/png": "[encoded data removed]",
            "text/plain": [
              "<Figure size 432x288 with 1 Axes>"
            ]
          },
          "metadata": {
            "needs_background": "light"
          }
        }
      ]
    },
    {
      "cell_type": "code",
      "source": [
        "feats = ['ip.src', 'ip.dst', 'tcp.srcport', 'tcp.dstport','mqtt.topic', 'mqtt.msg', 'tcp.payload','mqtt.clientid', 'mqtt.conflags', 'mqtt.conack.flags']"
      ],
      "metadata": {
        "id": "GH7R0habgrDm"
      },
      "execution_count": 68,
      "outputs": []
    },
    {
      "cell_type": "code",
      "source": [
        "df4.drop(labels=feats, axis=1, inplace=True)\n",
        "df4.shape"
      ],
      "metadata": {
        "colab": {
          "base_uri": "https://localhost:8080/"
        },
        "id": "XHH2cjuEgsQo",
        "outputId": "6275f508-4ef1-4f55-94f0-34dd6241b8b2"
      },
      "execution_count": 71,
      "outputs": [
        {
          "output_type": "execute_result",
          "data": {
            "text/plain": [
              "(164850, 41)"
            ]
          },
          "metadata": {},
          "execution_count": 71
        }
      ]
    },
    {
      "cell_type": "code",
      "source": [
        "fs1 =  ['frame.time_delta', 'tcp.flags', 'tcp.time_delta', 'tcp.connection.rst', 'tcp.flags.ack', 'tcp.flags.push', 'tcp.flags.reset', 'tcp.hdr_len', \n",
        "        'mqtt.clientid_len', 'mqtt.hdrflags', 'mqtt.msgtype', 'mqtt.qos', 'mqtt.ver', 'ip.proto', 'ip.ttl', 'label']\n",
        "fs2 = ['frame.time_delta', 'tcp.time_delta', 'tcp.flags.ack', 'tcp.flags.push', 'tcp.flags.reset', 'mqtt.hdrflags', 'mqtt.msgtype', 'mqtt.qos', 'mqtt.retain', 'mqtt.ver', 'label']"
      ],
      "metadata": {
        "id": "atiKS5ncjpuG"
      },
      "execution_count": 90,
      "outputs": []
    },
    {
      "cell_type": "code",
      "source": [
        "df4 = df4[fs2]\n",
        "df4.shape"
      ],
      "metadata": {
        "id": "POSB9kfxjzyT"
      },
      "execution_count": null,
      "outputs": []
    },
    {
      "cell_type": "code",
      "source": [
        "from sklearn import preprocessing\n",
        "label_encoder = preprocessing.LabelEncoder()\n",
        "\n",
        "#df1['tcp.flags']= label_encoder.fit_transform(df1['tcp.flags'])\n",
        "#df1['tcp.checksum']= label_encoder.fit_transform(df1['tcp.checksum'])\n",
        "df4['mqtt.hdrflags']= label_encoder.fit_transform(df4['mqtt.hdrflags'])"
      ],
      "metadata": {
        "id": "6qt-eOpDj_zo"
      },
      "execution_count": 75,
      "outputs": []
    },
    {
      "cell_type": "code",
      "source": [
        "X_train, X_test, y_train, y_test = train_test_split( df4.drop(labels=['label'], axis=1), df4['label'], \n",
        "                                                                            test_size=0.3, random_state=100)"
      ],
      "metadata": {
        "colab": {
          "base_uri": "https://localhost:8080/",
          "height": 328
        },
        "id": "Eu4VghEqkFa-",
        "outputId": "b1398a32-3473-4871-d9d2-a55c3e33e7e2"
      },
      "execution_count": 89,
      "outputs": [
        {
          "output_type": "error",
          "ename": "KeyError",
          "evalue": "ignored",
          "traceback": [
            "\u001b[0;31m---------------------------------------------------------------------------\u001b[0m",
            "\u001b[0;31mKeyError\u001b[0m                                  Traceback (most recent call last)",
            "\u001b[0;32m<ipython-input-89-c5e7f3420e5a>\u001b[0m in \u001b[0;36m<module>\u001b[0;34m()\u001b[0m\n\u001b[0;32m----> 1\u001b[0;31m X_train, X_test, y_train, y_test = train_test_split( df4.drop(labels=['label'], axis=1), df4['label'], \n\u001b[0m\u001b[1;32m      2\u001b[0m                                                                             test_size=0.3, random_state=100)\n",
            "\u001b[0;32m/usr/local/lib/python3.7/dist-packages/pandas/util/_decorators.py\u001b[0m in \u001b[0;36mwrapper\u001b[0;34m(*args, **kwargs)\u001b[0m\n\u001b[1;32m    309\u001b[0m                     \u001b[0mstacklevel\u001b[0m\u001b[0;34m=\u001b[0m\u001b[0mstacklevel\u001b[0m\u001b[0;34m,\u001b[0m\u001b[0;34m\u001b[0m\u001b[0;34m\u001b[0m\u001b[0m\n\u001b[1;32m    310\u001b[0m                 )\n\u001b[0;32m--> 311\u001b[0;31m             \u001b[0;32mreturn\u001b[0m \u001b[0mfunc\u001b[0m\u001b[0;34m(\u001b[0m\u001b[0;34m*\u001b[0m\u001b[0margs\u001b[0m\u001b[0;34m,\u001b[0m \u001b[0;34m**\u001b[0m\u001b[0mkwargs\u001b[0m\u001b[0;34m)\u001b[0m\u001b[0;34m\u001b[0m\u001b[0;34m\u001b[0m\u001b[0m\n\u001b[0m\u001b[1;32m    312\u001b[0m \u001b[0;34m\u001b[0m\u001b[0m\n\u001b[1;32m    313\u001b[0m         \u001b[0;32mreturn\u001b[0m \u001b[0mwrapper\u001b[0m\u001b[0;34m\u001b[0m\u001b[0;34m\u001b[0m\u001b[0m\n",
            "\u001b[0;32m/usr/local/lib/python3.7/dist-packages/pandas/core/frame.py\u001b[0m in \u001b[0;36mdrop\u001b[0;34m(self, labels, axis, index, columns, level, inplace, errors)\u001b[0m\n\u001b[1;32m   4911\u001b[0m             \u001b[0mlevel\u001b[0m\u001b[0;34m=\u001b[0m\u001b[0mlevel\u001b[0m\u001b[0;34m,\u001b[0m\u001b[0;34m\u001b[0m\u001b[0;34m\u001b[0m\u001b[0m\n\u001b[1;32m   4912\u001b[0m             \u001b[0minplace\u001b[0m\u001b[0;34m=\u001b[0m\u001b[0minplace\u001b[0m\u001b[0;34m,\u001b[0m\u001b[0;34m\u001b[0m\u001b[0;34m\u001b[0m\u001b[0m\n\u001b[0;32m-> 4913\u001b[0;31m             \u001b[0merrors\u001b[0m\u001b[0;34m=\u001b[0m\u001b[0merrors\u001b[0m\u001b[0;34m,\u001b[0m\u001b[0;34m\u001b[0m\u001b[0;34m\u001b[0m\u001b[0m\n\u001b[0m\u001b[1;32m   4914\u001b[0m         )\n\u001b[1;32m   4915\u001b[0m \u001b[0;34m\u001b[0m\u001b[0m\n",
            "\u001b[0;32m/usr/local/lib/python3.7/dist-packages/pandas/core/generic.py\u001b[0m in \u001b[0;36mdrop\u001b[0;34m(self, labels, axis, index, columns, level, inplace, errors)\u001b[0m\n\u001b[1;32m   4148\u001b[0m         \u001b[0;32mfor\u001b[0m \u001b[0maxis\u001b[0m\u001b[0;34m,\u001b[0m \u001b[0mlabels\u001b[0m \u001b[0;32min\u001b[0m \u001b[0maxes\u001b[0m\u001b[0;34m.\u001b[0m\u001b[0mitems\u001b[0m\u001b[0;34m(\u001b[0m\u001b[0;34m)\u001b[0m\u001b[0;34m:\u001b[0m\u001b[0;34m\u001b[0m\u001b[0;34m\u001b[0m\u001b[0m\n\u001b[1;32m   4149\u001b[0m             \u001b[0;32mif\u001b[0m \u001b[0mlabels\u001b[0m \u001b[0;32mis\u001b[0m \u001b[0;32mnot\u001b[0m \u001b[0;32mNone\u001b[0m\u001b[0;34m:\u001b[0m\u001b[0;34m\u001b[0m\u001b[0;34m\u001b[0m\u001b[0m\n\u001b[0;32m-> 4150\u001b[0;31m                 \u001b[0mobj\u001b[0m \u001b[0;34m=\u001b[0m \u001b[0mobj\u001b[0m\u001b[0;34m.\u001b[0m\u001b[0m_drop_axis\u001b[0m\u001b[0;34m(\u001b[0m\u001b[0mlabels\u001b[0m\u001b[0;34m,\u001b[0m \u001b[0maxis\u001b[0m\u001b[0;34m,\u001b[0m \u001b[0mlevel\u001b[0m\u001b[0;34m=\u001b[0m\u001b[0mlevel\u001b[0m\u001b[0;34m,\u001b[0m \u001b[0merrors\u001b[0m\u001b[0;34m=\u001b[0m\u001b[0merrors\u001b[0m\u001b[0;34m)\u001b[0m\u001b[0;34m\u001b[0m\u001b[0;34m\u001b[0m\u001b[0m\n\u001b[0m\u001b[1;32m   4151\u001b[0m \u001b[0;34m\u001b[0m\u001b[0m\n\u001b[1;32m   4152\u001b[0m         \u001b[0;32mif\u001b[0m \u001b[0minplace\u001b[0m\u001b[0;34m:\u001b[0m\u001b[0;34m\u001b[0m\u001b[0;34m\u001b[0m\u001b[0m\n",
            "\u001b[0;32m/usr/local/lib/python3.7/dist-packages/pandas/core/generic.py\u001b[0m in \u001b[0;36m_drop_axis\u001b[0;34m(self, labels, axis, level, errors)\u001b[0m\n\u001b[1;32m   4183\u001b[0m                 \u001b[0mnew_axis\u001b[0m \u001b[0;34m=\u001b[0m \u001b[0maxis\u001b[0m\u001b[0;34m.\u001b[0m\u001b[0mdrop\u001b[0m\u001b[0;34m(\u001b[0m\u001b[0mlabels\u001b[0m\u001b[0;34m,\u001b[0m \u001b[0mlevel\u001b[0m\u001b[0;34m=\u001b[0m\u001b[0mlevel\u001b[0m\u001b[0;34m,\u001b[0m \u001b[0merrors\u001b[0m\u001b[0;34m=\u001b[0m\u001b[0merrors\u001b[0m\u001b[0;34m)\u001b[0m\u001b[0;34m\u001b[0m\u001b[0;34m\u001b[0m\u001b[0m\n\u001b[1;32m   4184\u001b[0m             \u001b[0;32melse\u001b[0m\u001b[0;34m:\u001b[0m\u001b[0;34m\u001b[0m\u001b[0;34m\u001b[0m\u001b[0m\n\u001b[0;32m-> 4185\u001b[0;31m                 \u001b[0mnew_axis\u001b[0m \u001b[0;34m=\u001b[0m \u001b[0maxis\u001b[0m\u001b[0;34m.\u001b[0m\u001b[0mdrop\u001b[0m\u001b[0;34m(\u001b[0m\u001b[0mlabels\u001b[0m\u001b[0;34m,\u001b[0m \u001b[0merrors\u001b[0m\u001b[0;34m=\u001b[0m\u001b[0merrors\u001b[0m\u001b[0;34m)\u001b[0m\u001b[0;34m\u001b[0m\u001b[0;34m\u001b[0m\u001b[0m\n\u001b[0m\u001b[1;32m   4186\u001b[0m             \u001b[0mresult\u001b[0m \u001b[0;34m=\u001b[0m \u001b[0mself\u001b[0m\u001b[0;34m.\u001b[0m\u001b[0mreindex\u001b[0m\u001b[0;34m(\u001b[0m\u001b[0;34m**\u001b[0m\u001b[0;34m{\u001b[0m\u001b[0maxis_name\u001b[0m\u001b[0;34m:\u001b[0m \u001b[0mnew_axis\u001b[0m\u001b[0;34m}\u001b[0m\u001b[0;34m)\u001b[0m\u001b[0;34m\u001b[0m\u001b[0;34m\u001b[0m\u001b[0m\n\u001b[1;32m   4187\u001b[0m \u001b[0;34m\u001b[0m\u001b[0m\n",
            "\u001b[0;32m/usr/local/lib/python3.7/dist-packages/pandas/core/indexes/base.py\u001b[0m in \u001b[0;36mdrop\u001b[0;34m(self, labels, errors)\u001b[0m\n\u001b[1;32m   6015\u001b[0m         \u001b[0;32mif\u001b[0m \u001b[0mmask\u001b[0m\u001b[0;34m.\u001b[0m\u001b[0many\u001b[0m\u001b[0;34m(\u001b[0m\u001b[0;34m)\u001b[0m\u001b[0;34m:\u001b[0m\u001b[0;34m\u001b[0m\u001b[0;34m\u001b[0m\u001b[0m\n\u001b[1;32m   6016\u001b[0m             \u001b[0;32mif\u001b[0m \u001b[0merrors\u001b[0m \u001b[0;34m!=\u001b[0m \u001b[0;34m\"ignore\"\u001b[0m\u001b[0;34m:\u001b[0m\u001b[0;34m\u001b[0m\u001b[0;34m\u001b[0m\u001b[0m\n\u001b[0;32m-> 6017\u001b[0;31m                 \u001b[0;32mraise\u001b[0m \u001b[0mKeyError\u001b[0m\u001b[0;34m(\u001b[0m\u001b[0;34mf\"{labels[mask]} not found in axis\"\u001b[0m\u001b[0;34m)\u001b[0m\u001b[0;34m\u001b[0m\u001b[0;34m\u001b[0m\u001b[0m\n\u001b[0m\u001b[1;32m   6018\u001b[0m             \u001b[0mindexer\u001b[0m \u001b[0;34m=\u001b[0m \u001b[0mindexer\u001b[0m\u001b[0;34m[\u001b[0m\u001b[0;34m~\u001b[0m\u001b[0mmask\u001b[0m\u001b[0;34m]\u001b[0m\u001b[0;34m\u001b[0m\u001b[0;34m\u001b[0m\u001b[0m\n\u001b[1;32m   6019\u001b[0m         \u001b[0;32mreturn\u001b[0m \u001b[0mself\u001b[0m\u001b[0;34m.\u001b[0m\u001b[0mdelete\u001b[0m\u001b[0;34m(\u001b[0m\u001b[0mindexer\u001b[0m\u001b[0;34m)\u001b[0m\u001b[0;34m\u001b[0m\u001b[0;34m\u001b[0m\u001b[0m\n",
            "\u001b[0;31mKeyError\u001b[0m: \"['label'] not found in axis\""
          ]
        }
      ]
    },
    {
      "cell_type": "code",
      "source": [
        "from sklearn.feature_selection import SelectFromModel\n",
        "from sklearn.linear_model import LogisticRegression\n",
        "\n",
        "print('---------- SelectFromModel LogisticRegression -----------')\n",
        "embeded_LR_selector = SelectFromModel(LogisticRegression(penalty=\"l1\", solver='liblinear'), threshold='0.9*median',\n",
        "                                      max_features = 10)\n",
        "\n",
        "embeded_LR_selector.fit(X_train, y_train)\n",
        "embeded_LR_support = embeded_LR_selector.get_support()\n",
        "print('embeded_LR_support',embeded_LR_support)\n",
        "#embeded_lr_selector = embeded_lr_selector.scores_\n",
        "#embeded_lr_support = embeded_lr_selector.get_support()\n",
        "#embeded_LR_feature = df.loc[:,embeded_LR_support].columns.tolist()\n",
        "\n",
        "embeded_LR_feature = X_train.loc[:,embeded_LR_support].columns.tolist()\n",
        "\n",
        "print(len(embeded_LR_feature), 'selected features')\n",
        "print('embeded_LR_features: ', embeded_LR_feature)"
      ],
      "metadata": {
        "colab": {
          "base_uri": "https://localhost:8080/"
        },
        "id": "9UbO7-XYkKSg",
        "outputId": "f3e68f79-7aa7-4239-bf17-1b7814cdface"
      },
      "execution_count": 82,
      "outputs": [
        {
          "output_type": "stream",
          "name": "stdout",
          "text": [
            "---------- SelectFromModel LogisticRegression -----------\n",
            "embeded_LR_support [ True False False  True  True False  True  True  True False]\n",
            "6 selected features\n",
            "embeded_LR_features:  ['frame.time_delta', 'tcp.flags.push', 'tcp.flags.reset', 'mqtt.msgtype', 'mqtt.qos', 'mqtt.retain']\n"
          ]
        }
      ]
    },
    {
      "cell_type": "code",
      "source": [
        "fs1 =  ['frame.time_delta', 'tcp.flags', 'tcp.time_delta', 'tcp.connection.rst', 'tcp.flags.ack', 'tcp.flags.push', 'tcp.flags.reset', 'tcp.hdr_len', 'mqtt.clientid_len', 'mqtt.hdrflags', 'mqtt.msgtype', 'mqtt.qos', 'mqtt.ver', 'ip.proto', 'ip.ttl']\n",
        "fs2 = ['frame.time_delta', 'tcp.time_delta', 'tcp.flags.ack', 'tcp.flags.push', 'tcp.flags.reset', 'mqtt.hdrflags', 'mqtt.msgtype', 'mqtt.qos', 'mqtt.retain', 'mqtt.ver']"
      ],
      "metadata": {
        "id": "8yvEbOA3lp4r"
      },
      "execution_count": 83,
      "outputs": []
    },
    {
      "cell_type": "code",
      "source": [
        "## DATA NORMALIZATION (LABELS)\n",
        "\n",
        "raw_data = df4\n",
        "raw_data = raw_data.sort_values('label')\n",
        "raw_data = raw_data.reset_index()\n",
        "\n",
        "\n",
        "index0 = raw_data[raw_data['label'] == 1].index.values\n",
        "index1 = raw_data[raw_data['label'] == 2].index.values\n",
        "index2 = raw_data[raw_data['label'] == 3].index.values\n",
        "index3 = raw_data[raw_data['label'] == 4].index.values\n",
        "\n",
        "\n",
        "\n",
        "df_index0 = raw_data.iloc[int(min(index0)):int(max(index0)+1)]\n",
        "df_index1 = raw_data.iloc[int(min(index1)):int(max(index1)+1)]\n",
        "df_index2 = raw_data.iloc[int(min(index2)):int(max(index2)+1)]\n",
        "df_index3 = raw_data.iloc[int(min(index3)):int(max(index3)+1)]\n",
        "\n",
        "\n",
        "\n",
        "\n",
        "df_index0 = df_index0.append([df_index0]*20, ignore_index = True)\n",
        "df_index1 = df_index1.append([df_index1]*25, ignore_index = True)\n",
        "df_index2 = df_index2.append([df_index2]*25, ignore_index = True)\n",
        "df_index3 = df_index3.append([df_index3], ignore_index = True)\n",
        "\n",
        "\n",
        "frames = [raw_data,  df_index0, df_index1, df_index2, df_index3]\n",
        "\n",
        "final_data = pd.concat(frames)\n",
        "final_data.drop('index', inplace = True, axis = 1)\n",
        "final_data = final_data.sample(frac = 1)\n",
        "data = final_data.iloc[:,:-1]\n",
        "labels = final_data.iloc[:,-1:]"
      ],
      "metadata": {
        "id": "Vv1-nTrab6c6"
      },
      "execution_count": 84,
      "outputs": []
    },
    {
      "cell_type": "code",
      "source": [
        "type_attack = ['bruteforce','slowite','malware','dos']\n",
        "counts = list(labels.value_counts())\n",
        "plt.figure(figsize = (8,6))\n",
        "s.barplot(x = type_attack, y = counts)"
      ],
      "metadata": {
        "colab": {
          "base_uri": "https://localhost:8080/",
          "height": 391
        },
        "id": "TVvEf5g7ba9G",
        "outputId": "d44e98e9-dd5e-41d8-e366-42f8b3b9d8af"
      },
      "execution_count": 36,
      "outputs": [
        {
          "output_type": "execute_result",
          "data": {
            "text/plain": [
              "<matplotlib.axes._subplots.AxesSubplot at 0x7f8217d5bf90>"
            ]
          },
          "metadata": {},
          "execution_count": 36
        },
        {
          "output_type": "display_data",
          "data": {
            "image/png": "[encoded data removed]",
            "text/plain": [
              "<Figure size 576x432 with 1 Axes>"
            ]
          },
          "metadata": {
            "needs_background": "light"
          }
        }
      ]
    },
    {
      "cell_type": "code",
      "source": [
        "def visualisePlots(X,Y, rows, columns):\n",
        "    class_dicts = {\n",
        "        1: 'bruteforce',\n",
        "        2: 'slowite',\n",
        "        3: 'malware',\n",
        "        4: 'dos'\n",
        "    }"
      ],
      "metadata": {
        "id": "cgRmVaL5d3O6"
      },
      "execution_count": 86,
      "outputs": []
    },
    {
      "cell_type": "code",
      "source": [
        "from sklearn.naive_bayes import GaussianNB\n",
        "from sklearn.neighbors import KNeighborsClassifier\n",
        "from sklearn.ensemble import RandomForestClassifier, AdaBoostClassifier\n",
        "from sklearn import linear_model #Linear Regression\n",
        "#from sklearn.linear_model import LogisticRegression\n",
        "from sklearn.tree import DecisionTreeClassifier\n",
        "from sklearn.svm import SVC   #SVM\n",
        "\n",
        "from sklearn.metrics import confusion_matrix  \n",
        "from sklearn.metrics import precision_score, recall_score, f1_score, accuracy_score\n",
        "from sklearn.metrics import classification_report"
      ],
      "metadata": {
        "id": "6yfmfmWTebKf"
      },
      "execution_count": 93,
      "outputs": []
    },
    {
      "cell_type": "code",
      "source": [
        "\n",
        "print('--------Applying GaussianNB Classifier ----------')\n",
        "gnb = GaussianNB()\n",
        "gnb_fit = gnb.fit(X_train, y_train)  \n",
        "gnb_prediction = gnb.predict(X_test) \n",
        "\n",
        "\n",
        "print('--------Applying KNeighborsClassifier Classifier ----------')\n",
        "KNN_model = KNeighborsClassifier(n_neighbors=5)\n",
        "KNN_model.fit(X_train, y_train)\n",
        "KNN_prediction = KNN_model.predict(X_test)\n",
        "\n",
        "print('--------Applying RandomForestClassifier Classifier ----------')\n",
        "RF = RandomForestClassifier(max_depth=10, random_state=100)  \n",
        "RF.fit(X_train, y_train)\n",
        "RF_prediction = RF.predict(X_test)\n",
        "\n",
        "\n",
        "print('--------Applying AdaBoostClassifier Classifier ----------')\n",
        "AB = AdaBoostClassifier()\n",
        "AB.fit(X_train, y_train)\n",
        "AB_prediction = AB.predict(X_test)\n",
        "\n",
        "\n",
        "print('--------Applying LogisticRegression Classifier ----------')\n",
        "#LogR = LogisticRegression()\n",
        "LogR = linear_model.LogisticRegression()\n",
        "LogR.fit(X_train, y_train)\n",
        "LogR_prediction = LogR.predict(X_test)\n",
        "\n",
        "\n",
        "print('--------Applying DecisionTree Classifier ----------')\n",
        "DT = DecisionTreeClassifier(criterion = \"gini\", random_state = 100, max_depth=10, min_samples_leaf=5)\n",
        "DT.fit(X_train, y_train)\n",
        "DT_prediction = DT.predict(X_test)\n"
      ],
      "metadata": {
        "colab": {
          "base_uri": "https://localhost:8080/"
        },
        "id": "38E_F1bsndoS",
        "outputId": "72c686d5-79b6-49c3-a13a-f020dd74b6f7"
      },
      "execution_count": 94,
      "outputs": [
        {
          "output_type": "stream",
          "name": "stdout",
          "text": [
            "--------Applying GaussianNB Classifier ----------\n",
            "--------Applying KNeighborsClassifier Classifier ----------\n",
            "--------Applying RandomForestClassifier Classifier ----------\n",
            "--------Applying AdaBoostClassifier Classifier ----------\n",
            "--------Applying LogisticRegression Classifier ----------\n",
            "--------Applying DecisionTree Classifier ----------\n"
          ]
        },
        {
          "output_type": "stream",
          "name": "stderr",
          "text": [
            "/usr/local/lib/python3.7/dist-packages/sklearn/linear_model/_logistic.py:818: ConvergenceWarning: lbfgs failed to converge (status=1):\n",
            "STOP: TOTAL NO. of ITERATIONS REACHED LIMIT.\n",
            "\n",
            "Increase the number of iterations (max_iter) or scale the data as shown in:\n",
            "    https://scikit-learn.org/stable/modules/preprocessing.html\n",
            "Please also refer to the documentation for alternative solver options:\n",
            "    https://scikit-learn.org/stable/modules/linear_model.html#logistic-regression\n",
            "  extra_warning_msg=_LOGISTIC_SOLVER_CONVERGENCE_MSG,\n"
          ]
        }
      ]
    },
    {
      "cell_type": "code",
      "source": [
        "print('-------Performance Evaluation----------')\n",
        "#precision_score, recall_score, f1_score, accuracy_score\n",
        "results = []\n",
        "selector = 'LR'\n",
        "results.append((selector,'','', '',''))\n",
        "results.append(('Classifier','Accuracy','Precision', 'Recall','F1-Score'))\n",
        "results.append(('NB ', accuracy_score(y_test,  gnb_prediction)*100,\n",
        "                precision_score(y_test,  gnb_prediction,average='micro')*100,\n",
        "                recall_score(y_test,  gnb_prediction,average='micro')*100,\n",
        "                f1_score(y_test,  gnb_prediction,average='micro')*100))\n",
        "results.append(('KNN ', accuracy_score(y_test, KNN_prediction)*100,\n",
        "                precision_score(y_test, KNN_prediction,average='weighted')*100,\n",
        "                recall_score(y_test, KNN_prediction,average='weighted')*100,\n",
        "                f1_score(y_test, KNN_prediction,average='weighted')*100))\n",
        "results.append(('RF ', accuracy_score(y_test,  RF_prediction)*100,\n",
        "                precision_score(y_test,  RF_prediction,average='micro')*100,\n",
        "                recall_score(y_test,  RF_prediction,average='micro')*100,\n",
        "                f1_score(y_test,  RF_prediction,average='micro')*100))\n",
        "results.append(('AB ', accuracy_score(y_test,  AB_prediction)*100,\n",
        "                precision_score(y_test,  AB_prediction,average='micro')*100,\n",
        "                recall_score(y_test,  AB_prediction,average='micro')*100,\n",
        "                f1_score(y_test,  AB_prediction,average='micro')*100))\n",
        "results.append(('LogR ', accuracy_score(y_test,  LogR_prediction)*100,\n",
        "                precision_score(y_test,  LogR_prediction,average='micro')*100,\n",
        "                recall_score(y_test,  LogR_prediction,average='micro')*100,\n",
        "                f1_score(y_test,  LogR_prediction,average='micro')*100))\n",
        "results.append(('DT ', accuracy_score(y_test,  DT_prediction)*100,\n",
        "                precision_score(y_test,  DT_prediction,average='micro')*100,\n",
        "                recall_score(y_test,  DT_prediction,average='micro')*100,\n",
        "                f1_score(y_test,  DT_prediction,average='micro')*100))\n",
        "\n",
        "print('type(results): ', type(results))\n",
        "print('results: ', results)\n",
        "df_results = pd.DataFrame(results)\n",
        "print('type(df_results): ', type(df_results))\n",
        "print('df_results: ', df_results)"
      ],
      "metadata": {
        "colab": {
          "base_uri": "https://localhost:8080/"
        },
        "id": "j43ag9RPn7f5",
        "outputId": "86e42b57-2ed6-4977-c08e-b5ea5f867707"
      },
      "execution_count": 98,
      "outputs": [
        {
          "output_type": "stream",
          "name": "stdout",
          "text": [
            "-------Performance Evaluation----------\n",
            "type(results):  <class 'list'>\n",
            "results:  [('LR', '', '', '', ''), ('Classifier', 'Accuracy', 'Precision', 'Recall', 'F1-Score'), ('NB ', 64.0481245576787, 64.0481245576787, 64.0481245576787, 64.0481245576787), ('KNN ', 93.5456475583864, 93.4598051468939, 93.5456475583864, 93.44512692864588), ('RF ', 93.5517136791022, 93.5517136791022, 93.5517136791022, 93.5517136791022), ('AB ', 36.31988676574664, 36.31988676574664, 36.31988676574664, 36.319886765746645), ('LogR ', 85.08947528055808, 85.08947528055808, 85.08947528055808, 85.08947528055808), ('DT ', 93.49711859265999, 93.49711859265999, 93.49711859265999, 93.49711859266)]\n",
            "type(df_results):  <class 'pandas.core.frame.DataFrame'>\n",
            "df_results:              0          1          2          3          4\n",
            "0          LR                                            \n",
            "1  Classifier   Accuracy  Precision     Recall   F1-Score\n",
            "2         NB   64.048125  64.048125  64.048125  64.048125\n",
            "3        KNN   93.545648  93.459805  93.545648  93.445127\n",
            "4         RF   93.551714  93.551714  93.551714  93.551714\n",
            "5         AB   36.319887  36.319887  36.319887  36.319887\n",
            "6       LogR   85.089475  85.089475  85.089475  85.089475\n",
            "7         DT   93.497119  93.497119  93.497119  93.497119\n"
          ]
        }
      ]
    },
    {
      "cell_type": "code",
      "source": [
        "print('Confusion Matrix gnb_prediction')\n",
        "print(confusion_matrix(y_test,gnb_prediction))\n",
        "print('Confusion Matrix KNN_prediction')\n",
        "print(confusion_matrix(y_test,KNN_prediction))\n",
        "print('Confusion Matrix RF_prediction')\n",
        "print(confusion_matrix(y_test,RF_prediction))\n",
        "print('Confusion Matrix AB_prediction')\n",
        "print(confusion_matrix(y_test,AB_prediction))\n",
        "print('Confusion Matrix LogR_prediction')\n",
        "print(confusion_matrix(y_test,LogR_prediction))\n",
        "print('Confusion Matrix DT_prediction')\n",
        "print(confusion_matrix(y_test,DT_prediction))"
      ],
      "metadata": {
        "colab": {
          "base_uri": "https://localhost:8080/"
        },
        "id": "t55CMvqsoC4i",
        "outputId": "a0b669cf-dc21-4949-99d7-5cb8aa95fff7"
      },
      "execution_count": 99,
      "outputs": [
        {
          "output_type": "stream",
          "name": "stdout",
          "text": [
            "Confusion Matrix gnb_prediction\n",
            "[[  706  3127     6   440]\n",
            " [    2  2325     3   372]\n",
            " [   85  1881   531   831]\n",
            " [   27 11005     1 28113]]\n",
            "Confusion Matrix KNN_prediction\n",
            "[[ 3444    32    76   727]\n",
            " [   30  2086    85   501]\n",
            " [  439   167  2461   261]\n",
            " [  423   332   119 38272]]\n",
            "Confusion Matrix RF_prediction\n",
            "[[ 3500    63    61   655]\n",
            " [   54  2114    59   475]\n",
            " [  561   172  2284   311]\n",
            " [  421   272    85 38368]]\n",
            "Confusion Matrix AB_prediction\n",
            "[[ 3194    60   422   603]\n",
            " [  145  1422   182   953]\n",
            " [  676   279  1787   586]\n",
            " [  526     7 27054 11559]]\n",
            "Confusion Matrix LogR_prediction\n",
            "[[ 1267     1    24  2987]\n",
            " [  585   622     3  1492]\n",
            " [  538   246  1065  1479]\n",
            " [   11     4     4 39127]]\n",
            "Confusion Matrix DT_prediction\n",
            "[[ 3539   111    41   588]\n",
            " [   43  2095    87   477]\n",
            " [  526   198  2315   289]\n",
            " [  461   299    96 38290]]\n"
          ]
        }
      ]
    },
    {
      "cell_type": "code",
      "source": [
        ""
      ],
      "metadata": {
        "id": "SEA_WMg9oG3o"
      },
      "execution_count": null,
      "outputs": []
    }
  ]
}