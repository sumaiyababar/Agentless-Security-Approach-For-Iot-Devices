{
  "nbformat": 4,
  "nbformat_minor": 0,
  "metadata": {
    "colab": {
      "name": "FeautureSelectionFYP.ipynb",
      "provenance": [],
      "collapsed_sections": [],
      "authorship_tag": "ABX9TyPDZMLOzAV5MXCjAhOnHHSJ",
      "include_colab_link": true
    },
    "kernelspec": {
      "name": "python3",
      "display_name": "Python 3"
    },
    "language_info": {
      "name": "python"
    }
  },
  "cells": [
    {
      "cell_type": "markdown",
      "metadata": {
        "id": "view-in-github",
        "colab_type": "text"
      },
      "source": [
        "<a href=\"https://colab.research.google.com/github/sumaiyababar/Agentless-Security-Approach-For-Iot-Devices/blob/main/FeautureSelectionFYP.ipynb\" target=\"_parent\"><img src=\"https://colab.research.google.com/assets/colab-badge.svg\" alt=\"Open In Colab\"/></a>"
      ]
    },
    {
      "cell_type": "code",
      "execution_count": null,
      "metadata": {
        "colab": {
          "base_uri": "https://localhost:8080/"
        },
        "id": "qh6vnASvWW7l",
        "outputId": "797e5fb6-def2-4d6a-92d0-17cd890bee62"
      },
      "outputs": [
        {
          "output_type": "stream",
          "name": "stdout",
          "text": [
            "Mounted at /content/drive\n"
          ]
        }
      ],
      "source": [
        "from google.colab import drive\n",
        "drive.mount('/content/drive')"
      ]
    },
    {
      "cell_type": "code",
      "source": [
        "!cp -r /content/drive/MyDrive/ICUDatasetProcessed ."
      ],
      "metadata": {
        "id": "HBgNrLvkZOx9"
      },
      "execution_count": null,
      "outputs": []
    },
    {
      "cell_type": "code",
      "source": [
        "import os\n",
        "path = 'ICUDatasetProcessed/'\n",
        "csvs = os.listdir(path)\n",
        "csvs"
      ],
      "metadata": {
        "colab": {
          "base_uri": "https://localhost:8080/"
        },
        "id": "xXXkUAvxZgd0",
        "outputId": "cf64bc3c-7af6-45ec-8749-d3afa26873fd"
      },
      "execution_count": null,
      "outputs": [
        {
          "output_type": "execute_result",
          "data": {
            "text/plain": [
              "['Attack.csv',\n",
              " 'attack.csv',\n",
              " 'environmentMonitoring.csv',\n",
              " 'patientMonitoring.csv']"
            ]
          },
          "metadata": {},
          "execution_count": 3
        }
      ]
    },
    {
      "cell_type": "code",
      "source": [
        "import numpy as np  \n",
        "import pandas as pd\n",
        "import os \n",
        "from sklearn.model_selection import train_test_split\n",
        "from sklearn.datasets import make_classification\n",
        "from matplotlib import pyplot as plt\n",
        "from sklearn.linear_model import LogisticRegression\n",
        "from sklearn.model_selection import train_test_split\n",
        "from sklearn.metrics import confusion_matrix, ConfusionMatrixDisplay\n",
        "from sklearn.metrics import accuracy_score\n"
      ],
      "metadata": {
        "id": "ElwDEO3pZUqf"
      },
      "execution_count": null,
      "outputs": []
    },
    {
      "cell_type": "code",
      "source": [
        "df4 = pd.read_csv('/content/drive/MyDrive/ICUDatasetProcessed/attack.csv')\n",
        "df4.columns"
      ],
      "metadata": {
        "colab": {
          "base_uri": "https://localhost:8080/"
        },
        "id": "tCYNtOqsZcZY",
        "outputId": "f288cb78-7d84-48a2-ec57-c4ba59b9b8c3"
      },
      "execution_count": null,
      "outputs": [
        {
          "output_type": "stream",
          "name": "stderr",
          "text": [
            "/usr/local/lib/python3.7/dist-packages/IPython/core/interactiveshell.py:2882: DtypeWarning: Columns (28,30,37,42) have mixed types.Specify dtype option on import or set low_memory=False.\n",
            "  exec(code_obj, self.user_global_ns, self.user_ns)\n"
          ]
        },
        {
          "output_type": "execute_result",
          "data": {
            "text/plain": [
              "Index(['frame.time_delta', 'frame.time_relative', 'frame.len', 'ip.src',\n",
              "       'ip.dst', 'tcp.srcport', 'tcp.dstport', 'ip.proto', 'ip.ttl',\n",
              "       'tcp.flags', 'tcp.time_delta', 'tcp.len', 'tcp.ack',\n",
              "       'tcp.connection.fin', 'tcp.connection.rst', 'tcp.connection.synack',\n",
              "       'tcp.connection.syn', 'tcp.flags.ack', 'tcp.flags.fin',\n",
              "       'tcp.flags.push', 'tcp.flags.reset', 'tcp.flags.syn', 'tcp.flags.urg',\n",
              "       'tcp.hdr_len', 'tcp.payload', 'tcp.pdu.size', 'tcp.window_size_value',\n",
              "       'tcp.checksum', 'mqtt.clientid', 'mqtt.clientid_len',\n",
              "       'mqtt.conack.flags', 'mqtt.conack.val', 'mqtt.conflag.passwd',\n",
              "       'mqtt.conflag.qos', 'mqtt.conflag.reserved', 'mqtt.conflag.retain',\n",
              "       'mqtt.conflag.willflag', 'mqtt.conflags', 'mqtt.dupflag',\n",
              "       'mqtt.hdrflags', 'mqtt.kalive', 'mqtt.len', 'mqtt.msg', 'mqtt.msgtype',\n",
              "       'mqtt.qos', 'mqtt.retain', 'mqtt.topic', 'mqtt.topic_len', 'mqtt.ver',\n",
              "       'mqtt.willmsg_len', 'label'],\n",
              "      dtype='object')"
            ]
          },
          "metadata": {},
          "execution_count": 5
        }
      ]
    },
    {
      "cell_type": "code",
      "source": [
        "#data cleaning\n",
        "#run this cell if your data is not cleaned\n",
        "df4 = pd.DataFrame()\n",
        "\n",
        "for csv in csvs:\n",
        "  print(f'---- Reading {csv} ----')\n",
        "  df = pd.read_csv(path+csv)\n",
        "  print(f'df.shape: {df.shape}')\n",
        "  empty_cols = [col for col in df.columns if df[col].isnull().all()]\n",
        "  print(f'empty_cols: {len(empty_cols)}')\n",
        "  print(empty_cols)\n",
        "  df.fillna(0, inplace=True)\n",
        "  df4 = df4.append(df, ignore_index=True)\n",
        "  print(f'df1.shape: {df4.shape}')"
      ],
      "metadata": {
        "colab": {
          "base_uri": "https://localhost:8080/"
        },
        "id": "fUTw2uDuZqMx",
        "outputId": "77df57c6-a4c6-45ef-b7ba-648e559e9e6b"
      },
      "execution_count": null,
      "outputs": [
        {
          "output_type": "stream",
          "name": "stdout",
          "text": [
            "---- Reading patientMonitoring.csv ----\n"
          ]
        },
        {
          "output_type": "stream",
          "name": "stderr",
          "text": [
            "/usr/local/lib/python3.7/dist-packages/IPython/core/interactiveshell.py:2882: DtypeWarning: Columns (26,28,35) have mixed types.Specify dtype option on import or set low_memory=False.\n",
            "  exec(code_obj, self.user_global_ns, self.user_ns)\n"
          ]
        },
        {
          "output_type": "stream",
          "name": "stdout",
          "text": [
            "df.shape: (76810, 52)\n",
            "empty_cols: 0\n",
            "[]\n",
            "df1.shape: (430354, 53)\n",
            "---- Reading attack.csv ----\n"
          ]
        },
        {
          "output_type": "stream",
          "name": "stderr",
          "text": [
            "/usr/local/lib/python3.7/dist-packages/IPython/core/interactiveshell.py:2882: DtypeWarning: Columns (28,30,37,42) have mixed types.Specify dtype option on import or set low_memory=False.\n",
            "  exec(code_obj, self.user_global_ns, self.user_ns)\n"
          ]
        },
        {
          "output_type": "stream",
          "name": "stdout",
          "text": [
            "df.shape: (164850, 51)\n",
            "empty_cols: 0\n",
            "[]\n",
            "df1.shape: (595204, 53)\n",
            "---- Reading Attack.csv ----\n",
            "df.shape: (80126, 52)\n",
            "empty_cols: 0\n",
            "[]\n",
            "df1.shape: (675330, 53)\n",
            "---- Reading environmentMonitoring.csv ----\n",
            "df.shape: (31758, 52)\n",
            "empty_cols: 0\n",
            "[]\n",
            "df1.shape: (707088, 53)\n"
          ]
        }
      ]
    },
    {
      "cell_type": "code",
      "source": [
        "#Data Visualization\n",
        "import seaborn as s\n",
        "s.countplot(x='label',data=df4)"
      ],
      "metadata": {
        "colab": {
          "base_uri": "https://localhost:8080/",
          "height": 296
        },
        "id": "MPYSBXukZ56x",
        "outputId": "d6eb4786-499f-4dbd-e9fc-1cd2703110ee"
      },
      "execution_count": null,
      "outputs": [
        {
          "output_type": "execute_result",
          "data": {
            "text/plain": [
              "<matplotlib.axes._subplots.AxesSubplot at 0x7f050932fe90>"
            ]
          },
          "metadata": {},
          "execution_count": 6
        },
        {
          "output_type": "display_data",
          "data": {
            "text/plain": [
              "<Figure size 432x288 with 1 Axes>"
            ],
            "image/png": "[encoded data removed]"
          },
          "metadata": {
            "needs_background": "light"
          }
        }
      ]
    },
    {
      "cell_type": "code",
      "source": [
        "feats = ['ip.src', 'ip.dst', 'tcp.srcport', 'tcp.dstport','mqtt.topic', 'mqtt.msg', 'tcp.payload','mqtt.clientid', 'mqtt.conflags', 'mqtt.conack.flags']"
      ],
      "metadata": {
        "id": "GH7R0habgrDm"
      },
      "execution_count": null,
      "outputs": []
    },
    {
      "cell_type": "code",
      "source": [
        "df4.drop(labels=feats, axis=1, inplace=True)\n",
        "df4.shape"
      ],
      "metadata": {
        "colab": {
          "base_uri": "https://localhost:8080/"
        },
        "id": "XHH2cjuEgsQo",
        "outputId": "1fde7c59-4889-4af2-989c-af48593ea1b5"
      },
      "execution_count": null,
      "outputs": [
        {
          "output_type": "execute_result",
          "data": {
            "text/plain": [
              "(164850, 41)"
            ]
          },
          "metadata": {},
          "execution_count": 8
        }
      ]
    },
    {
      "cell_type": "code",
      "source": [
        "fs1 =  ['frame.time_delta', 'tcp.flags', 'tcp.time_delta', 'tcp.connection.rst', 'tcp.flags.ack', 'tcp.flags.push', 'tcp.flags.reset', 'tcp.hdr_len', \n",
        "        'mqtt.clientid_len', 'mqtt.hdrflags', 'mqtt.msgtype', 'mqtt.qos', 'mqtt.ver', 'ip.proto', 'ip.ttl', 'label']\n",
        "fs2 = ['frame.time_delta', 'tcp.time_delta', 'tcp.flags.ack', 'tcp.flags.push', 'tcp.flags.reset', 'mqtt.hdrflags', 'mqtt.msgtype', 'mqtt.qos', 'mqtt.retain', 'mqtt.ver', 'label']"
      ],
      "metadata": {
        "id": "atiKS5ncjpuG"
      },
      "execution_count": null,
      "outputs": []
    },
    {
      "cell_type": "code",
      "source": [
        "df4 = df4[fs2]\n",
        "df4.shape"
      ],
      "metadata": {
        "colab": {
          "base_uri": "https://localhost:8080/"
        },
        "id": "POSB9kfxjzyT",
        "outputId": "bc0c4bdf-56f4-47cc-b660-66fd8be263f1"
      },
      "execution_count": null,
      "outputs": [
        {
          "output_type": "execute_result",
          "data": {
            "text/plain": [
              "(164850, 11)"
            ]
          },
          "metadata": {},
          "execution_count": 11
        }
      ]
    },
    {
      "cell_type": "code",
      "source": [
        "from sklearn import preprocessing\n",
        "label_encoder = preprocessing.LabelEncoder()\n",
        "\n",
        "#df1['tcp.flags']= label_encoder.fit_transform(df1['tcp.flags'])\n",
        "#df1['tcp.checksum']= label_encoder.fit_transform(df1['tcp.checksum'])\n",
        "df4['mqtt.hdrflags']= label_encoder.fit_transform(df4['mqtt.hdrflags'])"
      ],
      "metadata": {
        "id": "6qt-eOpDj_zo"
      },
      "execution_count": null,
      "outputs": []
    },
    {
      "cell_type": "code",
      "source": [
        "X_train, X_test, y_train, y_test = train_test_split( df4.drop(labels=['label'], axis=1), df4['label'], \n",
        "                                                                            test_size=0.3, random_state=100)"
      ],
      "metadata": {
        "id": "Eu4VghEqkFa-"
      },
      "execution_count": null,
      "outputs": []
    },
    {
      "cell_type": "code",
      "source": [
        "from sklearn.feature_selection import SelectFromModel\n",
        "from sklearn.linear_model import LogisticRegression\n",
        "\n",
        "print('---------- SelectFromModel LogisticRegression -----------')\n",
        "embeded_LR_selector = SelectFromModel(LogisticRegression(penalty=\"l1\", solver='liblinear'), threshold='0.9*median',\n",
        "                                      max_features = 10)\n",
        "\n",
        "embeded_LR_selector.fit(X_train, y_train)\n",
        "embeded_LR_support = embeded_LR_selector.get_support()\n",
        "print('embeded_LR_support',embeded_LR_support)\n",
        "\n",
        "\n",
        "embeded_LR_feature = X_train.loc[:,embeded_LR_support].columns.tolist()\n",
        "\n",
        "print(len(embeded_LR_feature), 'selected features')\n",
        "print('embeded_LR_features: ', embeded_LR_feature)"
      ],
      "metadata": {
        "colab": {
          "base_uri": "https://localhost:8080/"
        },
        "id": "9UbO7-XYkKSg",
        "outputId": "7820ce97-9f1c-40a0-c7a9-dd6d002b17a1"
      },
      "execution_count": null,
      "outputs": [
        {
          "output_type": "stream",
          "name": "stdout",
          "text": [
            "---------- SelectFromModel LogisticRegression -----------\n",
            "embeded_LR_support [ True False False  True  True  True  True  True  True False]\n",
            "7 selected features\n",
            "embeded_LR_features:  ['frame.time_delta', 'tcp.flags.push', 'tcp.flags.reset', 'mqtt.hdrflags', 'mqtt.msgtype', 'mqtt.qos', 'mqtt.retain']\n"
          ]
        }
      ]
    },
    {
      "cell_type": "code",
      "source": [
        "fs1 =  ['frame.time_delta', 'tcp.flags', 'tcp.time_delta', 'tcp.connection.rst', 'tcp.flags.ack', 'tcp.flags.push', 'tcp.flags.reset', 'tcp.hdr_len', 'mqtt.clientid_len', 'mqtt.hdrflags', 'mqtt.msgtype', 'mqtt.qos', 'mqtt.ver', 'ip.proto', 'ip.ttl']\n",
        "# fs2 contained selected feautures except 'tcp.time_delta', 'tcp.flags.ack' (important )\n",
        "fs2 = ['frame.time_delta', 'tcp.time_delta', 'tcp.flags.ack', 'tcp.flags.push', 'tcp.flags.reset', 'mqtt.hdrflags', 'mqtt.msgtype', 'mqtt.qos', 'mqtt.retain', 'mqtt.ver']"
      ],
      "metadata": {
        "id": "8yvEbOA3lp4r"
      },
      "execution_count": null,
      "outputs": []
    },
    {
      "cell_type": "code",
      "source": [
        "## DATA NORMALIZATION (LABELS)\n",
        "\n",
        "raw_data = df4\n",
        "raw_data = raw_data.sort_values('label')\n",
        "raw_data = raw_data.reset_index()\n",
        "\n",
        "\n",
        "index0 = raw_data[raw_data['label'] == 1].index.values\n",
        "index1 = raw_data[raw_data['label'] == 2].index.values\n",
        "index2 = raw_data[raw_data['label'] == 3].index.values\n",
        "index3 = raw_data[raw_data['label'] == 4].index.values\n",
        "\n",
        "\n",
        "\n",
        "df_index0 = raw_data.iloc[int(min(index0)):int(max(index0)+1)]\n",
        "df_index1 = raw_data.iloc[int(min(index1)):int(max(index1)+1)]\n",
        "df_index2 = raw_data.iloc[int(min(index2)):int(max(index2)+1)]\n",
        "df_index3 = raw_data.iloc[int(min(index3)):int(max(index3)+1)]\n",
        "\n",
        "\n",
        "\n",
        "\n",
        "df_index0 = df_index0.append([df_index0]*20, ignore_index = True)\n",
        "df_index1 = df_index1.append([df_index1]*25, ignore_index = True)\n",
        "df_index2 = df_index2.append([df_index2]*25, ignore_index = True)\n",
        "df_index3 = df_index3.append([df_index3], ignore_index = True)\n",
        "\n",
        "\n",
        "frames = [raw_data,  df_index0, df_index1, df_index2, df_index3]\n",
        "\n",
        "final_data = pd.concat(frames)\n",
        "final_data.drop('index', inplace = True, axis = 1)\n",
        "final_data = final_data.sample(frac = 1)\n",
        "data = final_data.iloc[:,:-1]\n",
        "labels = final_data.iloc[:,-1:]"
      ],
      "metadata": {
        "id": "Vv1-nTrab6c6"
      },
      "execution_count": null,
      "outputs": []
    },
    {
      "cell_type": "code",
      "source": [
        "type_attack = ['bruteforce','slowite','malware','dos']\n",
        "counts = list(labels.value_counts())\n",
        "plt.figure(figsize = (8,6))\n",
        "s.barplot(x = type_attack, y = counts)"
      ],
      "metadata": {
        "colab": {
          "base_uri": "https://localhost:8080/",
          "height": 391
        },
        "id": "TVvEf5g7ba9G",
        "outputId": "690d5bbd-c2d5-4632-a860-afbb42bf277a"
      },
      "execution_count": null,
      "outputs": [
        {
          "output_type": "execute_result",
          "data": {
            "text/plain": [
              "<matplotlib.axes._subplots.AxesSubplot at 0x7f050b5bbb10>"
            ]
          },
          "metadata": {},
          "execution_count": 17
        },
        {
          "output_type": "display_data",
          "data": {
            "text/plain": [
              "<Figure size 576x432 with 1 Axes>"
            ],
            "image/png": "[encoded data removed]"
          },
          "metadata": {
            "needs_background": "light"
          }
        }
      ]
    },
    {
      "cell_type": "code",
      "source": [
        "from sklearn.naive_bayes import GaussianNB\n",
        "from sklearn.neighbors import KNeighborsClassifier\n",
        "from sklearn.ensemble import RandomForestClassifier, AdaBoostClassifier\n",
        "from sklearn import linear_model #Linear Regression\n",
        "#from sklearn.linear_model import LogisticRegression\n",
        "from sklearn.tree import DecisionTreeClassifier\n",
        "from sklearn.svm import SVC   #SVM\n",
        "\n",
        "from sklearn.metrics import confusion_matrix  \n",
        "from sklearn.metrics import precision_score, recall_score, f1_score, accuracy_score\n",
        "from sklearn.metrics import classification_report"
      ],
      "metadata": {
        "id": "6yfmfmWTebKf"
      },
      "execution_count": null,
      "outputs": []
    },
    {
      "cell_type": "code",
      "source": [
        "\n",
        "print('--------Applying GaussianNB Classifier ----------')\n",
        "gnb = GaussianNB()\n",
        "gnb_fit = gnb.fit(X_train, y_train)  \n",
        "gnb_prediction = gnb.predict(X_test) \n",
        "\n",
        "\n",
        "print('--------Applying KNeighborsClassifier Classifier ----------')\n",
        "KNN_model = KNeighborsClassifier(n_neighbors=5)\n",
        "KNN_model.fit(X_train, y_train)\n",
        "KNN_prediction = KNN_model.predict(X_test)\n",
        "\n",
        "print('--------Applying RandomForestClassifier Classifier ----------')\n",
        "RF = RandomForestClassifier(max_depth=10, random_state=100)  \n",
        "RF.fit(X_train, y_train)\n",
        "RF_prediction = RF.predict(X_test)\n",
        "\n",
        "\n",
        "print('--------Applying AdaBoostClassifier Classifier ----------')\n",
        "AB = AdaBoostClassifier()\n",
        "AB.fit(X_train, y_train)\n",
        "AB_prediction = AB.predict(X_test)\n",
        "\n",
        "\n",
        "print('--------Applying LogisticRegression Classifier ----------')\n",
        "#LogR = LogisticRegression()\n",
        "LogR = linear_model.LogisticRegression(multi_class='multinomial', max_iter=1000,solver=\"lbfgs\")\n",
        "LogR.fit(X_train, y_train)\n",
        "LogR_prediction = LogR.predict(X_test)\n",
        "\n",
        "\n",
        "print('--------Applying DecisionTree Classifier ----------')\n",
        "DT = DecisionTreeClassifier(criterion = \"gini\", random_state = 100, max_depth=10, min_samples_leaf=5)\n",
        "DT.fit(X_train, y_train)\n",
        "DT_prediction = DT.predict(X_test)\n"
      ],
      "metadata": {
        "colab": {
          "base_uri": "https://localhost:8080/"
        },
        "id": "38E_F1bsndoS",
        "outputId": "12ecb4b8-df18-4e09-dbf1-1af548153e94"
      },
      "execution_count": null,
      "outputs": [
        {
          "output_type": "stream",
          "name": "stdout",
          "text": [
            "--------Applying GaussianNB Classifier ----------\n",
            "--------Applying KNeighborsClassifier Classifier ----------\n",
            "--------Applying RandomForestClassifier Classifier ----------\n",
            "--------Applying AdaBoostClassifier Classifier ----------\n",
            "--------Applying LogisticRegression Classifier ----------\n",
            "--------Applying DecisionTree Classifier ----------\n"
          ]
        }
      ]
    },
    {
      "cell_type": "code",
      "source": [
        "print('-------Performance Evaluation----------')\n",
        "#precision_score, recall_score, f1_score, accuracy_score\n",
        "results = []\n",
        "selector = 'LR'\n",
        "results.append((selector,'','', '',''))\n",
        "results.append(('Classifier','Accuracy','Precision', 'Recall','F1-Score'))\n",
        "results.append(('NB ', accuracy_score(y_test,  gnb_prediction)*100,\n",
        "                precision_score(y_test,  gnb_prediction,average='micro')*100,\n",
        "                recall_score(y_test,  gnb_prediction,average='micro')*100,\n",
        "                f1_score(y_test,  gnb_prediction,average='micro')*100))\n",
        "results.append(('KNN ', accuracy_score(y_test, KNN_prediction)*100,\n",
        "                precision_score(y_test, KNN_prediction,average='weighted')*100,\n",
        "                recall_score(y_test, KNN_prediction,average='weighted')*100,\n",
        "                f1_score(y_test, KNN_prediction,average='weighted')*100))\n",
        "results.append(('RF ', accuracy_score(y_test,  RF_prediction)*100,\n",
        "                precision_score(y_test,  RF_prediction,average='micro')*100,\n",
        "                recall_score(y_test,  RF_prediction,average='micro')*100,\n",
        "                f1_score(y_test,  RF_prediction,average='micro')*100))\n",
        "results.append(('AB ', accuracy_score(y_test,  AB_prediction)*100,\n",
        "                precision_score(y_test,  AB_prediction,average='micro')*100,\n",
        "                recall_score(y_test,  AB_prediction,average='micro')*100,\n",
        "                f1_score(y_test,  AB_prediction,average='micro')*100))\n",
        "results.append(('LogR ', accuracy_score(y_test,  LogR_prediction)*100,\n",
        "                precision_score(y_test,  LogR_prediction,average='micro')*100,\n",
        "                recall_score(y_test,  LogR_prediction,average='micro')*100,\n",
        "                f1_score(y_test,  LogR_prediction,average='micro')*100))\n",
        "results.append(('DT ', accuracy_score(y_test,  DT_prediction)*100,\n",
        "                precision_score(y_test,  DT_prediction,average='micro')*100,\n",
        "                recall_score(y_test,  DT_prediction,average='micro')*100,\n",
        "                f1_score(y_test,  DT_prediction,average='micro')*100))\n",
        "\n",
        "print('type(results): ', type(results))\n",
        "print('results: ', results)\n",
        "df_results = pd.DataFrame(results)\n",
        "print('type(df_results): ', type(df_results))\n",
        "print('df_results: ', df_results)"
      ],
      "metadata": {
        "colab": {
          "base_uri": "https://localhost:8080/"
        },
        "id": "j43ag9RPn7f5",
        "outputId": "3b78c72b-45d2-4ffd-d499-d5c0446e7de3"
      },
      "execution_count": null,
      "outputs": [
        {
          "output_type": "stream",
          "name": "stdout",
          "text": [
            "-------Performance Evaluation----------\n",
            "type(results):  <class 'list'>\n",
            "results:  [('LR', '', '', '', ''), ('Classifier', 'Accuracy', 'Precision', 'Recall', 'F1-Score'), ('NB ', 64.0481245576787, 64.0481245576787, 64.0481245576787, 64.0481245576787), ('KNN ', 93.5456475583864, 93.4598051468939, 93.5456475583864, 93.44512692864588), ('RF ', 93.5517136791022, 93.5517136791022, 93.5517136791022, 93.5517136791022), ('AB ', 36.31988676574664, 36.31988676574664, 36.31988676574664, 36.319886765746645), ('LogR ', 85.08745324031948, 85.08745324031948, 85.08745324031948, 85.08745324031946), ('DT ', 93.49711859265999, 93.49711859265999, 93.49711859265999, 93.49711859266)]\n",
            "type(df_results):  <class 'pandas.core.frame.DataFrame'>\n",
            "df_results:              0          1          2          3          4\n",
            "0          LR                                            \n",
            "1  Classifier   Accuracy  Precision     Recall   F1-Score\n",
            "2         NB   64.048125  64.048125  64.048125  64.048125\n",
            "3        KNN   93.545648  93.459805  93.545648  93.445127\n",
            "4         RF   93.551714  93.551714  93.551714  93.551714\n",
            "5         AB   36.319887  36.319887  36.319887  36.319887\n",
            "6       LogR   85.087453  85.087453  85.087453  85.087453\n",
            "7         DT   93.497119  93.497119  93.497119  93.497119\n"
          ]
        }
      ]
    },
    {
      "cell_type": "code",
      "source": [
        "print('Confusion Matrix gnb_prediction')\n",
        "print(confusion_matrix(y_test,gnb_prediction))\n",
        "print('Confusion Matrix KNN_prediction')\n",
        "print(confusion_matrix(y_test,KNN_prediction))\n",
        "print('Confusion Matrix RF_prediction')\n",
        "print(confusion_matrix(y_test,RF_prediction))\n",
        "print('Confusion Matrix AB_prediction')\n",
        "print(confusion_matrix(y_test,AB_prediction))\n",
        "print('Confusion Matrix LogR_prediction')\n",
        "print(confusion_matrix(y_test,LogR_prediction))\n",
        "print('Confusion Matrix DT_prediction')\n",
        "print(confusion_matrix(y_test,DT_prediction))"
      ],
      "metadata": {
        "colab": {
          "base_uri": "https://localhost:8080/"
        },
        "id": "t55CMvqsoC4i",
        "outputId": "5e7767e5-d212-4b68-81dd-e52db820323c"
      },
      "execution_count": null,
      "outputs": [
        {
          "output_type": "stream",
          "name": "stdout",
          "text": [
            "Confusion Matrix gnb_prediction\n",
            "[[  706  3127     6   440]\n",
            " [    2  2325     3   372]\n",
            " [   85  1881   531   831]\n",
            " [   27 11005     1 28113]]\n",
            "Confusion Matrix KNN_prediction\n",
            "[[ 3444    32    76   727]\n",
            " [   30  2086    85   501]\n",
            " [  439   167  2461   261]\n",
            " [  423   332   119 38272]]\n",
            "Confusion Matrix RF_prediction\n",
            "[[ 3500    63    61   655]\n",
            " [   54  2114    59   475]\n",
            " [  561   172  2284   311]\n",
            " [  421   272    85 38368]]\n",
            "Confusion Matrix AB_prediction\n",
            "[[ 3194    60   422   603]\n",
            " [  145  1422   182   953]\n",
            " [  676   279  1787   586]\n",
            " [  526     7 27054 11559]]\n",
            "Confusion Matrix LogR_prediction\n",
            "[[ 1267     1    24  2987]\n",
            " [  585   622     3  1492]\n",
            " [  538   246  1064  1480]\n",
            " [   11     4     4 39127]]\n",
            "Confusion Matrix DT_prediction\n",
            "[[ 3539   111    41   588]\n",
            " [   43  2095    87   477]\n",
            " [  526   198  2315   289]\n",
            " [  461   299    96 38290]]\n"
          ]
        }
      ]
    },
    {
      "cell_type": "markdown",
      "source": [
        "**GENERATING HEAT MAPS FOR THE RANDOM FORWST MODEL**"
      ],
      "metadata": {
        "id": "ke6xpePfyFgR"
      }
    },
    {
      "cell_type": "code",
      "source": [
        "cm=confusion_matrix(y_test,RF_prediction)\n",
        "dt=confusion_matrix(y_test,DT_prediction)\n",
        "lr=confusion_matrix(y_test,LogR_prediction)\n",
        "knn=confusion_matrix(y_test,KNN_prediction)\n",
        "nb=confusion_matrix(y_test,gnb_prediction)\n",
        "ab=confusion_matrix(y_test,AB_prediction)\n"
      ],
      "metadata": {
        "id": "SEA_WMg9oG3o"
      },
      "execution_count": null,
      "outputs": []
    },
    {
      "cell_type": "code",
      "source": [
        "cmd_object=ConfusionMatrixDisplay(cm)\n",
        "dt_object=ConfusionMatrixDisplay(dt)\n",
        "lr_object=ConfusionMatrixDisplay(lr)\n",
        "knn_object=ConfusionMatrixDisplay(knn)\n",
        "nb_object=ConfusionMatrixDisplay(nb)\n",
        "ab_object=ConfusionMatrixDisplay(ab)\n"
      ],
      "metadata": {
        "id": "yf_dyuqNzIiR"
      },
      "execution_count": null,
      "outputs": []
    },
    {
      "cell_type": "markdown",
      "source": [
        "**Confusion Matrix for Random Forest**"
      ],
      "metadata": {
        "id": "c6lWLBjDS5C8"
      }
    },
    {
      "cell_type": "code",
      "source": [
        "cmd_object.plot()"
      ],
      "metadata": {
        "colab": {
          "base_uri": "https://localhost:8080/",
          "height": 296
        },
        "id": "eA5QEI3tzB2-",
        "outputId": "fba0911d-1be0-44e9-fec7-d18cb83e40e8"
      },
      "execution_count": null,
      "outputs": [
        {
          "output_type": "execute_result",
          "data": {
            "text/plain": [
              "<sklearn.metrics._plot.confusion_matrix.ConfusionMatrixDisplay at 0x7f050a9ccc10>"
            ]
          },
          "metadata": {},
          "execution_count": 27
        },
        {
          "output_type": "display_data",
          "data": {
            "text/plain": [
              "<Figure size 432x288 with 2 Axes>"
            ],
            "image/png": "[encoded data removed]"
          },
          "metadata": {
            "needs_background": "light"
          }
        }
      ]
    },
    {
      "cell_type": "code",
      "source": [
        "cmd_object.ax_.set(\n",
        "    title='Confusion Matrix with Labels',\n",
        "    xlabel='Predicted Attacks',\n",
        "    ylabel='Actual Attacks'\n",
        ")"
      ],
      "metadata": {
        "id": "gxIrN7u8z5JM",
        "colab": {
          "base_uri": "https://localhost:8080/"
        },
        "outputId": "2f8bb0e0-9e2f-445d-8b39-696ad2690ee3"
      },
      "execution_count": null,
      "outputs": [
        {
          "output_type": "execute_result",
          "data": {
            "text/plain": [
              "[Text(17.19999999999999, 0.5, 'Actual Attacks'),\n",
              " Text(0.5, 17.200000000000003, 'Predicted Attacks'),\n",
              " Text(0.5, 1.0, 'Confusion Matrix with Labels')]"
            ]
          },
          "metadata": {},
          "execution_count": 28
        }
      ]
    },
    {
      "cell_type": "code",
      "source": [
        "ax=s.heatmap(cm,annot=True,fmt='g')"
      ],
      "metadata": {
        "colab": {
          "base_uri": "https://localhost:8080/",
          "height": 265
        },
        "id": "PwB9vn6_0RsS",
        "outputId": "5c0936b8-f84d-4333-9e8f-1e9d8c1f6e58"
      },
      "execution_count": null,
      "outputs": [
        {
          "output_type": "display_data",
          "data": {
            "text/plain": [
              "<Figure size 432x288 with 2 Axes>"
            ],
            "image/png": "[encoded data removed]"
          },
          "metadata": {
            "needs_background": "light"
          }
        }
      ]
    },
    {
      "cell_type": "code",
      "source": [
        "ax.set_title('Seaborn Confusion matrix with Labels')\n",
        "ax.set_xlabel('Predicted Attack')\n",
        "ax.set_ylabel('Actual Attack')\n",
        "ax.xaxis.set_ticklabels(['bruteforce','slowite','malware','dos'])\n",
        "ax.yaxis.set_ticklabels(['bruteforce','slowite','malware','dos'])"
      ],
      "metadata": {
        "colab": {
          "base_uri": "https://localhost:8080/"
        },
        "id": "II1hCTNS1-Pt",
        "outputId": "0983cf76-4e88-40b9-8215-779dcca43e19"
      },
      "execution_count": null,
      "outputs": [
        {
          "output_type": "execute_result",
          "data": {
            "text/plain": [
              "[Text(0, 0.5, 'bruteforce'),\n",
              " Text(0, 1.5, 'slowite'),\n",
              " Text(0, 2.5, 'malware'),\n",
              " Text(0, 3.5, 'dos')]"
            ]
          },
          "metadata": {},
          "execution_count": 30
        }
      ]
    },
    {
      "cell_type": "markdown",
      "source": [
        "# Saving ML Model "
      ],
      "metadata": {
        "id": "AUEpFuE1UdOc"
      }
    },
    {
      "cell_type": "code",
      "source": [
        "import pickle\n",
        "with open('model','wb') as f:\n",
        "  pickle.dump(RF,f)"
      ],
      "metadata": {
        "id": "3iMf4gFsUlBu"
      },
      "execution_count": null,
      "outputs": []
    },
    {
      "cell_type": "code",
      "source": [
        "#Recall the store model for future session\n",
        "import pickle\n",
        "with open('model',f):\n",
        "  model=pickle.load(f)"
      ],
      "metadata": {
        "id": "zgD-w02mX-pX"
      },
      "execution_count": null,
      "outputs": []
    },
    {
      "cell_type": "markdown",
      "source": [
        "Method no 2"
      ],
      "metadata": {
        "id": "FNf1vsheX_ak"
      }
    },
    {
      "cell_type": "code",
      "source": [
        "#pickle.dump(RF, open('model.pkl','wb'))"
      ],
      "metadata": {
        "id": "tKY-j0OxUqo0"
      },
      "execution_count": null,
      "outputs": []
    },
    {
      "cell_type": "code",
      "source": [
        "# Loading model to compare the results\n",
        "#model = pickle.load(open('model.pkl','rb'))"
      ],
      "metadata": {
        "id": "6zcNHtAwUt77"
      },
      "execution_count": null,
      "outputs": []
    }
  ]
}